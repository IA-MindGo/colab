{
  "nbformat": 4,
  "nbformat_minor": 0,
  "metadata": {
    "colab": {
      "provenance": [],
      "authorship_tag": "ABX9TyMh5JBJirEBwe+tCMbxowE2",
      "include_colab_link": true
    },
    "kernelspec": {
      "name": "python3",
      "display_name": "Python 3"
    },
    "language_info": {
      "name": "python"
    }
  },
  "cells": [
    {
      "cell_type": "markdown",
      "metadata": {
        "id": "view-in-github",
        "colab_type": "text"
      },
      "source": [
        "<a href=\"https://colab.research.google.com/github/IA-MindGo/colab/blob/main/Assignment_16(part_1).ipynb\" target=\"_parent\"><img src=\"https://colab.research.google.com/assets/colab-badge.svg\" alt=\"Open In Colab\"/></a>"
      ]
    },
    {
      "cell_type": "markdown",
      "source": [
        "Create a Book class with attributes: title, author, and pages. Instantiate and print book details.\n",
        "\n",
        "Add a method summary() to return a short description of the book.\n",
        "\n",
        "Create a method is_lengthy() that returns True if pages > 300, else False.\n",
        "\n",
        "Create an Author class with name and bio attributes, and a method introduce() that prints their intro.\n",
        "\n",
        "Add a class variable language = \"English\" in the Book class. Access it from different instances.\n",
        "\n",
        "➕ Additional Challenges:\n",
        "\n",
        "Create two Book instances and check if they are equal using == and explain the output.\n",
        "\n",
        "Create a Library class with a list of books and a method to add new books.\n",
        "\n",
        "Write a method in Library to count total pages of all books.\n",
        "\n",
        "Override _repr_() in the Book class to return a formatted book reference.\n",
        "\n",
        "Use the type() and id() functions on an object and explain what they return.\n",
        "\n"
      ],
      "metadata": {
        "id": "9LwaOqhu1rui"
      }
    },
    {
      "cell_type": "code",
      "execution_count": 10,
      "metadata": {
        "colab": {
          "base_uri": "https://localhost:8080/"
        },
        "id": "_ZY1nWao1LfF",
        "outputId": "fdf25562-784f-4c4b-a80d-8d41af6da9b6"
      },
      "outputs": [
        {
          "output_type": "stream",
          "name": "stdout",
          "text": [
            "The Great Gatsby by F. Scott Fitzgerald\n",
            "To Kill a Mockingbird by Harper Lee\n",
            "\n",
            "Is book 1 lengthy? False\n",
            "Is book 2 lengthy? False\n",
            "\n",
            "book1.repr(): The Great Gatsby by F. Scott Fitzgerald\n",
            "book2.repr(): To Kill a Mockingbird by Harper Lee\n",
            "\n",
            "Hi, I'm Jane Austen. English novelist and poet\n",
            "\n",
            "Language of book1: English\n",
            "Language of book2: English\n",
            "\n",
            "Equality of book1 and book2: False\n",
            "\n",
            "Books in library are : [The Great Gatsby by F. Scott Fitzgerald, To Kill a Mockingbird by Harper Lee]\n",
            "Total pages of all books in the library: 461\n",
            "\n",
            "Type of book1: <class '__main__.Book'>\n",
            "ID of book1: 134080048272272\n"
          ]
        }
      ],
      "source": [
        "class Book:\n",
        "    language = \"English\"\n",
        "    def __init__(self, title, author, pages):\n",
        "        self.title = title\n",
        "        self.author = author\n",
        "        self.pages = pages\n",
        "\n",
        "    def summary(self):\n",
        "        return f\"{self.title} by {self.author}\"\n",
        "\n",
        "    def is_lengthy(self):\n",
        "        return self.pages > 300\n",
        "\n",
        "    def __eq__(self, other):\n",
        "        return self.title == other.title and self.author == other.author\n",
        "\n",
        "    def __repr__(self):\n",
        "        return f\"{self.title} by {self.author}\"\n",
        "\n",
        "class Author:\n",
        "    def __init__(self, name, bio):\n",
        "        self.name = name\n",
        "        self.bio = bio\n",
        "\n",
        "    def introduce(self):\n",
        "        print(f\"Hi, I'm {self.name}. {self.bio}\")\n",
        "\n",
        "class Library:\n",
        "    def __init__(self):\n",
        "        self.books = []\n",
        "\n",
        "    def add_book(self, book):\n",
        "        self.books.append(book)\n",
        "\n",
        "    def total_pages(self):\n",
        "        return sum(book.pages for book in self.books)\n",
        "\n",
        "book1 = Book(\"The Great Gatsby\", \"F. Scott Fitzgerald\", 180)\n",
        "book2 = Book(\"To Kill a Mockingbird\", \"Harper Lee\", 281)\n",
        "\n",
        "print(book1.summary())\n",
        "print(book2.summary())\n",
        "print(f\"\\nIs book 1 lengthy? {book1.is_lengthy()}\")\n",
        "print(f\"Is book 2 lengthy? {book2.is_lengthy()}\\n\")\n",
        "print(f\"book1.repr(): {book1.__repr__()}\")\n",
        "print(f\"book2.repr(): {book2.__repr__()}\\n\")\n",
        "\n",
        "author1 = Author(\"Jane Austen\", \"English novelist and poet\")\n",
        "author1.introduce()\n",
        "\n",
        "print(f\"\\nLanguage of book1: {book1.language}\")\n",
        "print(f\"Language of book2: {book2.language}\\n\")\n",
        "\n",
        "print(f\"Equality of book1 and book2: {book1 == book2}\\n\")\n",
        "\n",
        "library = Library()\n",
        "library.add_book(book1)\n",
        "library.add_book(book2)\n",
        "print(f\"Books in library are : {library.books}\")\n",
        "print(f\"Total pages of all books in the library: {library.total_pages()}\\n\")\n",
        "\n",
        "print(f\"Type of book1: {type(book1)}\")\n",
        "print(f\"ID of book1: {id(book1)}\")"
      ]
    }
  ]
}