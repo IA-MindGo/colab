{
  "nbformat": 4,
  "nbformat_minor": 0,
  "metadata": {
    "colab": {
      "provenance": [],
      "authorship_tag": "ABX9TyM6Miv2FvGleKgX1P55Lvfv",
      "include_colab_link": true
    },
    "kernelspec": {
      "name": "python3",
      "display_name": "Python 3"
    },
    "language_info": {
      "name": "python"
    }
  },
  "cells": [
    {
      "cell_type": "markdown",
      "metadata": {
        "id": "view-in-github",
        "colab_type": "text"
      },
      "source": [
        "<a href=\"https://colab.research.google.com/github/IA-MindGo/colab/blob/main/Python_Crash_Course_Ch2_Ch3_Practice_ISMA_AMJAD_pynb.ipynb\" target=\"_parent\"><img src=\"https://colab.research.google.com/assets/colab-badge.svg\" alt=\"Open In Colab\"/></a>"
      ]
    },
    {
      "cell_type": "markdown",
      "source": [
        "                                                               ASSIGNMENT#15"
      ],
      "metadata": {
        "id": "b2RE7osfSmUC"
      }
    },
    {
      "cell_type": "markdown",
      "source": [
        "create a variable called 'greeting' and store any message. print it."
      ],
      "metadata": {
        "id": "lmLR82naUzKu"
      }
    },
    {
      "cell_type": "code",
      "execution_count": null,
      "metadata": {
        "colab": {
          "base_uri": "https://localhost:8080/"
        },
        "id": "CI1npsUGUyBA",
        "outputId": "6965161d-d57c-4e96-83cc-d7e7933faac6"
      },
      "outputs": [
        {
          "output_type": "stream",
          "name": "stdout",
          "text": [
            "Welcome to python\n"
          ]
        }
      ],
      "source": [
        "greeting = \"Welcome to python\"\n",
        "print(greeting)"
      ]
    },
    {
      "cell_type": "markdown",
      "source": [
        "update the value of greeting and print it."
      ],
      "metadata": {
        "id": "1jF-apzJVLzc"
      }
    },
    {
      "cell_type": "code",
      "source": [
        "greeting=\"Welcome to python\"\n",
        "print(greeting)\n",
        "greeting=greeting.replace(\"Welcome to python\",\"congratulation\")\n",
        "print(greeting)"
      ],
      "metadata": {
        "colab": {
          "base_uri": "https://localhost:8080/"
        },
        "collapsed": true,
        "id": "_RvunK9rVg0F",
        "outputId": "d7d31fd6-3bef-4f84-b651-1162052d0f65"
      },
      "execution_count": null,
      "outputs": [
        {
          "output_type": "stream",
          "name": "stdout",
          "text": [
            "Welcome to python\n",
            "congratulation\n"
          ]
        }
      ]
    },
    {
      "cell_type": "markdown",
      "source": [
        "create two variables first_name and last_name and combine them in full name using f-string."
      ],
      "metadata": {
        "id": "NysFA675YA1c"
      }
    },
    {
      "cell_type": "code",
      "source": [
        "first_name = \"isma\"\n",
        "last_name = \"amjad\"\n",
        "print(f\"Full name is {first_name} {last_name}\")"
      ],
      "metadata": {
        "colab": {
          "base_uri": "https://localhost:8080/"
        },
        "id": "CHuqZOKkYxow",
        "outputId": "d5a963b2-63d9-4c06-bcdb-9f167369fc84"
      },
      "execution_count": null,
      "outputs": [
        {
          "output_type": "stream",
          "name": "stdout",
          "text": [
            "Full name is isma amjad\n"
          ]
        }
      ]
    },
    {
      "cell_type": "markdown",
      "source": [
        "Print a famous quote with author’s name using f-string.\n"
      ],
      "metadata": {
        "id": "H_UXEW69ZUqN"
      }
    },
    {
      "cell_type": "code",
      "source": [
        "quote=\"If you can change your mind, you can change your life.\"\n",
        "author=\"William james\"\n",
        "print(f\"{quote}\\n \\t\\t\\t {author}\")"
      ],
      "metadata": {
        "colab": {
          "base_uri": "https://localhost:8080/"
        },
        "id": "XymgO-6xGc8K",
        "outputId": "978b0ce2-8bb0-461e-feaf-54ca367be471"
      },
      "execution_count": null,
      "outputs": [
        {
          "output_type": "stream",
          "name": "stdout",
          "text": [
            "If you can change your mind, you can change your life.\n",
            " \t\t\t William james\n"
          ]
        }
      ]
    },
    {
      "cell_type": "markdown",
      "source": [
        "Store a name with extra spaces, strip them, and print clean output.\n"
      ],
      "metadata": {
        "id": "loAF44G2I8pZ"
      }
    },
    {
      "cell_type": "code",
      "source": [
        "name=\"  isma amjad   \"\n",
        "name=name.strip( )\n",
        "print(f\"Name without extra spaces is \\n{name}\")"
      ],
      "metadata": {
        "colab": {
          "base_uri": "https://localhost:8080/"
        },
        "id": "bi3bArHGJBEV",
        "outputId": "f1b7dbdf-bbad-4936-a528-d7d26178c8e8"
      },
      "execution_count": null,
      "outputs": [
        {
          "output_type": "stream",
          "name": "stdout",
          "text": [
            "Name without extra spaces is \n",
            "isma amjad\n"
          ]
        }
      ]
    },
    {
      "cell_type": "markdown",
      "source": [
        "Take a number, add 5, multiply by 2, subtract 3, and print the result.\n"
      ],
      "metadata": {
        "id": "TCEdEr_UJiBi"
      }
    },
    {
      "cell_type": "code",
      "source": [
        "num=10\n",
        "result=(num+5)*2-3\n",
        "print(f\"The result is {result}\")"
      ],
      "metadata": {
        "colab": {
          "base_uri": "https://localhost:8080/"
        },
        "id": "ilh54GkKJoCY",
        "outputId": "42fc77a5-04d3-4bb3-e478-b72e05d18cf5"
      },
      "execution_count": null,
      "outputs": [
        {
          "output_type": "stream",
          "name": "stdout",
          "text": [
            "The result is 27\n"
          ]
        }
      ]
    },
    {
      "cell_type": "markdown",
      "source": [
        "Create a and b; print their sum, difference, product, and quotient.\n"
      ],
      "metadata": {
        "id": "8Djior01J2s2"
      }
    },
    {
      "cell_type": "code",
      "source": [
        "a=200\n",
        "b=35\n",
        "print(f\"The sum is {a+b}\")\n",
        "print(f\"The difference is {a-b}\")\n",
        "print(f\"The product is {a*b}\")\n",
        "print(f\"The quotient is {a/b}\")\n"
      ],
      "metadata": {
        "colab": {
          "base_uri": "https://localhost:8080/"
        },
        "id": "aHEZwkK-K0vk",
        "outputId": "6b2dfaa6-9be7-4004-f81b-2ad752c46e41"
      },
      "execution_count": null,
      "outputs": [
        {
          "output_type": "stream",
          "name": "stdout",
          "text": [
            "The sum is 235\n",
            "The difference is 165\n",
            "The product is 7000\n",
            "The quotient is 5.714285714285714\n"
          ]
        }
      ]
    },
    {
      "cell_type": "markdown",
      "source": [
        "Find square and cube of a number using ** operator.\n"
      ],
      "metadata": {
        "id": "dvwaNzhtLARB"
      }
    },
    {
      "cell_type": "code",
      "source": [
        "a=5\n",
        "print(f\"The square of {a} is {a**2} and The cube is {a**3}\")\n"
      ],
      "metadata": {
        "colab": {
          "base_uri": "https://localhost:8080/"
        },
        "id": "Zpuce769LFtK",
        "outputId": "b0e99b3b-40a7-45b4-8ca9-019fab95410e"
      },
      "execution_count": null,
      "outputs": [
        {
          "output_type": "stream",
          "name": "stdout",
          "text": [
            "The square of 5 is 25 and The cube is 125\n"
          ]
        }
      ]
    },
    {
      "cell_type": "markdown",
      "source": [
        "Add three floating-point numbers and print the total.\n"
      ],
      "metadata": {
        "id": "TdmGHM1PLRsy"
      }
    },
    {
      "cell_type": "code",
      "source": [
        "f1=35.4\n",
        "f2=36.7\n",
        "f3=565.0\n",
        "print(f\"The total is {f1+f2+f3}\")"
      ],
      "metadata": {
        "colab": {
          "base_uri": "https://localhost:8080/"
        },
        "id": "-GYzM7rULVtt",
        "outputId": "4d1862c6-591c-4cee-aedb-c9e9e7527474"
      },
      "execution_count": null,
      "outputs": [
        {
          "output_type": "stream",
          "name": "stdout",
          "text": [
            "The total is 637.1\n"
          ]
        }
      ]
    },
    {
      "cell_type": "markdown",
      "source": [
        "Assign x, y, z in one line and print them.\n",
        "\n"
      ],
      "metadata": {
        "id": "LWlsIHo7LlKH"
      }
    },
    {
      "cell_type": "code",
      "source": [
        "x,y,z=10,20,30\n",
        "print(f\"The value of x is {x}, y is {y} and z is {z}\")"
      ],
      "metadata": {
        "colab": {
          "base_uri": "https://localhost:8080/"
        },
        "id": "YO1jyRqqLpMr",
        "outputId": "428d22ec-1e8d-4a09-89e3-31400cef4c8b"
      },
      "execution_count": null,
      "outputs": [
        {
          "output_type": "stream",
          "name": "stdout",
          "text": [
            "The value of x is 10, y is 20 and z is 30\n"
          ]
        }
      ]
    },
    {
      "cell_type": "markdown",
      "source": [
        " Create a list of 5 favorite fruits and print each one separately.\n"
      ],
      "metadata": {
        "id": "tMxqvoRQL0qv"
      }
    },
    {
      "cell_type": "code",
      "source": [
        "fruits=[\"Apple\",\"cherry\",\"banana\",\"kiwi\",\"mango\"]\n",
        "for fruit in fruits:\n",
        "  print(fruit)"
      ],
      "metadata": {
        "colab": {
          "base_uri": "https://localhost:8080/"
        },
        "id": "J4jAte-FL8yD",
        "outputId": "bcea99f7-3302-4482-a14e-2fb42fd10ca4"
      },
      "execution_count": null,
      "outputs": [
        {
          "output_type": "stream",
          "name": "stdout",
          "text": [
            "Apple\n",
            "cherry\n",
            "banana\n",
            "kiwi\n",
            "mango\n"
          ]
        }
      ]
    },
    {
      "cell_type": "markdown",
      "source": [
        "Modify the 2nd item in the list and print the updated list.\n"
      ],
      "metadata": {
        "id": "3V_hZ3wfOz7w"
      }
    },
    {
      "cell_type": "code",
      "source": [
        "fruits=[\"Apple\",\"cherry\",\"banana\",\"kiwi\",\"mango\"]\n",
        "fruits[1]=\"orange\"\n",
        "print(fruits)"
      ],
      "metadata": {
        "colab": {
          "base_uri": "https://localhost:8080/"
        },
        "id": "Pef3KjX0O6dx",
        "outputId": "b29f1842-6a0d-4eed-a516-91e78fec4cf7"
      },
      "execution_count": null,
      "outputs": [
        {
          "output_type": "stream",
          "name": "stdout",
          "text": [
            "['Apple', 'orange', 'banana', 'kiwi', 'mango']\n"
          ]
        }
      ]
    },
    {
      "cell_type": "markdown",
      "source": [
        "Append a new fruit and insert one at the beginning.\n"
      ],
      "metadata": {
        "id": "wepT7YsXPIXF"
      }
    },
    {
      "cell_type": "code",
      "source": [
        "fruits=[\"Apple\",\"cherry\",\"banana\",\"kiwi\",\"mango\"]\n",
        "fruits.append(\"orange\")\n",
        "fruits.insert(0,\"grapes\")\n",
        "print(fruits)"
      ],
      "metadata": {
        "colab": {
          "base_uri": "https://localhost:8080/"
        },
        "id": "pkxebcrXPKQi",
        "outputId": "d407fbf3-a5f8-444b-cf15-830504f03371"
      },
      "execution_count": null,
      "outputs": [
        {
          "output_type": "stream",
          "name": "stdout",
          "text": [
            "['grapes', 'Apple', 'cherry', 'banana', 'kiwi', 'mango', 'orange']\n"
          ]
        }
      ]
    },
    {
      "cell_type": "markdown",
      "source": [
        " Delete items using del, pop(), and remove().\n"
      ],
      "metadata": {
        "id": "Hdy8GoYAPdJ9"
      }
    },
    {
      "cell_type": "code",
      "source": [
        "fruits=[\"Apple\",\"cherry\",\"banana\",\"kiwi\",\"mango\"]\n",
        "del fruits[1]\n",
        "print(f\"list of fruits after using del function is \\n{fruits}\")\n",
        "fruits.pop(2)\n",
        "print(f\"\\nlist of fruits after using pop function is \\n{fruits}\")\n",
        "fruits.remove(\"mango\")\n",
        "print(f\"\\nlist of fruits after using remove function is \\n{fruits}\")"
      ],
      "metadata": {
        "colab": {
          "base_uri": "https://localhost:8080/"
        },
        "id": "pRSGVIeIPmi1",
        "outputId": "7e075322-9541-4026-c286-0b96d3ec9a1a"
      },
      "execution_count": null,
      "outputs": [
        {
          "output_type": "stream",
          "name": "stdout",
          "text": [
            "list of fruits after using del function is \n",
            "['Apple', 'banana', 'kiwi', 'mango']\n",
            "\n",
            "list of fruits after using pop function is \n",
            "['Apple', 'banana', 'mango']\n",
            "\n",
            "list of fruits after using remove function is \n",
            "['Apple', 'banana']\n"
          ]
        }
      ]
    },
    {
      "cell_type": "markdown",
      "source": [
        "Use sort() and sorted() to sort the list. Show before and after.\n"
      ],
      "metadata": {
        "id": "ZswF3ygjQoRf"
      }
    },
    {
      "cell_type": "code",
      "source": [
        "list=[1,3,5,6,4,2,33.9,67.0]\n",
        "print(f\"The list before using sort function is \\n{list}\")\n",
        "list.sort()\n",
        "print(f\"\\nThe list after using sort function is \\n{list}\")\n",
        "print(f\"\\nThe list before using sorted function is \\n{list}\")\n",
        "sorted(list)\n",
        "print(f\"\\nThe list after using sorted function is \\n{list}\")"
      ],
      "metadata": {
        "colab": {
          "base_uri": "https://localhost:8080/"
        },
        "id": "8wr1w658Qsy7",
        "outputId": "b3037520-9f10-499b-ff47-fd09ec8f0873"
      },
      "execution_count": null,
      "outputs": [
        {
          "output_type": "stream",
          "name": "stdout",
          "text": [
            "The list before using sort function is \n",
            "[1, 3, 5, 6, 4, 2, 33.9, 67.0]\n",
            "\n",
            "The list after using sort function is \n",
            "[1, 2, 3, 4, 5, 6, 33.9, 67.0]\n",
            "\n",
            "The list before using sorted function is \n",
            "[1, 2, 3, 4, 5, 6, 33.9, 67.0]\n",
            "\n",
            "The list after using sorted function is \n",
            "[1, 2, 3, 4, 5, 6, 33.9, 67.0]\n"
          ]
        }
      ]
    },
    {
      "cell_type": "markdown",
      "source": [
        "Create a list of dream travel destinations:\n",
        "  - Sort alphabetically\n",
        "  - Reverse the order\n",
        "  - Count total destinations"
      ],
      "metadata": {
        "id": "uamfub65RSl7"
      }
    },
    {
      "cell_type": "code",
      "source": [
        "destination=[\"saudi arabia\",\"Switzerland\",\"japan\",\"china\",\"kawit\"]\n",
        "print(f\"The destination list is\\n \\t\\t\\t{destination}\")\n",
        "print(f\"The sorted list is \\n\\t\\t\\t{sorted(destination)} \")\n",
        "print(f\"\\nThe reverse list is \\n\\t\\t\\t{destination[::-1]}\")\n",
        "print(f\"\\nThe total destinations in the list are \\n {len(destination)}\")"
      ],
      "metadata": {
        "id": "t1iRf5zj79rT",
        "colab": {
          "base_uri": "https://localhost:8080/"
        },
        "outputId": "cbdd8915-a751-43a5-b345-caf6baf88dce"
      },
      "execution_count": null,
      "outputs": [
        {
          "output_type": "stream",
          "name": "stdout",
          "text": [
            "The destination list is\n",
            " \t\t\t['saudi arabia', 'Switzerland', 'japan', 'china', 'kawit']\n",
            "The sorted list is \n",
            "\t\t\t['Switzerland', 'china', 'japan', 'kawit', 'saudi arabia'] \n",
            "\n",
            "The reverse list is \n",
            "\t\t\t['kawit', 'china', 'japan', 'Switzerland', 'saudi arabia']\n",
            "\n",
            "The total destinations in the list are \n",
            " 5\n"
          ]
        }
      ]
    },
    {
      "cell_type": "markdown",
      "source": [
        "Start with an empty guest list:\n",
        "  - Append 3 guests\n",
        "  - Insert 1 at the beginning\n",
        "  - Remove one using pop()\n",
        "  - Print final list\n"
      ],
      "metadata": {
        "id": "K-4YeFg5Ym4n"
      }
    },
    {
      "cell_type": "code",
      "source": [
        "guests=[]\n",
        "guests.append(\"isma\")\n",
        "guests.append(\"talha\")\n",
        "guests.append(\"fatimah\")\n",
        "print(f\"The guests list after appending 3 guests member is \\n{guests}\")\n",
        "guests.insert(0,\"rashid\")\n",
        "print(f\"\\nThe guests list after inserting one new member at the start  is \\n{guests}\")\n",
        "guests.pop(1)\n",
        "print(f\"\\nThe final list after using pop function is \\n{guests}\")"
      ],
      "metadata": {
        "colab": {
          "base_uri": "https://localhost:8080/"
        },
        "id": "jGQVJECkY0lo",
        "outputId": "f783e3fe-6214-45af-ca10-3fe002beb8a1"
      },
      "execution_count": null,
      "outputs": [
        {
          "output_type": "stream",
          "name": "stdout",
          "text": [
            "The guests list after appending 3 guests member is \n",
            "['isma', 'talha', 'fatimah']\n",
            "\n",
            "The guests list after inserting one new member at the start  is \n",
            "['rashid', 'isma', 'talha', 'fatimah']\n",
            "\n",
            "The final list after using pop function is \n",
            "['rashid', 'talha', 'fatimah']\n"
          ]
        }
      ]
    },
    {
      "cell_type": "markdown",
      "source": [
        "Access the last 3 elements of a list without negative indexing.\n"
      ],
      "metadata": {
        "id": "Ggk1xi_QZ7yr"
      }
    },
    {
      "cell_type": "code",
      "source": [
        "num=[23,34,56,77,54,33,21]\n",
        "l=len(num)\n",
        "print(f\"The last 3 elements of the list are \\n{num[l-3:l]}\")"
      ],
      "metadata": {
        "colab": {
          "base_uri": "https://localhost:8080/"
        },
        "id": "4l-JX3TKaDJO",
        "outputId": "56cb1252-eb09-4ab7-e1d8-68f46c3fae54"
      },
      "execution_count": null,
      "outputs": [
        {
          "output_type": "stream",
          "name": "stdout",
          "text": [
            "The last 3 elements of the list are \n",
            "[54, 33, 21]\n"
          ]
        }
      ]
    },
    {
      "cell_type": "markdown",
      "source": [
        "From a list of numbers, print only even numbers.\n",
        "\n"
      ],
      "metadata": {
        "id": "tiK-M6pmcRca"
      }
    },
    {
      "cell_type": "code",
      "source": [
        "number=[2,4,5,6,7,8,9,3,1,88,76,55,33,11]\n",
        "print(f\"The even numbers in the list are \\n\")\n",
        "for i in number:\n",
        "  if(i%2==0):\n",
        "    print(i)"
      ],
      "metadata": {
        "colab": {
          "base_uri": "https://localhost:8080/"
        },
        "id": "6m-009bBcYbW",
        "outputId": "82b982e6-222f-409f-de8d-4f0b6b38ba38"
      },
      "execution_count": null,
      "outputs": [
        {
          "output_type": "stream",
          "name": "stdout",
          "text": [
            "The even numbers in the list are \n",
            "\n",
            "2\n",
            "4\n",
            "6\n",
            "8\n",
            "88\n",
            "76\n"
          ]
        }
      ]
    },
    {
      "cell_type": "markdown",
      "source": [
        "Print squares of the first 10 natural numbers in a list.\n"
      ],
      "metadata": {
        "id": "ohqY18rqdyHt"
      }
    },
    {
      "cell_type": "code",
      "source": [
        "natural_number=[1,2,3,4,5,6,7,8,9,10]\n",
        "print(f\"The of first 10 natural numbers in the list are:\\n\")\n",
        "for i in natural_number:\n",
        "  print(i**2)"
      ],
      "metadata": {
        "colab": {
          "base_uri": "https://localhost:8080/"
        },
        "id": "lK14k6RId2gR",
        "outputId": "4f29b739-fd45-449e-edf4-80e8d4b7b929"
      },
      "execution_count": null,
      "outputs": [
        {
          "output_type": "stream",
          "name": "stdout",
          "text": [
            "The of first 10 natural numbers in the list are:\n",
            "\n",
            "1\n",
            "4\n",
            "9\n",
            "16\n",
            "25\n",
            "36\n",
            "49\n",
            "64\n",
            "81\n",
            "100\n"
          ]
        }
      ]
    },
    {
      "cell_type": "markdown",
      "source": [
        "Ask the user for 5 favorite movies.\n",
        "\n",
        "Store them in a list.\n",
        "\n",
        "Print them sorted alphabetically.\n"
      ],
      "metadata": {
        "id": "X2SwMblZfa4H"
      }
    },
    {
      "cell_type": "code",
      "source": [
        "movies=[]\n",
        "for i in range(1,6):\n",
        "  movie=input(f\"{i}. Enter your favorite movie :\\n\")\n",
        "  movies.append(movie)\n",
        "print(f\"\\nThe movies list without sort is \\n{movies}\")\n",
        "print(\"Movies name in sorted order are:\")\n",
        "print(sorted(movies))"
      ],
      "metadata": {
        "colab": {
          "base_uri": "https://localhost:8080/"
        },
        "id": "f9UbaryXfhda",
        "outputId": "c0be303f-712f-4765-fe3b-d3b50a0f59d7"
      },
      "execution_count": null,
      "outputs": [
        {
          "output_type": "stream",
          "name": "stdout",
          "text": [
            "1. Enter your favorite movie :\n",
            "race1\n",
            "2. Enter your favorite movie :\n",
            "race2\n",
            "3. Enter your favorite movie :\n",
            "race3\n",
            "4. Enter your favorite movie :\n",
            "dhoom 1\n",
            "5. Enter your favorite movie :\n",
            "dhoom2\n",
            "\n",
            "The movies list without sort is \n",
            "['race1', 'race2', 'race3', 'dhoom 1', 'dhoom2']\n",
            "Movies name in sorted order are:\n",
            "['dhoom 1', 'dhoom2', 'race1', 'race2', 'race3']\n"
          ]
        }
      ]
    }
  ]
}