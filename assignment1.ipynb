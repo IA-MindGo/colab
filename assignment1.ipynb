{
  "nbformat": 4,
  "nbformat_minor": 0,
  "metadata": {
    "colab": {
      "provenance": [],
      "authorship_tag": "ABX9TyP7jG6XDmZRTQ/M989rD56X",
      "include_colab_link": true
    },
    "kernelspec": {
      "name": "python3",
      "display_name": "Python 3"
    },
    "language_info": {
      "name": "python"
    }
  },
  "cells": [
    {
      "cell_type": "markdown",
      "metadata": {
        "id": "view-in-github",
        "colab_type": "text"
      },
      "source": [
        "<a href=\"https://colab.research.google.com/github/IA-MindGo/colab/blob/main/assignment1.ipynb\" target=\"_parent\"><img src=\"https://colab.research.google.com/assets/colab-badge.svg\" alt=\"Open In Colab\"/></a>"
      ]
    },
    {
      "cell_type": "code",
      "execution_count": null,
      "metadata": {
        "colab": {
          "base_uri": "https://localhost:8080/"
        },
        "id": "-VJTHVc9Azur",
        "outputId": "d3be40bc-3f21-464f-96bf-b57c31ebe60d"
      },
      "outputs": [
        {
          "output_type": "stream",
          "name": "stdout",
          "text": [
            "isma amjad\n"
          ]
        }
      ],
      "source": [
        "#print your name using print() function\n",
        "print(\"isma amjad\")"
      ]
    },
    {
      "cell_type": "code",
      "source": [
        "#create a variable for age and print it\n",
        "\n",
        "age=36\n",
        "print(\"AGE=\", age)"
      ],
      "metadata": {
        "colab": {
          "base_uri": "https://localhost:8080/"
        },
        "id": "FVct1b5mBtNv",
        "outputId": "a52d69cb-7cc4-437f-933f-0d3336173f99"
      },
      "execution_count": null,
      "outputs": [
        {
          "output_type": "stream",
          "name": "stdout",
          "text": [
            "AGE= 36\n"
          ]
        }
      ]
    },
    {
      "cell_type": "code",
      "source": [
        "#store school or institute name in a variable and print it\n",
        "\n",
        "ins=\"AI HUB\"\n",
        "print(\"INSTITUTION NAME IS\", ins)"
      ],
      "metadata": {
        "colab": {
          "base_uri": "https://localhost:8080/"
        },
        "id": "EmUfkDv2CZz1",
        "outputId": "2df7e7c5-0182-4ad1-ee2a-445200f1e7c1"
      },
      "execution_count": null,
      "outputs": [
        {
          "output_type": "stream",
          "name": "stdout",
          "text": [
            "INSTITUTION NAME IS AI HUB\n"
          ]
        }
      ]
    },
    {
      "cell_type": "code",
      "source": [
        "#add two numbers using variables and print the result\n",
        "\n",
        "a=5\n",
        "b=10\n",
        "sum=a+b\n",
        "print(\"Addition of two numbers\",a,\"and\",b, \"is\", sum)"
      ],
      "metadata": {
        "colab": {
          "base_uri": "https://localhost:8080/"
        },
        "id": "umo3GTAXDKZt",
        "outputId": "d363fdf2-04ac-477c-d132-206e3ed3b50a"
      },
      "execution_count": null,
      "outputs": [
        {
          "output_type": "stream",
          "name": "stdout",
          "text": [
            "Addition of two numbers 5 and 10 is 15\n"
          ]
        }
      ]
    },
    {
      "cell_type": "code",
      "source": [
        "#store your name in a variable and print a greeting massage\n",
        "\n",
        "name=\"isma amjad\"\n",
        "print(\"Welcome to the institution \",name)"
      ],
      "metadata": {
        "colab": {
          "base_uri": "https://localhost:8080/"
        },
        "id": "Vlk2up3YD3wO",
        "outputId": "b490fef6-95bb-4edf-c001-29135b1ab708"
      },
      "execution_count": null,
      "outputs": [
        {
          "output_type": "stream",
          "name": "stdout",
          "text": [
            "Welcome to the institution  isma amjad\n"
          ]
        }
      ]
    },
    {
      "cell_type": "code",
      "source": [
        "#declare a variable for your city and print where you live\n",
        "\n",
        "city=\"Rahwali Cantt. Gujranwala\"\n",
        "print(\"I live in\",city)"
      ],
      "metadata": {
        "colab": {
          "base_uri": "https://localhost:8080/"
        },
        "id": "g4tXIXzAIGnF",
        "outputId": "80b51e56-8c17-4ddf-eb95-4aef76e30a2f"
      },
      "execution_count": null,
      "outputs": [
        {
          "output_type": "stream",
          "name": "stdout",
          "text": [
            "I live in Rahwali Cantt. Gujranwala\n"
          ]
        }
      ]
    },
    {
      "cell_type": "code",
      "source": [
        "#use multiple variables like name age and city and print a full sentence\n",
        "\n",
        "name=\"Isma Amjad\"\n",
        "age=36\n",
        "city=\"Rahwali Cantt. Gujranwala\"\n",
        "print(\"My name is\",name,\"i'm\",age,\"years old and from\",city)"
      ],
      "metadata": {
        "colab": {
          "base_uri": "https://localhost:8080/"
        },
        "id": "_2vs5shqJEqs",
        "outputId": "73665e5c-91a5-4413-8e1d-b989c2a67ee2"
      },
      "execution_count": null,
      "outputs": [
        {
          "output_type": "stream",
          "name": "stdout",
          "text": [
            "My name is Isma Amjad i'm 36 years old and from Rahwali Cantt. Gujranwala\n"
          ]
        }
      ]
    },
    {
      "cell_type": "code",
      "source": [
        "#perfom subtraction between two numbers using variables and print the result\n",
        "\n",
        "a=10\n",
        "b=6\n",
        "sub=a-b\n",
        "print(\"Subtraction of two numbers\",a,\"and\",b, \"is\",sub)"
      ],
      "metadata": {
        "colab": {
          "base_uri": "https://localhost:8080/"
        },
        "id": "37VjC3JsKkc7",
        "outputId": "49831801-a496-4935-fccd-42d678d46a43"
      },
      "execution_count": null,
      "outputs": [
        {
          "output_type": "stream",
          "name": "stdout",
          "text": [
            "Subtraction of two numbers 10 and 6 is 4\n"
          ]
        }
      ]
    },
    {
      "cell_type": "code",
      "source": [
        "#store a motivational quote and print it\n",
        "\n",
        "quote=\"'WORK SMARTER NOT HARDER'\"\n",
        "print(\"Quote that suits AI best is\",quote)"
      ],
      "metadata": {
        "colab": {
          "base_uri": "https://localhost:8080/"
        },
        "id": "T3E1-NdsLmO-",
        "outputId": "9ae4f64e-146e-4cd2-9675-ec33139ea28d"
      },
      "execution_count": null,
      "outputs": [
        {
          "output_type": "stream",
          "name": "stdout",
          "text": [
            "Quote that suits AI best is 'WORK SMARTER NOT HARDER'\n"
          ]
        }
      ]
    },
    {
      "cell_type": "code",
      "source": [
        "#create a variable for your favourite subject and print it\n",
        "\n",
        "sub=\"Artificial Intelligence\"\n",
        "print(\"My favourite subject is\",sub)"
      ],
      "metadata": {
        "colab": {
          "base_uri": "https://localhost:8080/"
        },
        "id": "jffV0XqnNOL-",
        "outputId": "603a6742-5771-44a8-e59f-f192e6d94d51"
      },
      "execution_count": null,
      "outputs": [
        {
          "output_type": "stream",
          "name": "stdout",
          "text": [
            "My favourite subject is Artificial Intelligence\n"
          ]
        }
      ]
    }
  ]
}