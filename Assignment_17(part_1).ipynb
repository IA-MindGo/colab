{
  "nbformat": 4,
  "nbformat_minor": 0,
  "metadata": {
    "colab": {
      "provenance": [],
      "authorship_tag": "ABX9TyOU/wUSdCCNBeMpEWebOmQL",
      "include_colab_link": true
    },
    "kernelspec": {
      "name": "python3",
      "display_name": "Python 3"
    },
    "language_info": {
      "name": "python"
    }
  },
  "cells": [
    {
      "cell_type": "markdown",
      "metadata": {
        "id": "view-in-github",
        "colab_type": "text"
      },
      "source": [
        "<a href=\"https://colab.research.google.com/github/IA-MindGo/colab/blob/main/Assignment_17(part_1).ipynb\" target=\"_parent\"><img src=\"https://colab.research.google.com/assets/colab-badge.svg\" alt=\"Open In Colab\"/></a>"
      ]
    },
    {
      "cell_type": "markdown",
      "source": [
        "Use inheritance by creating a Vehicle class with methods like move(); then subclass Car and Boat to extend.\n",
        "\n",
        "Demonstrate method overriding by redefining move() behavior in Car and Boat.\n",
        "\n",
        "Implement polymorphism by creating a function describe_move(obj) that works for both Car and Boat."
      ],
      "metadata": {
        "id": "A93SAylZeRry"
      }
    },
    {
      "cell_type": "code",
      "execution_count": 28,
      "metadata": {
        "colab": {
          "base_uri": "https://localhost:8080/"
        },
        "id": "XVeEQFphd9Kb",
        "outputId": "971a2fd4-847d-461f-93cf-572cd717d6d5"
      },
      "outputs": [
        {
          "output_type": "stream",
          "name": "stdout",
          "text": [
            "Car is moving...\n",
            "Boat is moving...\n"
          ]
        }
      ],
      "source": [
        "class Vehicle:\n",
        "    def move(self):\n",
        "        print(\"Moving...\")\n",
        "\n",
        "class Car(Vehicle):\n",
        "    def move(self):\n",
        "        print(\"Car is moving...\")\n",
        "\n",
        "class Boat(Vehicle):\n",
        "    def move(self):\n",
        "        print(\"Boat is moving...\")\n",
        "\n",
        "def describe_move(obj):\n",
        "    obj.move()\n",
        "\n",
        "car = Car()\n",
        "boat = Boat()\n",
        "\n",
        "describe_move(car)\n",
        "describe_move(boat)\n"
      ]
    },
    {
      "cell_type": "markdown",
      "source": [
        "Use operator overloading (_add_) in a Vector class to support vector addition using +."
      ],
      "metadata": {
        "id": "4tTbM5r0j_3u"
      }
    },
    {
      "cell_type": "code",
      "source": [
        "class Vector:\n",
        "    def __init__(self, x, y):\n",
        "        self.x = x\n",
        "        self.y = y\n",
        "    def __add__(self, other):\n",
        "        return Vector(self.x + other.x, self.y + other.y)\n",
        "\n",
        "v1 = Vector(1, 2)\n",
        "v2 = Vector(3, 4)\n",
        "v3 = v1 + v2\n",
        "print(f\"Addition of the vectors {(v1.x,v1.y)} and {(v2.x,v2.y)} is {(v3.x, v3.y)}\")"
      ],
      "metadata": {
        "colab": {
          "base_uri": "https://localhost:8080/"
        },
        "id": "DgDy3lOekUOp",
        "outputId": "039694fb-2bc1-4ee3-f81a-45276c48f4ae"
      },
      "execution_count": 31,
      "outputs": [
        {
          "output_type": "stream",
          "name": "stdout",
          "text": [
            "Addition of the vectors (1, 2) and (3, 4) is (4, 6)\n"
          ]
        }
      ]
    },
    {
      "cell_type": "markdown",
      "source": [
        "Apply decorators to log every method call in a sample class."
      ],
      "metadata": {
        "id": "xCZ9RnT2kK-9"
      }
    },
    {
      "cell_type": "code",
      "source": [
        "\n",
        "def log_method_call(func):\n",
        "    def wrapper(*args, **kwargs):\n",
        "        print(f\"Calling {func.__name__} with args={args[1:]}, kwargs={kwargs}\")\n",
        "        result = func(*args, **kwargs)\n",
        "        print(f\"Finished {func.__name__}\")\n",
        "        return result\n",
        "    return wrapper\n",
        "\n",
        "\n",
        "class Sample:\n",
        "    def __init__(self, name):\n",
        "        self.name = name\n",
        "\n",
        "    @log_method_call\n",
        "    def greet(self, message):\n",
        "        print(f\"{self.name} says: {message}\")\n",
        "\n",
        "\n",
        "# Demo\n",
        "s = Sample(\"Alice\")\n",
        "s.greet(\"Hello, World!\")"
      ],
      "metadata": {
        "colab": {
          "base_uri": "https://localhost:8080/"
        },
        "id": "ACoHc-HykVU6",
        "outputId": "70b18bc1-ac57-4d19-f9a7-901af5cb4dd2"
      },
      "execution_count": 41,
      "outputs": [
        {
          "output_type": "stream",
          "name": "stdout",
          "text": [
            "Calling greet with args=('Hello, World!',), kwargs={}\n",
            "Alice says: Hello, World!\n",
            "Finished greet\n"
          ]
        }
      ]
    },
    {
      "cell_type": "markdown",
      "source": [
        "Implement method overloading behavior using default parameters or *args/kwargs."
      ],
      "metadata": {
        "id": "_yWqEc-OkNDN"
      }
    },
    {
      "cell_type": "code",
      "source": [
        "class MathOps:\n",
        "    def add(self, *args):  # Accepts any number of arguments\n",
        "        if len(args) == 0:\n",
        "            return 0\n",
        "        elif len(args) == 1:\n",
        "            return args[0]\n",
        "        else:\n",
        "            return sum(args)\n",
        "\n",
        "\n",
        "math = MathOps()\n",
        "print(\"Addition of numbers if not provided is \",math.add())\n",
        "print(\"Addition of just one number which is 5 is \",math.add(5))\n",
        "print(\"Addition of more than one number is \",math.add(1, 2, 3))"
      ],
      "metadata": {
        "colab": {
          "base_uri": "https://localhost:8080/"
        },
        "id": "o4v3jWPOkWGB",
        "outputId": "48e40831-4ec9-4757-a454-81f89e12b915"
      },
      "execution_count": 44,
      "outputs": [
        {
          "output_type": "stream",
          "name": "stdout",
          "text": [
            "Addition of numbers if not provided is  0\n",
            "Addition of just one number which is 5 is  5\n",
            "Addition of more than one number is  6\n"
          ]
        }
      ]
    },
    {
      "cell_type": "markdown",
      "source": [
        "Create a Shape abstract class using abc module with an abstract method area(), then subclass Circle and Square.\n",
        "\n",
        "Override _str_() in both shapes to return friendly descriptions."
      ],
      "metadata": {
        "id": "4Iw9XBHkfXv_"
      }
    },
    {
      "cell_type": "code",
      "source": [
        "from abc import ABC, abstractmethod\n",
        "import datetime\n",
        "\n",
        "class Shape(ABC):\n",
        "    @abstractmethod\n",
        "    def area(self):\n",
        "        pass\n",
        "\n",
        "class Circle(Shape):\n",
        "    def __init__(self, radius):\n",
        "        self.radius = radius\n",
        "    def area(self):\n",
        "        return 3.14 * self.radius**2\n",
        "    def __str__(self):\n",
        "        return f\"Area of circle with radius {self.radius} is {self.area()}\"\n",
        "\n",
        "class Square(Shape):\n",
        "    def __init__(self, side):\n",
        "        self.side = side\n",
        "    def area(self):\n",
        "        return self.side**2\n",
        "    def __str__(self):\n",
        "        return f\"Area of square with side {self.side} is {self.area()}\"\n",
        "\n",
        "circle = Circle(5)\n",
        "square = Square(4)\n",
        "\n",
        "print(circle.__str__())\n",
        "print(square.__str__())\n"
      ],
      "metadata": {
        "colab": {
          "base_uri": "https://localhost:8080/"
        },
        "id": "t6038hHjfaVY",
        "outputId": "f705c779-6a53-4d49-8b77-e4424e39a295"
      },
      "execution_count": 16,
      "outputs": [
        {
          "output_type": "stream",
          "name": "stdout",
          "text": [
            "Area of circle with radius 5 is 78.5\n",
            "Area of square with side 4 is 16\n"
          ]
        }
      ]
    },
    {
      "cell_type": "markdown",
      "source": [
        "Use magic methods (_len_()) in a custom Group class to return size."
      ],
      "metadata": {
        "id": "PbXLPXICmK29"
      }
    },
    {
      "cell_type": "code",
      "source": [
        "class Group:\n",
        "    def __init__(self, members):\n",
        "        self.members = members\n",
        "    def __len__(self):\n",
        "        print(f\"Lenth of the group with member {self.members} is:\")\n",
        "        return len(self.members)\n",
        "\n",
        "group = Group([\"Alice\", \"Bob\", \"Charlie\"])\n",
        "print(len(group))"
      ],
      "metadata": {
        "colab": {
          "base_uri": "https://localhost:8080/"
        },
        "id": "NfY0xn9RrFI4",
        "outputId": "74aeef24-98fe-4451-e9e3-0ed43b20afeb"
      },
      "execution_count": 21,
      "outputs": [
        {
          "output_type": "stream",
          "name": "stdout",
          "text": [
            "Lenth of the group with member ['Alice', 'Bob', 'Charlie'] is:\n",
            "3\n"
          ]
        }
      ]
    },
    {
      "cell_type": "markdown",
      "source": [
        "Apply a class decorator that adds a created_at timestamp attribute to classes upon instantiation using datetime.now()."
      ],
      "metadata": {
        "id": "R_qHlDT9mORl"
      }
    },
    {
      "cell_type": "code",
      "source": [
        "from datetime import datetime\n",
        "\n",
        "def created_at(cls):\n",
        "    original_init = cls.__init__\n",
        "    def new_init(self, *args, **kwargs):\n",
        "        self.created_at = datetime.now()\n",
        "        original_init(self, *args, **kwargs)\n",
        "    cls.__init__ = new_init\n",
        "    return cls\n",
        "\n",
        "@created_at\n",
        "class Person:\n",
        "    def __init__(self, name):\n",
        "        self.name = name\n",
        "\n",
        "person = Person(\"Alice\")\n",
        "print(person.name, \"created at \", person.created_at)"
      ],
      "metadata": {
        "colab": {
          "base_uri": "https://localhost:8080/"
        },
        "id": "9vJ0vMdjmZdh",
        "outputId": "b19ab629-eace-4401-979c-aab56b20eb8e"
      },
      "execution_count": 27,
      "outputs": [
        {
          "output_type": "stream",
          "name": "stdout",
          "text": [
            "Alice created at  2025-08-26 18:50:25.283170\n"
          ]
        }
      ]
    }
  ]
}