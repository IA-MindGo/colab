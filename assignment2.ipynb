{
  "nbformat": 4,
  "nbformat_minor": 0,
  "metadata": {
    "colab": {
      "provenance": [],
      "authorship_tag": "ABX9TyPOKF82JNXHJj1YxJv2v4Ot",
      "include_colab_link": true
    },
    "kernelspec": {
      "name": "python3",
      "display_name": "Python 3"
    },
    "language_info": {
      "name": "python"
    }
  },
  "cells": [
    {
      "cell_type": "markdown",
      "metadata": {
        "id": "view-in-github",
        "colab_type": "text"
      },
      "source": [
        "<a href=\"https://colab.research.google.com/github/IA-MindGo/colab/blob/main/assignment2.ipynb\" target=\"_parent\"><img src=\"https://colab.research.google.com/assets/colab-badge.svg\" alt=\"Open In Colab\"/></a>"
      ]
    },
    {
      "cell_type": "markdown",
      "source": [
        "Declare a variable name age and assign it an integer value of 25.\n",
        "print the value of age and its data type using the type function."
      ],
      "metadata": {
        "id": "nNqlpDrIeH1X"
      }
    },
    {
      "cell_type": "code",
      "source": [
        "age :int=25\n",
        "print(type(age),\"Age=\",age)"
      ],
      "metadata": {
        "colab": {
          "base_uri": "https://localhost:8080/"
        },
        "id": "vbO5Se4Ieli-",
        "outputId": "2d75390a-ac44-4d68-ed25-dc19d37580ee"
      },
      "execution_count": null,
      "outputs": [
        {
          "output_type": "stream",
          "name": "stdout",
          "text": [
            "<class 'int'> Age= 25\n"
          ]
        }
      ]
    },
    {
      "cell_type": "markdown",
      "source": [
        "create a variable called temprature and assign it a float value of 98.6.\n",
        "print the value of temprature and its data type."
      ],
      "metadata": {
        "id": "He5rcKpXem2a"
      }
    },
    {
      "cell_type": "code",
      "source": [
        "temprature:float=98.6\n",
        "print(type(temprature),\"temprature=\",temprature)"
      ],
      "metadata": {
        "colab": {
          "base_uri": "https://localhost:8080/"
        },
        "id": "9v7rzNVMe_nh",
        "outputId": "06c1dc6c-1002-4334-8566-baffe2e99204"
      },
      "execution_count": null,
      "outputs": [
        {
          "output_type": "stream",
          "name": "stdout",
          "text": [
            "<class 'float'> temprature= 98.6\n"
          ]
        }
      ]
    },
    {
      "cell_type": "markdown",
      "source": [
        "declare a variable named complex_num and assign it a complex number with real part 3 and imaginary part 4 (i.e 3+4j).\n",
        "print the value of  complex_num and its data type."
      ],
      "metadata": {
        "id": "VzkYgWOTfANH"
      }
    },
    {
      "cell_type": "code",
      "source": [
        "complex_num:complex=3+4j\n",
        "print(type(complex_num),\"complex_num=\",complex_num)"
      ],
      "metadata": {
        "colab": {
          "base_uri": "https://localhost:8080/"
        },
        "id": "Gh6STPjofjY5",
        "outputId": "b278e101-b28a-414d-9e70-6bb0d848d353"
      },
      "execution_count": null,
      "outputs": [
        {
          "output_type": "stream",
          "name": "stdout",
          "text": [
            "<class 'complex'> complex_num= (3+4j)\n"
          ]
        }
      ]
    },
    {
      "cell_type": "markdown",
      "source": [
        "create a variable name is_student and assign it a boolean value True.\n",
        "print the value of is_student and its data type."
      ],
      "metadata": {
        "id": "NYiTbhsNfmDY"
      }
    },
    {
      "cell_type": "code",
      "source": [
        "is_student:bool=True\n",
        "print(type(is_student),\"the value of 'is_student=' is\",is_student)"
      ],
      "metadata": {
        "colab": {
          "base_uri": "https://localhost:8080/"
        },
        "id": "lS5ZrkoWgB1t",
        "outputId": "b36cc8d3-35e9-4f31-b45f-1e43b71378a1"
      },
      "execution_count": null,
      "outputs": [
        {
          "output_type": "stream",
          "name": "stdout",
          "text": [
            "<class 'bool'> the value of 'is_student=' is True\n"
          ]
        }
      ]
    },
    {
      "cell_type": "markdown",
      "source": [
        "Declare a variable has_job and assign it a boolean value false.print the value of has_job and its data type."
      ],
      "metadata": {
        "id": "5W-HN5BgBU_4"
      }
    },
    {
      "cell_type": "code",
      "source": [
        "has_job:bool=False\n",
        "print(type(has_job),\"the value of 'has_job=' is\",has_job)"
      ],
      "metadata": {
        "colab": {
          "base_uri": "https://localhost:8080/"
        },
        "id": "SjxT6haVButn",
        "outputId": "e4858553-b04d-4841-9c3f-37e1436af9bc"
      },
      "execution_count": null,
      "outputs": [
        {
          "output_type": "stream",
          "name": "stdout",
          "text": [
            "<class 'bool'> the value of 'has_job=' is False\n"
          ]
        }
      ]
    },
    {
      "cell_type": "markdown",
      "source": [
        "Create a variable greeting and assign it the string 'Hello' using single quotes. print the value of greeting and its data type."
      ],
      "metadata": {
        "id": "SUdLjmtmB3Os"
      }
    },
    {
      "cell_type": "code",
      "source": [
        "greeting:str='Hello'\n",
        "print(type(greeting),\"THe value of 'greeting' is\",greeting)"
      ],
      "metadata": {
        "colab": {
          "base_uri": "https://localhost:8080/"
        },
        "id": "8nKsIn39CWXH",
        "outputId": "c440a9f8-44a4-41ea-f977-cf0e41fb9d7e"
      },
      "execution_count": null,
      "outputs": [
        {
          "output_type": "stream",
          "name": "stdout",
          "text": [
            "<class 'str'> THe value of 'greeting' is Hello\n"
          ]
        }
      ]
    },
    {
      "cell_type": "markdown",
      "source": [
        "declare a variable name city and assign it the string \"New York\" using double quotes.print the value of city and its data type."
      ],
      "metadata": {
        "id": "xyjVQ8weCu1z"
      }
    },
    {
      "cell_type": "code",
      "source": [
        "city :str=\"New York\"\n",
        "print(type(city),\"City is\",city)"
      ],
      "metadata": {
        "colab": {
          "base_uri": "https://localhost:8080/"
        },
        "id": "LT7LppR-DTKX",
        "outputId": "e15c8ddd-61ae-4a2f-a995-9f8312552455"
      },
      "execution_count": null,
      "outputs": [
        {
          "output_type": "stream",
          "name": "stdout",
          "text": [
            "<class 'str'> City is New York\n"
          ]
        }
      ]
    },
    {
      "cell_type": "markdown",
      "source": [
        "create a variable quote and assign it the string 'Life is short' using triple single quotes.\n",
        "print the value of quote and its data type."
      ],
      "metadata": {
        "id": "vkm3FBY9DU0n"
      }
    },
    {
      "cell_type": "code",
      "source": [
        "quote :str='''\n",
        "Life is short'''\n",
        "print(type(quote))\n",
        "print(\"Qoute is\",quote)"
      ],
      "metadata": {
        "colab": {
          "base_uri": "https://localhost:8080/"
        },
        "id": "gtbZ899YDz23",
        "outputId": "d287656c-2a84-414e-f954-8b09c9f324dc"
      },
      "execution_count": null,
      "outputs": [
        {
          "output_type": "stream",
          "name": "stdout",
          "text": [
            "<class 'str'>\n",
            "Qoute is \n",
            "Life is short\n"
          ]
        }
      ]
    },
    {
      "cell_type": "markdown",
      "source": [
        "Declare a variable called poem and assign it a multi-line string using triple double quotes with the text:\n",
        "Roses are red,\n",
        "Violets are blue.\n",
        "print the value of poen and its data type."
      ],
      "metadata": {
        "id": "dHyJeoyxD0Wp"
      }
    },
    {
      "cell_type": "code",
      "source": [
        "poem :str=\"\"\"\n",
        "Roses are red,\n",
        "Violets are blue.\"\"\"\n",
        "print(type(poem),\"Poem is\",poem)"
      ],
      "metadata": {
        "colab": {
          "base_uri": "https://localhost:8080/"
        },
        "id": "aYn3975gElqM",
        "outputId": "441b2ce1-fc18-45e9-c2fe-a531089fecee"
      },
      "execution_count": null,
      "outputs": [
        {
          "output_type": "stream",
          "name": "stdout",
          "text": [
            "<class 'str'> Poem is \n",
            "Roses are red,\n",
            "Violets are blue.\n"
          ]
        }
      ]
    },
    {
      "cell_type": "markdown",
      "source": [
        "score as an integer with value 95, height as a float with value 5.9 and name as a string with value \"Alice\" using double quotes.\n",
        "print the value and data type of each variable."
      ],
      "metadata": {
        "id": "7_Jv74qNEmS6"
      }
    },
    {
      "cell_type": "code",
      "source": [
        "score :int=95\n",
        "height :float=5.9\n",
        "name :str=\"Alice\"\n",
        "print(type(name),\"Name is \",name)\n",
        "print(type(height),\"Height = \",height)\n",
        "print(type(score),\"Score = \",score)"
      ],
      "metadata": {
        "colab": {
          "base_uri": "https://localhost:8080/"
        },
        "id": "DdbD3ATCFJ5D",
        "outputId": "6bac47f4-2caa-47c1-f3ee-9618ac0f053c"
      },
      "execution_count": null,
      "outputs": [
        {
          "output_type": "stream",
          "name": "stdout",
          "text": [
            "<class 'str'> Name is  Alice\n",
            "<class 'float'> Height =  5.9\n",
            "<class 'int'> Score =  95\n"
          ]
        }
      ]
    }
  ]
}