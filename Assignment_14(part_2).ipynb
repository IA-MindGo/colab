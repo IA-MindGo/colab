{
  "nbformat": 4,
  "nbformat_minor": 0,
  "metadata": {
    "colab": {
      "provenance": [],
      "authorship_tag": "ABX9TyMOkNjobXPBJrWb9FemIi/0",
      "include_colab_link": true
    },
    "kernelspec": {
      "name": "python3",
      "display_name": "Python 3"
    },
    "language_info": {
      "name": "python"
    }
  },
  "cells": [
    {
      "cell_type": "markdown",
      "metadata": {
        "id": "view-in-github",
        "colab_type": "text"
      },
      "source": [
        "<a href=\"https://colab.research.google.com/github/IA-MindGo/colab/blob/main/Assignment_14(part_2).ipynb\" target=\"_parent\"><img src=\"https://colab.research.google.com/assets/colab-badge.svg\" alt=\"Open In Colab\"/></a>"
      ]
    },
    {
      "cell_type": "markdown",
      "source": [
        "                                Assignment #13\n",
        "                                     part-2\n",
        "\n",
        "\n",
        "1. What is the dierence between math.floor() and math.ceil()?\n",
        "\n",
        "  math.floor() returns the largest integer less than or equal to a number, while math.ceil() returns the smallest integer greater than or equal to it. For example, floor(4.7) → 4, ceil(4.7) → 5.\n",
        "\n",
        "2. How is datetime.timedelta() useful in real-time applications?\n",
        "\n",
        "  datetime.timedelta() represents a duration or time dierence, and it's useful for calculating future/past dates, setting countdowns, deadlines, or reminders in real-time systems.\n",
        "\n",
        "3. Explain how calendar.weekday() works?\n",
        "\n",
        "  calendar.weekday(year, month, day) returns the day of the week as an integer (0 = Monday, 6 = Sunday) for the given date. It helps determine which day a particular date falls on.\n",
        "\n",
        "4. Why is the math module needed when Python has ** for power?\n",
        "\n",
        "   The ** operator works for basic exponentiation, but math provides more precise, optimized, and advanced functions like math.pow(), sqrt(), and trigonometric operations.\n",
        "\n",
        "5. How do you format dates for display or reports?\n",
        "\n",
        "   You can use strftime() to format dates into readable strings, e.g.,\n",
        "   datetime.now().strftime(\"%d-%m-%Y %H:%M:%S\") for \"17-07-2025 23:59:59\".\n"
      ],
      "metadata": {
        "id": "pAWjSd4eC-tW"
      }
    },
    {
      "cell_type": "code",
      "source": [],
      "metadata": {
        "id": "t3kZXOk2ECYe"
      },
      "execution_count": null,
      "outputs": []
    }
  ]
}