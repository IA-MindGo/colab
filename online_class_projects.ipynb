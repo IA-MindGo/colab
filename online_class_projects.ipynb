{
  "nbformat": 4,
  "nbformat_minor": 0,
  "metadata": {
    "colab": {
      "provenance": [],
      "authorship_tag": "ABX9TyPa2c1G+1aUF30CpKi8QHj3",
      "include_colab_link": true
    },
    "kernelspec": {
      "name": "python3",
      "display_name": "Python 3"
    },
    "language_info": {
      "name": "python"
    }
  },
  "cells": [
    {
      "cell_type": "markdown",
      "metadata": {
        "id": "view-in-github",
        "colab_type": "text"
      },
      "source": [
        "<a href=\"https://colab.research.google.com/github/IA-MindGo/colab/blob/main/online_class_projects.ipynb\" target=\"_parent\"><img src=\"https://colab.research.google.com/assets/colab-badge.svg\" alt=\"Open In Colab\"/></a>"
      ]
    },
    {
      "cell_type": "markdown",
      "source": [
        "Guess My Number\n",
        "\n",
        "I am thinking of a number between 0 and 99... Enter a guess: 50 Your guess is too high\n",
        "\n",
        "Enter a new number: 25 Your guess is too low\n",
        "\n",
        "Enter a new number: 40 Your guess is too low\n",
        "\n",
        "Enter a new number: 45 Your guess is too low\n",
        "\n",
        "Enter a new number: 48 Congrats! The number was: 48"
      ],
      "metadata": {
        "id": "0V6GumMMVQhD"
      }
    },
    {
      "cell_type": "code",
      "execution_count": null,
      "metadata": {
        "colab": {
          "base_uri": "https://localhost:8080/"
        },
        "id": "mFL0Rb4SU_LK",
        "outputId": "ecd1b9ec-0774-420b-bbe0-bea281bcd673"
      },
      "outputs": [
        {
          "output_type": "stream",
          "name": "stdout",
          "text": [
            "Guess My Number: 50\n",
            "Your guess is too low\n",
            "Enter a new number: 70\n",
            "Your guess is too low\n",
            "Enter a new number: 90\n",
            "Your guess is too high\n",
            "Enter a new number: 80\n",
            "Your guess is too low\n",
            "Enter a new number: 85\n",
            "Your guess is too low\n",
            "Enter a new number: 87\n",
            "Congrats! The number was:  87\n"
          ]
        }
      ],
      "source": [
        "import random\n",
        "\n",
        "number = random.randint(0, 99)\n",
        "guess = int(input(\"Guess My Number: \"))\n",
        "while True:\n",
        "    if guess == number:\n",
        "        print(\"Congrats! The number was: \", number)\n",
        "        break\n",
        "    elif guess > number:\n",
        "        print(\"Your guess is too high\")\n",
        "    else:\n",
        "        print(\"Your guess is too low\")\n",
        "    guess = int(input(\"Enter a new number: \"))\n"
      ]
    },
    {
      "cell_type": "markdown",
      "source": [
        "Print 10 random numbers in the range 1 to 100.\n",
        "\n",
        "Here is an example run:\n",
        "\n",
        "45 79 61 47 52 10 16 83 19 12\n",
        "\n",
        "Each time you run your program you should get different numbers\n",
        "\n",
        "81 76 70 1 27 63 96 100 32 92\n",
        "\n",
        "Recall that the python random library has a function randint which returns an integer in the range set by the parameters (inclusive). For example this call would produce a random integer between 1 and 6, which could include 1 and could include 6:\n",
        "\n",
        "value = random.randint(1, 6)"
      ],
      "metadata": {
        "id": "ZzhUlxQRYhsi"
      }
    },
    {
      "cell_type": "code",
      "source": [
        "import random\n",
        "\n",
        "value = random.randint(1, 100)\n",
        "print(\"Ten random numbers are\\n\")\n",
        "for i in range(10):\n",
        "    print(value, end=\" \")\n",
        "    value = random.randint(1, 100)"
      ],
      "metadata": {
        "colab": {
          "base_uri": "https://localhost:8080/"
        },
        "id": "WXoJeFdGYqob",
        "outputId": "5488d7f1-1f00-479c-afba-b7bc60b22861"
      },
      "execution_count": null,
      "outputs": [
        {
          "output_type": "stream",
          "name": "stdout",
          "text": [
            "Ten random numbers are\n",
            "\n",
            "19 46 9 48 27 87 37 62 82 52 "
          ]
        }
      ]
    },
    {
      "cell_type": "markdown",
      "source": [
        "Write a program that prints out the calls for a spaceship that is about to launch. Countdown from 10 to 1 and then output Liftoff!\n",
        "\n",
        "Here's a sample run of the program:\n",
        "\n",
        "10 9 8 7 6 5 4 3 2 1 Liftoff!\n",
        "\n",
        "There are many ways to solve this problem. One approach is to use a for loop, and to use the for loop variable i. Recall that i will keep track of how many times the for loop has completed executing its body. As an example this code:\n",
        "\n",
        "for i in range(10): print(i)\n",
        "\n",
        "Will print out the values 0, 1, 2, 3, 4, 5, 6, 7, 8, 9. The values printed in liftoff are 10 minus the number of times the for loop has completed."
      ],
      "metadata": {
        "id": "UeoUWBw4omUG"
      }
    },
    {
      "cell_type": "code",
      "source": [
        "for i in range(10, 0, -1):\n",
        "    print(i, end=\" \")\n",
        "print(\"Liftoff!\")"
      ],
      "metadata": {
        "colab": {
          "base_uri": "https://localhost:8080/"
        },
        "id": "kbqXS-yTooLE",
        "outputId": "c3863b44-0d54-4726-cd44-e516aeb98e20"
      },
      "execution_count": null,
      "outputs": [
        {
          "output_type": "stream",
          "name": "stdout",
          "text": [
            "10 9 8 7 6 5 4 3 2 1 Liftoff!\n"
          ]
        }
      ]
    },
    {
      "cell_type": "markdown",
      "source": [
        "Write a program that asks a user to enter a number. Your program will then double that number and print out the result. It will repeat that process until the value is 100 or greater.\n",
        "\n",
        "For example if the user enters the number 2 you would then print:\n",
        "\n",
        "4 8 16 32 64 128\n",
        "\n",
        "Note that:\n",
        "\n",
        "2 doubled is 4\n",
        "\n",
        "4 doubled is 8\n",
        "\n",
        "8 doubled is 16\n",
        "\n",
        "and so on.\n",
        "\n",
        "We stop at 128 because that value is greater than 100.\n",
        "\n",
        "Maintain the current number in a variable named curr_value. When you double the number, you should be updating curr_value. Recall that you can double the value of curr_value using a line like:\n",
        "\n",
        "curr_value = curr_value * 2\n",
        "\n",
        "This program should have a while loop and the while loop condition should test if curr_value is less than 100. Thus, your program will have the line:\n",
        "\n",
        "while curr_value < 100:"
      ],
      "metadata": {
        "id": "EDMPtaappH89"
      }
    },
    {
      "cell_type": "code",
      "source": [
        "curr_value = int(input(\"Enter a number: \"))\n",
        "while curr_value < 100:\n",
        "    curr_value = curr_value * 2\n",
        "    print(curr_value, end=\" \")"
      ],
      "metadata": {
        "colab": {
          "base_uri": "https://localhost:8080/"
        },
        "id": "lWz6yjFjpwoo",
        "outputId": "6d1d03d3-018d-489a-97f1-f8afada129ea"
      },
      "execution_count": null,
      "outputs": [
        {
          "output_type": "stream",
          "name": "stdout",
          "text": [
            "Enter a number: 5\n",
            "10 20 40 80 160 "
          ]
        }
      ]
    },
    {
      "cell_type": "markdown",
      "source": [
        "Write a simple joke bot. The bot starts by asking the user what they want. However, your program will only respond to one response: Joke.\n",
        "\n",
        "If the user enters Joke then we will print out a single joke. Each time the joke is always the same:\n",
        "\n",
        "Here is a joke for you! Panaversity GPT - Sophia is heading out to the grocery store. A programmer tells her: get a liter of milk, and if they have eggs, get 12. Sophia returns with 13 liters of milk. The programmer asks why and Sophia replies: 'because they had eggs'\n",
        "\n",
        "If the user enters anything else we print out:\n",
        "\n",
        "Sorry I only tell jokes\n",
        "\n",
        "You should use the three constants:\n",
        "\n",
        "PROMPT JOKE SORRY\n",
        "\n",
        "which contain the strings for the prompt asked to the user, the joke to print out if the user enters Joke and the sorry message if the user enters anything else.\n",
        "\n",
        "Your program will need to use an if statement which checks if the user input is Joke:\n",
        "\n",
        "if user_input == \"Joke\":\n",
        "\n",
        "Recall that == is a comparison which tests if two values are equal to one another.\n",
        "\n",
        "Here is a full run of the program (user input is in blue):\n",
        "\n",
        "What do you want? Joke Here is a joke for you! Panaversity GPT - Sophia is heading out to the grocery store. A programmer tells her: get a liter of milk, and if they have eggs, get 12. Sophia returns with 13 liters of milk. The programmer asks why and Sophia replies: 'because they had eggs'"
      ],
      "metadata": {
        "id": "PKSLQ6BzrH8A"
      }
    },
    {
      "cell_type": "code",
      "source": [
        "JOKE = \"\"\"Panaversity GPT - Sophia is heading out to the grocery store.\n",
        " A programmer tells her: get a liter of milk, and if they have eggs, get 12.\n",
        " Sophia returns with 13 liters of milk.\n",
        " The programmer asks why and Sophia replies: 'because they had eggs'\"\"\"\n",
        "while True:\n",
        "    user_input = input(\"What do you want? \")\n",
        "    user_input = user_input.lower()\n",
        "    if user_input == \"joke\":\n",
        "        print(\"Here is a joke for you!\\n\", JOKE)\n",
        "        break\n",
        "    else:\n",
        "        print(\"Sorry I only tell jokes\")"
      ],
      "metadata": {
        "colab": {
          "base_uri": "https://localhost:8080/"
        },
        "id": "uF636moArJoR",
        "outputId": "0f19ba37-2254-4f8f-866c-db6319a90e0a"
      },
      "execution_count": null,
      "outputs": [
        {
          "output_type": "stream",
          "name": "stdout",
          "text": [
            "What do you want? story\n",
            "Sorry I only tell jokes\n",
            "What do you want? joke\n",
            "Here is a joke for you!\n",
            " Panaversity GPT - Sophia is heading out to the grocery store.\n",
            " A programmer tells her: get a liter of milk, and if they have eggs, get 12. \n",
            " Sophia returns with 13 liters of milk. \n",
            " The programmer asks why and Sophia replies: 'because they had eggs'\n"
          ]
        }
      ]
    },
    {
      "cell_type": "markdown",
      "source": [
        "We want you to gain more experience working with control flow and Booleans in Python. To do this, we are going to have you develop a game! The game is called High-Low and the way it's played goes as follows:\n",
        "\n",
        "Two numbers are generated from 1 to 100 (inclusive on both ends): one for you and one for a computer, who will be your opponent. You can see your number, but not the computer's!\n",
        "\n",
        "You make a guess, saying your number is either higher than or lower than the computer's number\n",
        "\n",
        "If your guess matches the truth (ex. you guess your number is higher, and then your number is actually higher than the computer's), you get a point!\n",
        "\n",
        "These steps make up one round of the game. The game is over after all rounds have been played.\n",
        "\n",
        "We've provided a sample run below.\n",
        "\n",
        "Welcome to the High-Low Game!\n",
        "--------------------------------\n",
        "Round 1\n",
        "Your number is 8\n",
        "Do you think your number is higher or lower than the computer's?: lower\n",
        "You were right! The computer's number was 35\n",
        "Your score is now 1\n",
        "\n",
        "Round 2\n",
        "Your number is 88\n",
        "Do you think your number is higher or lower than the computer's?: higher\n",
        "Aww, that's incorrect. The computer's number was 100\n",
        "Your score is now 1\n",
        "\n",
        "Round 3\n",
        "Your number is 63\n",
        "Do you think your number is higher or lower than the computer's?: higher\n",
        "You were right! The computer's number was 5\n",
        "Your score is now 2\n",
        "\n",
        "Round 4\n",
        "Your number is 57\n",
        "Do you think your number is higher or lower than the computer's?: lower\n",
        "Aww, that's incorrect. The computer's number was 57\n",
        "Your score is now 2\n",
        "\n",
        "Round 5\n",
        "Your number is 22\n",
        "Do you think your number is higher or lower than the computer's?: lower\n",
        "Aww, that's incorrect. The computer's number was 1\n",
        "Your score is now 2\n",
        "\n",
        "Thanks for playing!"
      ],
      "metadata": {
        "id": "qcMMwG_yZyab"
      }
    },
    {
      "cell_type": "code",
      "source": [
        "import random\n",
        "\n",
        "score = 0\n",
        "print(\"Welcome to the High-Low Game!\")\n",
        "print(\"--------------------------------\")\n",
        "\n",
        "for i in range(5):\n",
        "  num = random.randint(1, 100)\n",
        "  print(\"Round\", i+1)\n",
        "  user_num = int(input(\"Your number is \"))\n",
        "  user_input = input(\"Do you think your number is higher or lower than the computer's?: \")\n",
        "  if user_input.lower == \"higher\":\n",
        "    if user_num > num:\n",
        "      print(\"You were right! The computer's number was\", num)\n",
        "      score += 1\n",
        "      print(\"Your score is now\", score)\n",
        "    else:\n",
        "      print(\"Aww, that's incorrect. The computer's number was\", num)\n",
        "      print(\"Your score is now\", score)\n",
        "  elif user_input.lower() == \"lower\":\n",
        "    if user_num < num:\n",
        "      print(\"You were right! The computer's number was\", num)\n",
        "      score += 1\n",
        "      print(\"Your score is now\", score)\n",
        "    else:\n",
        "      print(\"Aww, that's incorrect. The computer's number was\", num)\n",
        "      print(\"Your score is now\", score)\n",
        "  else:\n",
        "      print(\"You were right! The computer's number was\", num)\n",
        "      score += 1\n",
        "      print(\"Your score is now\", score)\n",
        "print(\"Thanks for playing!\")\n",
        "print(\"Your score is\", score)"
      ],
      "metadata": {
        "colab": {
          "base_uri": "https://localhost:8080/"
        },
        "id": "TSEJx-OibecO",
        "outputId": "564c844e-f8dc-4afb-c635-f6a7a6498609"
      },
      "execution_count": 3,
      "outputs": [
        {
          "output_type": "stream",
          "name": "stdout",
          "text": [
            "Welcome to the High-Low Game!\n",
            "--------------------------------\n",
            "Round 1\n",
            "Your number is 45\n",
            "Do you think your number is higher or lower than the computer's?: lower\n",
            "Aww, that's incorrect. The computer's number was 32\n",
            "Your score is now 0\n",
            "Round 2\n",
            "Your number is 56\n",
            "Do you think your number is higher or lower than the computer's?: lower\n",
            "Aww, that's incorrect. The computer's number was 55\n",
            "Your score is now 0\n",
            "Round 3\n",
            "Your number is 76\n",
            "Do you think your number is higher or lower than the computer's?: higher\n",
            "You were right! The computer's number was 11\n",
            "Your score is now 1\n",
            "Round 4\n",
            "Your number is 99\n",
            "Do you think your number is higher or lower than the computer's?: higher\n",
            "You were right! The computer's number was 29\n",
            "Your score is now 2\n",
            "Round 5\n",
            "Your number is 1\n",
            "Do you think your number is higher or lower than the computer's?: lower\n",
            "You were right! The computer's number was 78\n",
            "Your score is now 3\n",
            "Thanks for playing!\n",
            "Your score is 3\n"
          ]
        }
      ]
    }
  ]
}