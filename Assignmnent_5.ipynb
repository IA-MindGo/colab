{
  "nbformat": 4,
  "nbformat_minor": 0,
  "metadata": {
    "colab": {
      "provenance": [],
      "authorship_tag": "ABX9TyMEmysYm7npX2cMtspc+hQN",
      "include_colab_link": true
    },
    "kernelspec": {
      "name": "python3",
      "display_name": "Python 3"
    },
    "language_info": {
      "name": "python"
    }
  },
  "cells": [
    {
      "cell_type": "markdown",
      "metadata": {
        "id": "view-in-github",
        "colab_type": "text"
      },
      "source": [
        "<a href=\"https://colab.research.google.com/github/IA-MindGo/colab/blob/main/Assignmnent_5.ipynb\" target=\"_parent\"><img src=\"https://colab.research.google.com/assets/colab-badge.svg\" alt=\"Open In Colab\"/></a>"
      ]
    },
    {
      "cell_type": "markdown",
      "source": [
        " Create two variables with the same string literal and verify whether they have the same memory ID using id() function.\n"
      ],
      "metadata": {
        "id": "5HPo9s5IxDpo"
      }
    },
    {
      "cell_type": "code",
      "source": [
        "str1:str=\"Welcome\"\n",
        "str2:str=\"Welcome\"\n",
        "print(\"The memory id for the first variable is \",id(str1))\n",
        "print(\"The memory id for the second variable is \",id(str2))"
      ],
      "metadata": {
        "colab": {
          "base_uri": "https://localhost:8080/"
        },
        "id": "kjFEMWz4ygUD",
        "outputId": "acbddf12-4d8a-469e-8c27-78c536f2f524"
      },
      "execution_count": null,
      "outputs": [
        {
          "output_type": "stream",
          "name": "stdout",
          "text": [
            "The memory id for the first variable is  138578905558768\n",
            "The memory id for the second variable is  138578905558768\n",
            "The memory id of 2 variables is same  True\n"
          ]
        }
      ]
    },
    {
      "cell_type": "markdown",
      "source": [
        "Create a string and another string by appending an empty string (\"\") to it. Check if both have the same ID.\n"
      ],
      "metadata": {
        "id": "EX5FrFx0xO8E"
      }
    },
    {
      "cell_type": "code",
      "source": [
        "name:str=\"Learning-Python\"\n",
        "name1:str=name+\"\"\n",
        "print(\"The memory id for the first variable is \",id(name))\n",
        "print(\"The memory id for the second variable is \",id(name1))\n",
        "print(\"The memory id of 2 variables is same \",(name is name1))"
      ],
      "metadata": {
        "colab": {
          "base_uri": "https://localhost:8080/"
        },
        "id": "gMZmZ-3I4ryG",
        "outputId": "77a22d36-be66-4bb4-9ace-9f00c899c9a5"
      },
      "execution_count": null,
      "outputs": [
        {
          "output_type": "stream",
          "name": "stdout",
          "text": [
            "The memory id for the first variable is  138578904508720\n",
            "The memory id for the second variable is  138578904508720\n",
            "The memory id of 2 variables is same  True\n"
          ]
        }
      ]
    },
    {
      "cell_type": "markdown",
      "source": [
        "Given a string \"Python is amazing. Python is powerful.\", replace all occurrences of \"Python\" with \"AI\".\n"
      ],
      "metadata": {
        "id": "laEV-8pCxT37"
      }
    },
    {
      "cell_type": "code",
      "source": [
        "string:str=\"Python is amazing. Python is powerful.\"\n",
        "print(string.replace(\"Python\",\"AI\"))"
      ],
      "metadata": {
        "colab": {
          "base_uri": "https://localhost:8080/"
        },
        "id": "uTkNuaPg6eGv",
        "outputId": "e470d859-70e5-4297-cb0c-8b318e5e922d"
      },
      "execution_count": null,
      "outputs": [
        {
          "output_type": "stream",
          "name": "stdout",
          "text": [
            "AI is amazing. AI is powerful.\n"
          ]
        }
      ]
    },
    {
      "cell_type": "markdown",
      "source": [
        " In the string \"Learn Python. Python is easy. Python is everywhere.\", find the index of:  \n",
        "- First \"Python\",  \n",
        "- Second \"Python\",  \n",
        "- Third \"Python\".\n"
      ],
      "metadata": {
        "id": "ibyZkPvyxZao"
      }
    },
    {
      "cell_type": "code",
      "source": [
        "string:str=\"Learn Python. Python is easy. Python is everywhere.\"\n",
        "\n",
        "print(\"\"\"Length of the string\\n Learn Python. Python is easy. Python is everywhere\\nis\"\"\",len(string))\n",
        "\n",
        "first_index=string.find(\"Python\")\n",
        "print(\"\\nThe first occurance of Python is \",first_index)\n",
        "\n",
        "second_index=first_index+len(\"Python\")\n",
        "print(\"The second occurance of Python is \",string[second_index:].find(\"Python\")+second_index)\n",
        "\n",
        "third_index=second_index+len(\"Python\")\n",
        "print(\"The third occurance of Python is \",string[third_index:].find(\"Python\")+third_index)"
      ],
      "metadata": {
        "colab": {
          "base_uri": "https://localhost:8080/"
        },
        "id": "_B9REi9O6uQU",
        "outputId": "fa00ed24-7742-4688-c4d0-cb9ce7bf578a"
      },
      "execution_count": null,
      "outputs": [
        {
          "output_type": "stream",
          "name": "stdout",
          "text": [
            "Length of the string\n",
            " Learn Python. Python is easy. Python is everywhere\n",
            "is 51\n",
            "\n",
            "The first occurance of Python is  6\n",
            "The second occurance of Python is  14\n",
            "The third occurance of Python is  30\n"
          ]
        }
      ]
    },
    {
      "cell_type": "markdown",
      "source": [
        "Print the Unicode characters for A, B, and C using \\u escape sequences.\n",
        "\n"
      ],
      "metadata": {
        "id": "VtGqWJJ0xedH"
      }
    },
    {
      "cell_type": "code",
      "source": [
        "print(\"The unicode character for \\u0041 is\",r\"\\u0041\")\n",
        "print(\"The unicode character for \\u0042 is\",r\"\\u0042\")\n",
        "print(\"The unicode character for \\u0043 is\",r\"\\u0043\")"
      ],
      "metadata": {
        "colab": {
          "base_uri": "https://localhost:8080/"
        },
        "id": "TNOI6Z_tFOqW",
        "outputId": "64ea1fa2-e739-49e7-a720-80200e56f722"
      },
      "execution_count": null,
      "outputs": [
        {
          "output_type": "stream",
          "name": "stdout",
          "text": [
            "The unicode character for A is \\u0041\n",
            "The unicode character for B is \\u0042\n",
            "The unicode character for C is \\u0043\n"
          ]
        }
      ]
    },
    {
      "cell_type": "markdown",
      "source": [
        "Take a user input string and print its reverse using slicing.\n",
        "\n"
      ],
      "metadata": {
        "id": "0_RdRG3rxp16"
      }
    },
    {
      "cell_type": "code",
      "source": [
        "user_input:str=input(\"Enter the string\\n\")\n",
        "print(\"\\nThe reverse of the string is \\n\",user_input[::-1])"
      ],
      "metadata": {
        "colab": {
          "base_uri": "https://localhost:8080/"
        },
        "id": "SezdukT2G3UE",
        "outputId": "97787f6c-de17-4e63-b093-d1505f663b10"
      },
      "execution_count": null,
      "outputs": [
        {
          "output_type": "stream",
          "name": "stdout",
          "text": [
            "Enter the string\n",
            "welcome\n",
            "\n",
            "The reverse of the string is \n",
            " emoclew\n"
          ]
        }
      ]
    },
    {
      "cell_type": "markdown",
      "source": [
        "Using f-string, create a formatted report showing:  \n",
        "- Student name,  \n",
        "- Marks in three subjects,  \n",
        "- Average marks (calculate inside the f-string).\n"
      ],
      "metadata": {
        "id": "oaxG-7cMx5dW"
      }
    },
    {
      "cell_type": "code",
      "source": [
        "student_name=\"Ali\"\n",
        "subject1:int=80\n",
        "subject2:int=70\n",
        "subject3:int=60\n",
        "\n",
        "print(f\"The marks sheet of\\n \\tstudent {student_name} \\n is\\n\\t Physics {subject1},\\n\\tChemistry {subject2},\\n\\t Biology {subject3}\\n and\\n Avrage marks {(subject1+subject2+subject3)/3} \")"
      ],
      "metadata": {
        "colab": {
          "base_uri": "https://localhost:8080/"
        },
        "id": "R_c0P3DMKHlJ",
        "outputId": "b42b7454-a072-42f6-a2e1-049985fc54c8"
      },
      "execution_count": null,
      "outputs": [
        {
          "output_type": "stream",
          "name": "stdout",
          "text": [
            "The marks sheet of\n",
            " \tstudent Ali \n",
            " is\n",
            "\t Physics 80,\n",
            "\tChemistry 70,\n",
            "\t Biology 60\n",
            " and\n",
            " Avrage marks 70.0 \n"
          ]
        }
      ]
    },
    {
      "cell_type": "markdown",
      "source": [
        "Create two variables with the same string literal and verify whether they have the same memory ID using id() function. (duplicate — but I kept as you sent it)\n",
        "\n"
      ],
      "metadata": {
        "id": "29k-Fchxx7-k"
      }
    },
    {
      "cell_type": "code",
      "source": [
        "var1:str=\"Python\"\n",
        "var2:str=\"Python\"\n",
        "print(\"The memory id for the first variable is \",id(var1))\n",
        "print(\"The memory id for the second variable is \",id(var2))"
      ],
      "metadata": {
        "colab": {
          "base_uri": "https://localhost:8080/"
        },
        "id": "_RhbiRDuOZlG",
        "outputId": "4e523d03-47f1-4fe4-a671-872e3ec02ea8"
      },
      "execution_count": null,
      "outputs": [
        {
          "output_type": "stream",
          "name": "stdout",
          "text": [
            "The memory id for the first variable is  9739968\n",
            "The memory id for the second variable is  9739968\n"
          ]
        }
      ]
    },
    {
      "cell_type": "markdown",
      "source": [
        "Create a string and another string by appending an empty string (\"\") to it. Check if both have the same ID. (duplicate — kept)\n"
      ],
      "metadata": {
        "id": "gUkNlrfzyKE8"
      }
    },
    {
      "cell_type": "code",
      "source": [
        "s1=\"Python\"\n",
        "s2=s1+\"\"\n",
        "print(\"The memory id for the first string is \",id(s1))\n",
        "print(\"The memory id for the second string is \",id(s2))\n",
        "print(\"The memory id for 2 strings are same \",(s1 is s2))"
      ],
      "metadata": {
        "colab": {
          "base_uri": "https://localhost:8080/"
        },
        "id": "lo-ktz23PG5A",
        "outputId": "160460d3-f7ba-4bc4-875e-8d9d264bb0e1"
      },
      "execution_count": null,
      "outputs": [
        {
          "output_type": "stream",
          "name": "stdout",
          "text": [
            "The memory id for the first string is  9739968\n",
            "The memory id for the second string is  9739968\n",
            "The memory id for 2 strings are same  True\n"
          ]
        }
      ]
    },
    {
      "cell_type": "markdown",
      "source": [
        "Create two identical long strings (more than 20 characters) and print whether they are stored at the same memory location.\n",
        "\n"
      ],
      "metadata": {
        "id": "GpkDdi1aySr0"
      }
    },
    {
      "cell_type": "code",
      "execution_count": null,
      "metadata": {
        "colab": {
          "base_uri": "https://localhost:8080/"
        },
        "id": "toSZFZotwuF0",
        "outputId": "c7e2704b-d297-48a9-b222-7aa7c9f98cf1"
      },
      "outputs": [
        {
          "output_type": "stream",
          "name": "stdout",
          "text": [
            "The memory id for the first string is  138578904854368\n",
            "The memory id for the second string is  138578904854288\n",
            "\n",
            "The memory location of both strings are same  False\n"
          ]
        }
      ],
      "source": [
        "st1=\"Python is a powerful tool in AI\"\n",
        "str2=\"Python is a powerful tool in AI\"\n",
        "print(\"The memory id for the first string is \",id(st1))\n",
        "print(\"The memory id for the second string is \",id(str2))\n",
        "print(\"\\nThe memory location of both strings are same \",(str1 is str2))"
      ]
    },
    {
      "cell_type": "markdown",
      "source": [
        "Manually intern a long string using sys.intern() and verify if two interned strings have the same ID.\n"
      ],
      "metadata": {
        "id": "wr2k5w2ZP_7W"
      }
    },
    {
      "cell_type": "code",
      "source": [
        "import sys\n",
        "\n",
        "str1=sys.intern(\"Python is a powerful tool in AI\")\n",
        "str2=sys.intern(\"Python is a powerful tool in AI\")\n",
        "print(\"The memory id for the first string is \",id(str1))\n",
        "print(\"The memory id for the second string is \",id(str2))\n",
        "print(\"\\nThe memory location of both interned strings are same \",(str1 is str2))"
      ],
      "metadata": {
        "colab": {
          "base_uri": "https://localhost:8080/"
        },
        "id": "KPMgLCbiRAZR",
        "outputId": "c6994d47-b487-4ec2-d31d-7231a9f91bbf"
      },
      "execution_count": null,
      "outputs": [
        {
          "output_type": "stream",
          "name": "stdout",
          "text": [
            "The memory id for the first string is  138578904336864\n",
            "The memory id for the second string is  138578904336864\n",
            "\n",
            "The memory location of both interned strings are same  True\n"
          ]
        }
      ]
    },
    {
      "cell_type": "markdown",
      "source": [
        "Concatenate two string variables dynamically and compare if the resulting string is the same object as a hardcoded string with the same content.\n"
      ],
      "metadata": {
        "id": "fU9h5Di4QQMc"
      }
    },
    {
      "cell_type": "code",
      "source": [
        "s1=\"PakistanZindabad\"\n",
        "s2=\"Pakistan\"\n",
        "s3=\"Zindabad\"\n",
        "s4=s2+s3\n",
        "print(\"The hardcoded string is \\n\",s1)\n",
        "print(\"\\nThe concatenated string is \\n\",s4)\n",
        "print(\"The original string and resulting strings are same: \",s4 is s1)"
      ],
      "metadata": {
        "colab": {
          "base_uri": "https://localhost:8080/"
        },
        "id": "byfSrYQPUhW8",
        "outputId": "d1f8a8ab-35b7-4f91-c5fe-3bb59efc1620"
      },
      "execution_count": null,
      "outputs": [
        {
          "output_type": "stream",
          "name": "stdout",
          "text": [
            "The hardcoded string is \n",
            " PakistanZindabad\n",
            "\n",
            "The concatenated string is \n",
            " PakistanZindabad\n",
            "The original string and resulting strings are same:  False\n"
          ]
        }
      ]
    },
    {
      "cell_type": "markdown",
      "source": [
        "Write a program to print only the methods of string class that do not start with double underscores (__) using dir() and list comprehension.\n"
      ],
      "metadata": {
        "id": "rsPv6wtHQUNp"
      }
    },
    {
      "cell_type": "code",
      "source": [
        "string_methods: str = dir(str)\n",
        "\n",
        "filtered_methods: str = [method for method in string_methods if not method.startswith(\"__\")]\n",
        "\n",
        "filtered_methods"
      ],
      "metadata": {
        "colab": {
          "base_uri": "https://localhost:8080/"
        },
        "id": "iR5eGdN0V5_o",
        "outputId": "fbee3a15-7cd3-44a8-8245-5c70d75d9e99"
      },
      "execution_count": null,
      "outputs": [
        {
          "output_type": "execute_result",
          "data": {
            "text/plain": [
              "['capitalize',\n",
              " 'casefold',\n",
              " 'center',\n",
              " 'count',\n",
              " 'encode',\n",
              " 'endswith',\n",
              " 'expandtabs',\n",
              " 'find',\n",
              " 'format',\n",
              " 'format_map',\n",
              " 'index',\n",
              " 'isalnum',\n",
              " 'isalpha',\n",
              " 'isascii',\n",
              " 'isdecimal',\n",
              " 'isdigit',\n",
              " 'isidentifier',\n",
              " 'islower',\n",
              " 'isnumeric',\n",
              " 'isprintable',\n",
              " 'isspace',\n",
              " 'istitle',\n",
              " 'isupper',\n",
              " 'join',\n",
              " 'ljust',\n",
              " 'lower',\n",
              " 'lstrip',\n",
              " 'maketrans',\n",
              " 'partition',\n",
              " 'removeprefix',\n",
              " 'removesuffix',\n",
              " 'replace',\n",
              " 'rfind',\n",
              " 'rindex',\n",
              " 'rjust',\n",
              " 'rpartition',\n",
              " 'rsplit',\n",
              " 'rstrip',\n",
              " 'split',\n",
              " 'splitlines',\n",
              " 'startswith',\n",
              " 'strip',\n",
              " 'swapcase',\n",
              " 'title',\n",
              " 'translate',\n",
              " 'upper',\n",
              " 'zfill']"
            ]
          },
          "metadata": {},
          "execution_count": 70
        }
      ]
    },
    {
      "cell_type": "markdown",
      "source": [
        "Take a string input from the user and repeat it 5 times using string multiplication. Print the result.\n"
      ],
      "metadata": {
        "id": "tJLhAq93QXiM"
      }
    },
    {
      "cell_type": "code",
      "source": [
        "user_input:str=input(\"Enter the string\\n\")\n",
        "print(\"\\nThe repeated string is \\n\",user_input*5)"
      ],
      "metadata": {
        "colab": {
          "base_uri": "https://localhost:8080/"
        },
        "id": "M13mE_41W00O",
        "outputId": "47155b9c-cdd0-4fe9-eaab-ed6785b202b3"
      },
      "execution_count": null,
      "outputs": [
        {
          "output_type": "stream",
          "name": "stdout",
          "text": [
            "Enter the string\n",
            "python\n",
            "\n",
            "The repeated string is \n",
            " pythonpythonpythonpythonpython\n"
          ]
        }
      ]
    },
    {
      "cell_type": "markdown",
      "source": [
        " Create a pattern using a for loop that prints increasing number of # symbols per line (right-angled triangle).\n"
      ],
      "metadata": {
        "id": "pyiIs__4QdFi"
      }
    },
    {
      "cell_type": "code",
      "source": [
        "for i in range(1,6):\n",
        "  print('#'*i)"
      ],
      "metadata": {
        "colab": {
          "base_uri": "https://localhost:8080/"
        },
        "id": "CZsRn2q5ZJwr",
        "outputId": "6beb49ef-97dd-41e1-80a9-288371442d25"
      },
      "execution_count": null,
      "outputs": [
        {
          "output_type": "stream",
          "name": "stdout",
          "text": [
            "\n",
            "#\n",
            "##\n",
            "###\n",
            "####\n"
          ]
        }
      ]
    },
    {
      "cell_type": "markdown",
      "source": [
        "Compare two strings \"apple\" and \"banana\" using all four comparison operators (==, !=, <, >) and print the results.\n",
        "\n"
      ],
      "metadata": {
        "id": "kWOj3rtPQgel"
      }
    },
    {
      "cell_type": "code",
      "source": [
        "s1=\"apple\"\n",
        "s2=\"banana\"\n",
        "print(f\"{s1}=={s2}\",s1==s2)\n",
        "print(f\"{s1}!={s2}\",s1!=s2)\n",
        "print(f\"{s1}<{s2}\",s1<s2)\n",
        "print(f\"{s1}>{s2}\",s1>s2)"
      ],
      "metadata": {
        "colab": {
          "base_uri": "https://localhost:8080/"
        },
        "id": "xOCFsnTCapUV",
        "outputId": "4d0c9be8-cc2d-48fb-f23b-6476c591829d"
      },
      "execution_count": null,
      "outputs": [
        {
          "output_type": "stream",
          "name": "stdout",
          "text": [
            "apple==banana False\n",
            "apple!=banana True\n",
            "apple<banana True\n",
            "apple>banana False\n"
          ]
        }
      ]
    },
    {
      "cell_type": "markdown",
      "source": [
        "Write a Python program that takes two strings and tells which one comes first alphabetically.\n"
      ],
      "metadata": {
        "id": "77sQa_vkQkKW"
      }
    },
    {
      "cell_type": "code",
      "source": [
        "s1=input(\"Enter the first string\\n\")\n",
        "s2=input(\"Enter the second string\\n\")\n",
        "if s1==s2:\n",
        "  print(\"Both strings are equal\")\n",
        "elif s1<s2:\n",
        "  print(f\"{s1} comes first alphabetically\")\n",
        "else:\n",
        "  print(f\"{s2} comes first alphabetically\")"
      ],
      "metadata": {
        "colab": {
          "base_uri": "https://localhost:8080/"
        },
        "id": "V1fuapQzdA6s",
        "outputId": "edb19166-760b-4cf7-f95a-fd18a4ff9ada"
      },
      "execution_count": null,
      "outputs": [
        {
          "output_type": "stream",
          "name": "stdout",
          "text": [
            "Enter the first string\n",
            "hello\n",
            "Enter the second string\n",
            "apple\n",
            "apple comes first alphabetically\n"
          ]
        }
      ]
    },
    {
      "cell_type": "markdown",
      "source": [
        "Write a Python program to convert an integer num = 25 into a float and print the result.\n"
      ],
      "metadata": {
        "id": "_-1GOY9YQnhQ"
      }
    },
    {
      "cell_type": "code",
      "source": [
        "num:int=25\n",
        "print(\"The float value of \",num,\" is \",float(num))"
      ],
      "metadata": {
        "colab": {
          "base_uri": "https://localhost:8080/"
        },
        "id": "Q3suotcyyKJm",
        "outputId": "32a14552-f975-4ca6-b9d5-667a6dd3003b"
      },
      "execution_count": null,
      "outputs": [
        {
          "output_type": "stream",
          "name": "stdout",
          "text": [
            "The float value of  25  is  25.0\n"
          ]
        }
      ]
    },
    {
      "cell_type": "markdown",
      "source": [
        "Given num_str = \"456\", convert it into an integer, add 10 to it, and print the final value.\n"
      ],
      "metadata": {
        "id": "zElKH06HQwdU"
      }
    },
    {
      "cell_type": "code",
      "source": [
        "num_str:str=\"456\"\n",
        "num:int=int(num_str)\n",
        "a=num+10\n",
        "print(\"The integer value of \",num_str,\" is \",a)"
      ],
      "metadata": {
        "colab": {
          "base_uri": "https://localhost:8080/"
        },
        "id": "oP23gmsVyavk",
        "outputId": "300dc7e3-f2c6-478d-e2e6-37e21cf75d2d"
      },
      "execution_count": null,
      "outputs": [
        {
          "output_type": "stream",
          "name": "stdout",
          "text": [
            "The integer value of  456  is  466\n"
          ]
        }
      ]
    },
    {
      "cell_type": "markdown",
      "source": [
        "Convert the float value = 12.99 to an integer. Print both the original float and the converted integer.\n"
      ],
      "metadata": {
        "id": "zdHNKYHkQ2VD"
      }
    },
    {
      "cell_type": "code",
      "source": [
        "float_value:float=12.99\n",
        "int_value:int=int(float_value)\n",
        "print(\"The original float value is \",float_value)\n",
        "print(\"\\nThe converted integer value is \",int_value)"
      ],
      "metadata": {
        "colab": {
          "base_uri": "https://localhost:8080/"
        },
        "id": "E6ZWHnhnyuCN",
        "outputId": "7edd33f5-8572-4ce7-c24a-3f6ed4ff04ae"
      },
      "execution_count": null,
      "outputs": [
        {
          "output_type": "stream",
          "name": "stdout",
          "text": [
            "The original float value is  12.99\n",
            "\n",
            "The converted integer value is  12\n"
          ]
        }
      ]
    },
    {
      "cell_type": "markdown",
      "source": [
        "Create two variables a = 7 (int) and b = 3.2 (float), add them, and print the result along with its data type.\n",
        "\n"
      ],
      "metadata": {
        "id": "sST47PCSy86C"
      }
    },
    {
      "cell_type": "code",
      "source": [
        "a:int=7\n",
        "b:float=3.2\n",
        "print(\"The sum of \",a,\" and \",b,\" is \",a+b)\n",
        "print(\"The data type of addition of two numbers \",a,\"and\",b, \"is \" ,type(a+b))"
      ],
      "metadata": {
        "colab": {
          "base_uri": "https://localhost:8080/"
        },
        "id": "EXJvLM9bzkwc",
        "outputId": "74814399-7c8f-4a4f-c445-63cc811e2fc1"
      },
      "execution_count": null,
      "outputs": [
        {
          "output_type": "stream",
          "name": "stdout",
          "text": [
            "The sum of  7  and  3.2  is  10.2\n",
            "The data type of addition of two numbers  7 and 3.2 is  <class 'float'>\n"
          ]
        }
      ]
    },
    {
      "cell_type": "markdown",
      "source": [
        "Print the result of converting True and False into integers.\n"
      ],
      "metadata": {
        "id": "kMyP4HElzJLE"
      }
    },
    {
      "cell_type": "code",
      "source": [
        "a:bool=True\n",
        "b:bool=False\n",
        "print(\"The integer value of \",a,\" is \",int(a))\n",
        "print(\"The integer value of \",b,\" is \",int(b))"
      ],
      "metadata": {
        "colab": {
          "base_uri": "https://localhost:8080/"
        },
        "id": "I4_qjnDq0HVJ",
        "outputId": "d9837bc3-f80d-4770-bd33-579bd7bb0c80"
      },
      "execution_count": null,
      "outputs": [
        {
          "output_type": "stream",
          "name": "stdout",
          "text": [
            "The integer value of  True  is  1\n",
            "The integer value of  False  is  0\n"
          ]
        }
      ]
    },
    {
      "cell_type": "markdown",
      "source": [
        "Given a list my_list = [1, 2, 2, 3, 4, 4, 5], convert it into a set and print it."
      ],
      "metadata": {
        "id": "1-FJdOn5zNtc"
      }
    },
    {
      "cell_type": "code",
      "source": [
        "my_list=[1,2,2,3,4,4,5]\n",
        "print(\"The set of the list is \",set(my_list))"
      ],
      "metadata": {
        "colab": {
          "base_uri": "https://localhost:8080/"
        },
        "id": "pJkffcYw0WJG",
        "outputId": "d71479ba-db7c-4956-861c-7c94348f7246"
      },
      "execution_count": null,
      "outputs": [
        {
          "output_type": "stream",
          "name": "stdout",
          "text": [
            "The set of the list is  {1, 2, 3, 4, 5}\n"
          ]
        }
      ]
    },
    {
      "cell_type": "markdown",
      "source": [
        "Convert the string \"15.67\" into a float, then multiply it by 2 and print the result.\n"
      ],
      "metadata": {
        "id": "9jI4Lxq5zSW0"
      }
    },
    {
      "cell_type": "code",
      "source": [
        "string:str=\"15.67\"\n",
        "num=float(string)\n",
        "product=num*2\n",
        "print(\"The float value of \",string,\" is \",num)\n",
        "print(\"\\nThe product of \",num,\" and 2 is \",product)"
      ],
      "metadata": {
        "colab": {
          "base_uri": "https://localhost:8080/"
        },
        "id": "s5Isz0Wz0fBs",
        "outputId": "33e2a96b-58f7-4b3b-8a07-a0c90823e376"
      },
      "execution_count": null,
      "outputs": [
        {
          "output_type": "stream",
          "name": "stdout",
          "text": [
            "The float value of  15.67  is  15.67\n",
            "\n",
            "The product of  15.67  and 2 is  31.34\n"
          ]
        }
      ]
    },
    {
      "cell_type": "markdown",
      "source": [
        "Given a tuple info = ('Agentic', 'AI', 2025), convert it into a list and print.\n"
      ],
      "metadata": {
        "id": "ErY8uq3szVYa"
      }
    },
    {
      "cell_type": "code",
      "source": [
        "info=('Agentic','AI',2025)\n",
        "print(type(info))\n",
        "print(\"The list of the tuple is \",list(info))"
      ],
      "metadata": {
        "colab": {
          "base_uri": "https://localhost:8080/"
        },
        "id": "P9HkW-2109ya",
        "outputId": "a9aa8e96-745c-4947-82ce-d95e7ebde862"
      },
      "execution_count": null,
      "outputs": [
        {
          "output_type": "stream",
          "name": "stdout",
          "text": [
            "<class 'tuple'>\n",
            "The list of the tuple is  ['Agentic', 'AI', 2025]\n"
          ]
        }
      ]
    },
    {
      "cell_type": "markdown",
      "source": [
        "Convert the following list into a dictionary: pairs = [('name', 'Agentic AI'), ('year', 2025)].\n"
      ],
      "metadata": {
        "id": "2w8gLvkbzYtd"
      }
    },
    {
      "cell_type": "code",
      "source": [
        "pairs=[('name','Agentic AI'),('year',2025)]\n",
        "print(\"The dictionary of the list is \",dict(pairs))"
      ],
      "metadata": {
        "colab": {
          "base_uri": "https://localhost:8080/"
        },
        "id": "0p3qEv4C1Uyp",
        "outputId": "894f3c85-7517-404e-af8f-34a06a3a99fa"
      },
      "execution_count": null,
      "outputs": [
        {
          "output_type": "stream",
          "name": "stdout",
          "text": [
            "The dictionary of the list is  {'name': 'Agentic AI', 'year': 2025}\n"
          ]
        }
      ]
    },
    {
      "cell_type": "markdown",
      "source": [
        " Create a complex number from an integer n = 8 using the complex() function, then print its real part and imaginary part separately."
      ],
      "metadata": {
        "id": "ItHXNzTmziVZ"
      }
    },
    {
      "cell_type": "code",
      "source": [
        "n=8\n",
        "complex_number=complex(n)\n",
        "print(\"The complex number is \",complex_number)\n",
        "print(\"The real part of the complex number is \",complex_number.real)\n",
        "print(\"The imaginary part of the complex number is \",complex_number.imag)"
      ],
      "metadata": {
        "colab": {
          "base_uri": "https://localhost:8080/"
        },
        "id": "vUaIUh9U1dwv",
        "outputId": "e0c5bb6b-6618-49a8-eec3-6a21c99e4bd4"
      },
      "execution_count": null,
      "outputs": [
        {
          "output_type": "stream",
          "name": "stdout",
          "text": [
            "The complex number is  (8+0j)\n",
            "The real part of the complex number is  8.0\n",
            "The imaginary part of the complex number is  0.0\n"
          ]
        }
      ]
    }
  ]
}