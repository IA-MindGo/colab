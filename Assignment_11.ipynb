{
  "nbformat": 4,
  "nbformat_minor": 0,
  "metadata": {
    "colab": {
      "provenance": [],
      "authorship_tag": "ABX9TyOc2eAzhAIsfkgrLzKNGThw",
      "include_colab_link": true
    },
    "kernelspec": {
      "name": "python3",
      "display_name": "Python 3"
    },
    "language_info": {
      "name": "python"
    }
  },
  "cells": [
    {
      "cell_type": "markdown",
      "metadata": {
        "id": "view-in-github",
        "colab_type": "text"
      },
      "source": [
        "<a href=\"https://colab.research.google.com/github/IA-MindGo/colab/blob/main/Assignment_11.ipynb\" target=\"_parent\"><img src=\"https://colab.research.google.com/assets/colab-badge.svg\" alt=\"Open In Colab\"/></a>"
      ]
    },
    {
      "cell_type": "markdown",
      "source": [
        "Create a set of numbers: {10, 20, 30}.\n",
        "Add a new number using add() and update the set with a list [40, 50] using update().\n",
        "Print the updated set.\n"
      ],
      "metadata": {
        "id": "RF4ivcM_3QhY"
      }
    },
    {
      "cell_type": "code",
      "execution_count": null,
      "metadata": {
        "colab": {
          "base_uri": "https://localhost:8080/"
        },
        "id": "dqMRdlbC3G8h",
        "outputId": "8614deb3-0e71-4fdc-9a53-4e0495a01fa5"
      },
      "outputs": [
        {
          "output_type": "stream",
          "name": "stdout",
          "text": [
            "The updated set is {40, 10, 50, 20, 60, 30}\n"
          ]
        }
      ],
      "source": [
        "numbers = {10, 20, 30}\n",
        "numbers.add(60)\n",
        "numbers.update([40, 50])\n",
        "print(f\"The updated set is {numbers}\")"
      ]
    },
    {
      "cell_type": "markdown",
      "source": [
        "Create a set of fruits: {\"apple\", \"banana\", \"cherry\"}.\n",
        "Remove \"banana\" using remove() and \"orange\" using discard().\n",
        "Print the final set.\n",
        "Try removing a non-existing item with remove() and note the difference between remove() and discard() in a comment.\n"
      ],
      "metadata": {
        "id": "61HwKNBP3y4j"
      }
    },
    {
      "cell_type": "code",
      "source": [
        "fruits = {\"apple\", \"banana\", \"cherry\"}\n",
        "fruits.remove(\"banana\")\n",
        "fruits.discard(\"orange\")\n",
        "print(f\"The final set is {fruits}\")\n",
        "print(\"\"\"fruits.remove(\"orange\").\n",
        "The discard() method attempts to remove the element, but if it's not present,\n",
        " it simply does nothing and does not raise an error. The remove() method,\n",
        " however, raises a KeyError if the element is not found. Since 'orange' was\n",
        " not in the initial set and was not added, the remove() call fails.\"\"\")"
      ],
      "metadata": {
        "colab": {
          "base_uri": "https://localhost:8080/"
        },
        "id": "eOD4UNz_34rE",
        "outputId": "559d86cd-866a-4e3d-e6c3-1794643150ee"
      },
      "execution_count": null,
      "outputs": [
        {
          "output_type": "stream",
          "name": "stdout",
          "text": [
            "The final set is {'cherry', 'apple'}\n",
            "fruits.remove(\"orange\"). \n",
            "The discard() method attempts to remove the element, but if it's not present,\n",
            " it simply does nothing and does not raise an error. The remove() method, \n",
            " however, raises a KeyError if the element is not found. Since 'orange' was \n",
            " not in the initial set and was not added, the remove() call fails.\n"
          ]
        }
      ]
    },
    {
      "cell_type": "markdown",
      "source": [
        "Create a set of colors: {\"red\", \"green\", \"blue\"}.\n",
        "Use pop() to remove an item and then use clear() to empty the set.\n",
        "Print the set after each operation.\n",
        "\n"
      ],
      "metadata": {
        "id": "jN_BLZ9b-WR0"
      }
    },
    {
      "cell_type": "code",
      "source": [
        "colors = {\"red\", \"green\", \"blue\"}\n",
        "colors.pop()\n",
        "print(f\"The set after using pop function is {colors}\")\n",
        "colors.clear()\n",
        "print(f\"The set after using clear operation is {colors}\")\n"
      ],
      "metadata": {
        "colab": {
          "base_uri": "https://localhost:8080/"
        },
        "id": "xw9rZx2i-QzU",
        "outputId": "4255fb32-ae02-4b59-e01b-185074497eff"
      },
      "execution_count": null,
      "outputs": [
        {
          "output_type": "stream",
          "name": "stdout",
          "text": [
            "The set after using pop function is {'green', 'blue'}\n",
            "The set after using clear operation is set()\n"
          ]
        }
      ]
    },
    {
      "cell_type": "markdown",
      "source": [
        " Create two sets:\n",
        "set1 = {1, 2, 3, 4} and set2 = {3, 4, 5, 6}.\n",
        "Perform and print results of:\n",
        "\n",
        "union()\n",
        "\n",
        "intersection()\n",
        "\n",
        "difference()\n",
        "\n",
        "symmetric_difference()\n",
        "\n"
      ],
      "metadata": {
        "id": "vN8CvHBy-w8F"
      }
    },
    {
      "cell_type": "code",
      "source": [
        "set1 = {1, 2, 3, 4}\n",
        "set2 = {3, 4, 5, 6}\n",
        "print(f\"The union of set1 and set2 is {set1.union(set2)}\")\n",
        "print(f\"The intersection of set1 and set2 is {set1.intersection(set2)}\")\n",
        "print(f\"The difference of set1 and set2 is {set1.difference(set2)}\")\n",
        "print(f\"The symmetric difference of set1 and set2 is {set1.symmetric_difference(set2)}\")"
      ],
      "metadata": {
        "colab": {
          "base_uri": "https://localhost:8080/"
        },
        "id": "0U6PJjqY-4PA",
        "outputId": "bce753a0-ec88-4c56-c6a8-4c0bf3929f35"
      },
      "execution_count": null,
      "outputs": [
        {
          "output_type": "stream",
          "name": "stdout",
          "text": [
            "The union of set1 and set2 is {1, 2, 3, 4, 5, 6}\n",
            "The intersection of set1 and set2 is {3, 4}\n",
            "The difference of set1 and set2 is {1, 2}\n",
            "The symmetric difference of set1 and set2 is {1, 2, 5, 6}\n"
          ]
        }
      ]
    },
    {
      "cell_type": "markdown",
      "source": [
        "Create sets:\n",
        "A = {1, 2, 3} and B = {1, 2}.\n",
        "Check and print:\n",
        "\n",
        "Is B a subset of A?\n",
        "\n",
        "Is A a superset of B?\n",
        "\n",
        "Are A and B disjoint sets?\n"
      ],
      "metadata": {
        "id": "h-6CW-Xi_NCi"
      }
    },
    {
      "cell_type": "code",
      "source": [
        "A = {1, 2, 3}\n",
        "B = {1, 2}\n",
        "print(f\"Is B a subset of A? {B.issubset(A)}\")\n",
        "print(f\"Is A a superset of B? {A.issuperset(B)}\")\n",
        "print(f\"Are A and B are disjoint sets? {A.isdisjoint(B)}\")"
      ],
      "metadata": {
        "colab": {
          "base_uri": "https://localhost:8080/"
        },
        "id": "3QGapGLJ_WNd",
        "outputId": "c0528e9c-2092-490d-de38-baa0f5bae342"
      },
      "execution_count": null,
      "outputs": [
        {
          "output_type": "stream",
          "name": "stdout",
          "text": [
            "Is B a subset of A? True\n",
            "Is A a superset of B? True\n",
            "Are A and B are disjoint sets? False\n"
          ]
        }
      ]
    },
    {
      "cell_type": "markdown",
      "source": [
        "Create a frozenset of vowels: frozenset(['a', 'e', 'i', 'o', 'u']).\n",
        "Try to add or remove an element and observe what error occurs.\n",
        "Write a comment on why frozenset is immutable.\n"
      ],
      "metadata": {
        "id": "X_4YD3f0ANDF"
      }
    },
    {
      "cell_type": "code",
      "source": [
        "vowels = frozenset(['a', 'e', 'i', 'o', 'u'])\n",
        "print(f\"vowels.add('x') this line cause a an attribute error to {vowels}\\n\")\n",
        "print(\"\"\" A frozenset is immutable because its elements cannot be changed after the set\n",
        "is created. This makes them suitable for use as keys in dictionaries or as\n",
        " elements in other sets, where immutability is required.\"\"\")"
      ],
      "metadata": {
        "colab": {
          "base_uri": "https://localhost:8080/"
        },
        "id": "oQDK7xnSAPL5",
        "outputId": "e929405e-2993-46ed-b73e-2a251f326afe"
      },
      "execution_count": null,
      "outputs": [
        {
          "output_type": "stream",
          "name": "stdout",
          "text": [
            "vowels.add('x') this line cause a an attribute error to frozenset({'u', 'e', 'o', 'i', 'a'})\n",
            "\n",
            " A frozenset is immutable because its elements cannot be changed after the set \n",
            "is created. This makes them suitable for use as keys in dictionaries or as\n",
            " elements in other sets, where immutability is required.\n"
          ]
        }
      ]
    },
    {
      "cell_type": "markdown",
      "source": [
        " Create two frozensets:\n",
        "fs1 = frozenset([1, 2, 3, 4]), fs2 = frozenset([3, 4, 5, 6]).\n",
        "Use the following operations and print the result:\n",
        "\n",
        "fs1.union(fs2)\n",
        "\n",
        "fs1.intersection(fs2)\n",
        "\n",
        "fs1.difference(fs2)\n",
        "\n",
        "fs1.symmetric_difference(fs2)\n"
      ],
      "metadata": {
        "id": "HH-S8fvuCMYA"
      }
    },
    {
      "cell_type": "code",
      "source": [
        "fs1 = frozenset([1, 2, 3, 4])\n",
        "fs2 = frozenset([3, 4, 5, 6])\n",
        "print(f\"The union of fs1 and fs2 is {fs1.union(fs2)}\")\n",
        "print(f\"The intersection of fs1 and fs2 is {fs1.intersection(fs2)}\")\n",
        "print(f\"The difference of fs1 and fs2 is {fs1.difference(fs2)}\")\n",
        "print(f\"The symmetric difference of fs1 and fs2 is {fs1.symmetric_difference(fs2)}\")"
      ],
      "metadata": {
        "colab": {
          "base_uri": "https://localhost:8080/"
        },
        "id": "km7QisoFCQ4M",
        "outputId": "2c114d64-6228-4771-ca5d-0cfe276d87dc"
      },
      "execution_count": null,
      "outputs": [
        {
          "output_type": "stream",
          "name": "stdout",
          "text": [
            "The union of fs1 and fs2 is frozenset({1, 2, 3, 4, 5, 6})\n",
            "The intersection of fs1 and fs2 is frozenset({3, 4})\n",
            "The difference of fs1 and fs2 is frozenset({1, 2})\n",
            "The symmetric difference of fs1 and fs2 is frozenset({1, 2, 5, 6})\n"
          ]
        }
      ]
    },
    {
      "cell_type": "markdown",
      "source": [
        "Create a set of cities and use a loop to check membership using the in keyword.\n",
        "Also check if the set is disjoint from another city set using isdisjoint().\n"
      ],
      "metadata": {
        "id": "e9UkJPSnCgUR"
      }
    },
    {
      "cell_type": "code",
      "source": [
        "cities = {\"karachi\", \"gujranwala\", \"gujrat\", \"islamabad\"}\n",
        "city = {\"lahore\"}\n",
        "print(\"Members of the set cities are:\\n\")\n",
        "for x in cities:\n",
        "  print(x)\n",
        "print(f\"Are two sets cities and city disjoint? {cities.isdisjoint(city)}\")"
      ],
      "metadata": {
        "colab": {
          "base_uri": "https://localhost:8080/"
        },
        "id": "DViweqO2Crjr",
        "outputId": "04e781c1-438c-4389-e633-b3af93c37a6e"
      },
      "execution_count": null,
      "outputs": [
        {
          "output_type": "stream",
          "name": "stdout",
          "text": [
            "Members of the set cities are:\n",
            "\n",
            "gujranwala\n",
            "gujrat\n",
            "islamabad\n",
            "karachi\n",
            "Are two sets cities and city disjoint? True\n"
          ]
        }
      ]
    },
    {
      "cell_type": "markdown",
      "source": [
        " Take two sets: setA = {1, 2, 3} and setB = {3, 4, 5}.\n",
        "Use operators:\n",
        "\n",
        "setA | setB\n",
        "\n",
        "setA & setB\n",
        "\n",
        "setA - setB\n",
        "\n",
        "setA ^ setB\n",
        "Print and explain the output in comment"
      ],
      "metadata": {
        "id": "1XUigvTQE1K9"
      }
    },
    {
      "cell_type": "code",
      "source": [
        "setA = {1, 2, 3}\n",
        "setB = {3, 4, 5}\n",
        "print(f\"The union of setA and setB is {setA | setB}\")         # | operator is used to find the union of two sets.\n",
        "print(f\"The intersection of setA and setB is {setA & setB}\")  # & operator is used for intersection.\n",
        "print(f\"The difference of setA and setB is {setA - setB}\")    # - opertor finds the difference of first set with the swecond set.\n",
        "print(f\"The symmetric difference of setA and setB is {setA ^ setB}\")  # ^ operator is used to find symmetric difference of two sets.\n"
      ],
      "metadata": {
        "colab": {
          "base_uri": "https://localhost:8080/"
        },
        "id": "ioL2sO07E9a5",
        "outputId": "d15ed856-0968-4e97-8a6a-65d046a2a416"
      },
      "execution_count": null,
      "outputs": [
        {
          "output_type": "stream",
          "name": "stdout",
          "text": [
            "The union of setA and setB is {1, 2, 3, 4, 5}\n",
            "The intersection of setA and setB is {3}\n",
            "The difference of setA and setB is {1, 2}\n",
            "The symmetric difference of setA and setB is {1, 2, 4, 5}\n"
          ]
        }
      ]
    },
    {
      "cell_type": "markdown",
      "source": [
        " Create a program where a user inputs a list of items, convert it to a set and remove duplicates.\n",
        "Then convert the set to a frozenset and try to modify it.\n",
        "Catch the error and display a message explaining why frozenset can't be modified."
      ],
      "metadata": {
        "id": "dCSnVYkjGXBk"
      }
    },
    {
      "cell_type": "code",
      "source": [
        "items=[]\n",
        "while True:\n",
        "  item =input(\"Enter the items or no to stop.  \")\n",
        "  if item.lower() == \"no\":\n",
        "   break\n",
        "  items.append(item)\n",
        "items_set = set(items)\n",
        "items_frozenset = frozenset(items_set)\n",
        "print(f\"The set of items is {items_set}\")\n",
        "print(f\"The frozenset of items is {items_frozenset}\")\n",
        "print(\"The modify frozenset is {items_frozenset.add(item)} cause an error because\")\n",
        "print(\"Frozenset can't be modified because it is immutable.\")\n"
      ],
      "metadata": {
        "colab": {
          "base_uri": "https://localhost:8080/"
        },
        "id": "N3LeW4c7Gb_X",
        "outputId": "597403a8-e491-4757-a906-0780d34296ad"
      },
      "execution_count": null,
      "outputs": [
        {
          "output_type": "stream",
          "name": "stdout",
          "text": [
            "Enter the items or no to stop.  rice\n",
            "Enter the items or no to stop.  tea\n",
            "Enter the items or no to stop.  milk\n",
            "Enter the items or no to stop.  no\n",
            "The set of items is {'milk', 'rice', 'tea'}\n",
            "The frozenset of items is frozenset({'milk', 'rice', 'tea'})\n",
            "The modify frozenset is {items_frozenset.add(item)} cause an error because\n",
            "Frozenset can't be modified because it is immutable.\n"
          ]
        }
      ]
    }
  ]
}