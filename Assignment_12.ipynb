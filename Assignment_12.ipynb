{
  "nbformat": 4,
  "nbformat_minor": 0,
  "metadata": {
    "colab": {
      "provenance": [],
      "authorship_tag": "ABX9TyO/p56soKJRia7DswJDt+0i",
      "include_colab_link": true
    },
    "kernelspec": {
      "name": "python3",
      "display_name": "Python 3"
    },
    "language_info": {
      "name": "python"
    }
  },
  "cells": [
    {
      "cell_type": "markdown",
      "metadata": {
        "id": "view-in-github",
        "colab_type": "text"
      },
      "source": [
        "<a href=\"https://colab.research.google.com/github/IA-MindGo/colab/blob/main/Assignment_12.ipynb\" target=\"_parent\"><img src=\"https://colab.research.google.com/assets/colab-badge.svg\" alt=\"Open In Colab\"/></a>"
      ]
    },
    {
      "cell_type": "markdown",
      "source": [
        "Import the math module and use math.factorial() to find the factorial of a number. Also, define a user-defined function double(n) that returns twice the input number. Call both functions and print the results.\n"
      ],
      "metadata": {
        "id": "ZFdd7XWmK2A8"
      }
    },
    {
      "cell_type": "code",
      "execution_count": null,
      "metadata": {
        "colab": {
          "base_uri": "https://localhost:8080/"
        },
        "id": "gNspgVRFKu0X",
        "outputId": "18022efa-1f85-49df-fa64-adfcd26254ba"
      },
      "outputs": [
        {
          "output_type": "stream",
          "name": "stdout",
          "text": [
            "Enter a number for factorial: 5\n",
            "Factorial of 5 is 120\n",
            "Twice of 5 is 10\n"
          ]
        }
      ],
      "source": [
        "import math\n",
        "num = input(\"Enter a number for factorial: \")\n",
        "num = int(num)\n",
        "print(f\"Factorial of {num} is {math.factorial(num)}\")\n",
        "def double(n):\n",
        "  return 2*n\n",
        "print(f\"Twice of {num} is {double(num)}\")"
      ]
    },
    {
      "cell_type": "markdown",
      "source": [
        "Import the random module and use random.choice() to select a random element from a list. Define a user-defined function greet(name) that prints a greeting message. Use the len() built-in function to display the length of the list.\n"
      ],
      "metadata": {
        "id": "I0KQh_iGMKnd"
      }
    },
    {
      "cell_type": "code",
      "source": [
        "import random\n",
        "A = [\"isma\", \"ali\", \"shan\", \"iqra\", \"talha\",\"fatimah\",\"rashid\"]\n",
        "B = random.choice(A)\n",
        "print(f\"Randomly selected name is {B}\")\n",
        "def greet(x):\n",
        "  print(f\"Hello {x}\")\n",
        "greet(B)\n",
        "print(f\"Length of the list is {len(A)}\")\n",
        "\n"
      ],
      "metadata": {
        "colab": {
          "base_uri": "https://localhost:8080/"
        },
        "id": "U_QYn-cBMUeN",
        "outputId": "c47aea5f-a355-44de-b202-42bfb1c81a4f"
      },
      "execution_count": null,
      "outputs": [
        {
          "output_type": "stream",
          "name": "stdout",
          "text": [
            "Randomly selected name is iqra\n",
            "Hello iqra\n",
            "Length of the list is 7\n"
          ]
        }
      ]
    },
    {
      "cell_type": "markdown",
      "source": [
        "Use the built-in function sum() to add all elements of a list. Import the statistics module and use statistics.mean() to find the average. Define your own function is_even(num) that returns True if a number is even.\n"
      ],
      "metadata": {
        "id": "EXi6tXUqNbwz"
      }
    },
    {
      "cell_type": "code",
      "source": [
        "import statistics\n",
        "num = [1,2,3,4,5,6,7,8,9,10]\n",
        "def is_even(n):\n",
        "  if n%2==0:\n",
        "    return True\n",
        "  else:\n",
        "    return False\n",
        "print(f\"Sum of all elements of the list {num} is {sum(num)}\")\n",
        "print(f\"Average of all elements of the list {num} is {statistics.mean(num)}\")\n",
        "for i in num:\n",
        "  print(f\"The number {i} is even? {is_even(i)}\\n\")"
      ],
      "metadata": {
        "colab": {
          "base_uri": "https://localhost:8080/"
        },
        "id": "EgyyFIU5NmSO",
        "outputId": "97159c76-2002-4a6d-8264-7a3ccf2f1d6b"
      },
      "execution_count": null,
      "outputs": [
        {
          "output_type": "stream",
          "name": "stdout",
          "text": [
            "Sum of all elements of the list [1, 2, 3, 4, 5, 6, 7, 8, 9, 10] is 55\n",
            "Average of all elements of the list [1, 2, 3, 4, 5, 6, 7, 8, 9, 10] is 5.5\n",
            "The number 1 is even? False\n",
            "\n",
            "The number 2 is even? True\n",
            "\n",
            "The number 3 is even? False\n",
            "\n",
            "The number 4 is even? True\n",
            "\n",
            "The number 5 is even? False\n",
            "\n",
            "The number 6 is even? True\n",
            "\n",
            "The number 7 is even? False\n",
            "\n",
            "The number 8 is even? True\n",
            "\n",
            "The number 9 is even? False\n",
            "\n",
            "The number 10 is even? True\n",
            "\n"
          ]
        }
      ]
    },
    {
      "cell_type": "markdown",
      "source": [
        "Import the datetime module and use datetime.datetime.now() to print the current date and time. Create a function say_hello() that prints \"Hello!\". Use type() to check the type of a variable.\n"
      ],
      "metadata": {
        "id": "MfZdyosdR7gP"
      }
    },
    {
      "cell_type": "code",
      "source": [
        "import datetime\n",
        "import zoneinfo\n",
        "print(f\"Current date and time is: {datetime.datetime.now(zoneinfo.ZoneInfo('Asia/Karachi'))}\")\n",
        "def say_hello(a):\n",
        "  return \"Hello!\"\n",
        "print(say_hello(i))\n",
        "print(f\"{type(say_hello(i))}\")\n"
      ],
      "metadata": {
        "colab": {
          "base_uri": "https://localhost:8080/"
        },
        "id": "wedBkwU2SAm-",
        "outputId": "779fda66-b26b-4393-a98f-b44350a415b6"
      },
      "execution_count": null,
      "outputs": [
        {
          "output_type": "stream",
          "name": "stdout",
          "text": [
            "Current date and time is: 2025-06-03 02:14:04.998227+05:00\n",
            "Hello!\n",
            "<class 'str'>\n"
          ]
        }
      ]
    },
    {
      "cell_type": "markdown",
      "source": [
        "Create a user-defined function area_of_circle(radius) that returns the area using the formula πr². Import the math module and use math.pi. Also, print the result using print() and check its type using type().\n"
      ],
      "metadata": {
        "id": "4sAoAy9VgpE6"
      }
    },
    {
      "cell_type": "code",
      "source": [
        "import math\n",
        "def area_of_circle(r):\n",
        "  area = (math.pi)*r*r\n",
        "  return area\n",
        "radius = input(\"Enter the radius of circle.\\t\")\n",
        "print(f\"Area of the circle is {area_of_circle(int(radius))}\")\n",
        "print(f\"Type of the area is {type(area_of_circle(int(radius)))}\")"
      ],
      "metadata": {
        "colab": {
          "base_uri": "https://localhost:8080/"
        },
        "id": "PnCbEw9ygtvE",
        "outputId": "91df5648-087f-441e-9669-df15d48bc3b7"
      },
      "execution_count": null,
      "outputs": [
        {
          "output_type": "stream",
          "name": "stdout",
          "text": [
            "Enter the radius of circle.\t2\n",
            "Area of the circle is 12.566370614359172\n",
            "Type of the area is <class 'float'>\n"
          ]
        }
      ]
    },
    {
      "cell_type": "markdown",
      "source": [
        "Import the random module. Use random.randint(10, 100) to generate a number. Define a user-defined function check_number(num) that checks if the number is greater than 50. Use a built-in function to display the data type.\n"
      ],
      "metadata": {
        "id": "RnSKcgwWGln9"
      }
    },
    {
      "cell_type": "code",
      "source": [
        "import random\n",
        "num = random.randint(10, 100)\n",
        "def check_number(n):\n",
        "  if n>50:\n",
        "    print(f\"The number {n} is greater than 50\")\n",
        "  else:\n",
        "    print(f\"The number {n} is less than 50\")\n",
        "check_number(num)\n",
        "print(f\"The type of the number is {type(num)}\")"
      ],
      "metadata": {
        "colab": {
          "base_uri": "https://localhost:8080/"
        },
        "id": "oRQvSO0KGyZz",
        "outputId": "73367f5e-cbbd-44a7-cac0-0330af68a5e2"
      },
      "execution_count": null,
      "outputs": [
        {
          "output_type": "stream",
          "name": "stdout",
          "text": [
            "The number 38 is less than 50\n",
            "The type of the number is <class 'int'>\n"
          ]
        }
      ]
    },
    {
      "cell_type": "markdown",
      "source": [
        " Use the built-in function max() to find the largest number in a list. Import math and use math.pow(x, y) to compute x raised to power y. Define your own function display_info() that prints a user’s name and age.\n"
      ],
      "metadata": {
        "id": "_poLu355Hfl6"
      }
    },
    {
      "cell_type": "code",
      "source": [
        "import math\n",
        "a = []\n",
        "while True:\n",
        "  b = input(\"\\nEnter the numbers or s to stop.\")\n",
        "  if b==\"s\":\n",
        "    break\n",
        "  a.append(b)\n",
        "print(f\"The numbers in a list are {a}\\n\")\n",
        "print(f\"The largest number in the list is {max(a)}\")\n",
        "x = input(\"\\nEnter the number.\\n\")\n",
        "y = input(\"\\nEnter the power.\\n\")\n",
        "print(f\"{x} raised to power {y} is {math.pow(int(x),int(y))}\")\n",
        "def display_info(name,age):\n",
        "  print(f\"Name: {name}\\nAge: {age}\")\n",
        "name = input(\"\\nEnter your name.\\n\")\n",
        "age = input(\"\\nEnter your age.\\n\")\n",
        "display_info(name,age)"
      ],
      "metadata": {
        "colab": {
          "base_uri": "https://localhost:8080/"
        },
        "id": "yDUlzgCiHkCu",
        "outputId": "9e6154f8-f981-45b7-ba43-286a52773f69"
      },
      "execution_count": null,
      "outputs": [
        {
          "output_type": "stream",
          "name": "stdout",
          "text": [
            "\n",
            "Enter the numbers or s to stop.2\n",
            "\n",
            "Enter the numbers or s to stop.3\n",
            "\n",
            "Enter the numbers or s to stop.45\n",
            "\n",
            "Enter the numbers or s to stop.s\n",
            "The numbers in a list are ['2', '3', '45']\n",
            "\n",
            "The largest number in the list is 45\n",
            "\n",
            "Enter the number.\n",
            "4\n",
            "\n",
            "Enter the power.\n",
            "2\n",
            "4 raised to power 2 is 16.0\n",
            "\n",
            "Enter your name.\n",
            "isma\n",
            "\n",
            "Enter your age.\n",
            "36\n",
            "Name: isma\n",
            "Age: 36\n"
          ]
        }
      ]
    },
    {
      "cell_type": "markdown",
      "source": [
        "Write a program that:\n",
        "\n",
        "Imports the calendar module.\n",
        "\n",
        "Uses calendar.month(2025, 5) to print the calendar of May 2025.\n",
        "\n",
        "Uses len() to count the characters in the month.\n",
        "\n",
        "Defines a function show_message() to print a custom message.\n"
      ],
      "metadata": {
        "id": "HK1xt3lmLP2g"
      }
    },
    {
      "cell_type": "code",
      "source": [
        "import calendar\n",
        "print(calendar.month(2025, 5))\n",
        "print(f\"Length of the month is {len(calendar.month(2025, 5))}\")\n",
        "def show_message():\n",
        "  print(\"This is a custom message\")\n",
        "show_message()"
      ],
      "metadata": {
        "colab": {
          "base_uri": "https://localhost:8080/"
        },
        "id": "vSJhj7wLLWor",
        "outputId": "347f9966-23de-4036-9acb-01d0940b24a0"
      },
      "execution_count": null,
      "outputs": [
        {
          "output_type": "stream",
          "name": "stdout",
          "text": [
            "      May 2025\n",
            "Mo Tu We Th Fr Sa Su\n",
            "          1  2  3  4\n",
            " 5  6  7  8  9 10 11\n",
            "12 13 14 15 16 17 18\n",
            "19 20 21 22 23 24 25\n",
            "26 27 28 29 30 31\n",
            "\n",
            "Length of the month is 138\n",
            "This is a custom message\n"
          ]
        }
      ]
    },
    {
      "cell_type": "markdown",
      "source": [
        "Import os module and print the current working directory using os.getcwd(). Use a built-in function str() to convert an integer to string. Also, define a user function multiply(x, y) that returns the product.\n"
      ],
      "metadata": {
        "id": "G9HKXs8yL4_N"
      }
    },
    {
      "cell_type": "code",
      "source": [
        "import os\n",
        "print(f\"The current working directory is {os.getcwd()} \")\n",
        "a = 35\n",
        "print(f\"the conversion of integer to string is {str(a)}\")\n",
        "def multiply(x,y):\n",
        "  return x*y\n",
        "print(f\"The product of 2 and 3 is {multiply(2,3)}\")"
      ],
      "metadata": {
        "colab": {
          "base_uri": "https://localhost:8080/"
        },
        "id": "K8uHV6MHMAg3",
        "outputId": "8842731f-2e81-424e-948b-ed2174f11002"
      },
      "execution_count": null,
      "outputs": [
        {
          "output_type": "stream",
          "name": "stdout",
          "text": [
            "The current working directory is /content \n",
            "the conversion of integer to string is 35\n",
            "The product of 2 and 3 is 6\n"
          ]
        }
      ]
    },
    {
      "cell_type": "markdown",
      "source": [
        " Create a program where:\n",
        "\n",
        "You define a function calculate_square_root(num) that uses math.sqrt().\n",
        "\n",
        "Use input() to take a number from the user.\n",
        "\n",
        "Use int() to convert it and type() to confirm the type.\n",
        "\n",
        "Call the user-defined function and print the square root."
      ],
      "metadata": {
        "id": "_9lVYxijMzj6"
      }
    },
    {
      "cell_type": "code",
      "source": [
        "import math\n",
        "def calculate_square_root(num):\n",
        "  return math.sqrt(num)\n",
        "num = int(input(\"Enter a number.\\n\"))\n",
        "print(f\"The square root of {num} is {calculate_square_root(num)}\")\n",
        "print(f\"The type of the number {num} is {type(num)}\")"
      ],
      "metadata": {
        "colab": {
          "base_uri": "https://localhost:8080/"
        },
        "id": "S9Sv1RtGM13o",
        "outputId": "0cd8cc0b-b34d-4a36-d460-08dce948d724"
      },
      "execution_count": null,
      "outputs": [
        {
          "output_type": "stream",
          "name": "stdout",
          "text": [
            "Enter a number.\n",
            "25\n",
            "The square root of 25 is 5.0\n",
            "The type of the number 25 is <class 'int'>\n"
          ]
        }
      ]
    }
  ]
}