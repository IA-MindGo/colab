{
  "nbformat": 4,
  "nbformat_minor": 0,
  "metadata": {
    "colab": {
      "provenance": [],
      "authorship_tag": "ABX9TyPdHZQ9RXk8pohxsbAh0GzK",
      "include_colab_link": true
    },
    "kernelspec": {
      "name": "python3",
      "display_name": "Python 3"
    },
    "language_info": {
      "name": "python"
    }
  },
  "cells": [
    {
      "cell_type": "markdown",
      "metadata": {
        "id": "view-in-github",
        "colab_type": "text"
      },
      "source": [
        "<a href=\"https://colab.research.google.com/github/IA-MindGo/colab/blob/main/assignment3.ipynb\" target=\"_parent\"><img src=\"https://colab.research.google.com/assets/colab-badge.svg\" alt=\"Open In Colab\"/></a>"
      ]
    },
    {
      "cell_type": "markdown",
      "source": [
        "Declare a variable student_id with a value of 101 (integer) and a variable grades with a list containing three integers: 85, 90, 92. Print the value and type of both variables using the type() function."
      ],
      "metadata": {
        "id": "BHuGQ-_5mu65"
      }
    },
    {
      "cell_type": "code",
      "execution_count": null,
      "metadata": {
        "colab": {
          "base_uri": "https://localhost:8080/"
        },
        "id": "ARvRjC5XJKAs",
        "outputId": "170ce49d-9849-4d6f-d7fd-bf2cd7db24c2"
      },
      "outputs": [
        {
          "output_type": "stream",
          "name": "stdout",
          "text": [
            "<class 'int'> Student id is  101\n",
            "<class 'list'> Grades are  [85, 90, 92]\n"
          ]
        }
      ],
      "source": [
        "student_id:int = 101\n",
        "grades:list = [85, 90, 92]\n",
        "print(type(student_id),\"Student id is \",student_id)\n",
        "print(type(grades),\"Grades are \",grades)"
      ]
    },
    {
      "cell_type": "markdown",
      "source": [
        "Create a variable price with a value of 19.99 (float) and a variable dimensions with a tuple containing two floats: 5.5, 3.2. Print the value and type of both variables.\n"
      ],
      "metadata": {
        "id": "0E8pxjqVmtZL"
      }
    },
    {
      "cell_type": "code",
      "source": [
        "price:float=19.99\n",
        "dimention:tuple=(5.5,3.2)\n",
        "print(type(price),\"Price is \",price)\n",
        "print(type(dimention),\"Dimention is \",dimention)"
      ],
      "metadata": {
        "colab": {
          "base_uri": "https://localhost:8080/"
        },
        "id": "fGUM5rvcxXj_",
        "outputId": "383be08a-1bcf-4e34-d410-116042e4931d"
      },
      "execution_count": null,
      "outputs": [
        {
          "output_type": "stream",
          "name": "stdout",
          "text": [
            "<class 'float'> Price is  19.99\n",
            "<class 'tuple'> Dimention is  (5.5, 3.2)\n"
          ]
        }
      ]
    },
    {
      "cell_type": "markdown",
      "source": [
        "Declare a variable complex_value with a complex number 2 + 3j and a variable numbers with a range from 1 to 5 (i.e., range(1, 5)). Print the value and type of both variables.\n"
      ],
      "metadata": {
        "id": "8zE5XMpcvPcq"
      }
    },
    {
      "cell_type": "code",
      "source": [
        "complex_value:complex=2+3j\n",
        "numbers:range=range(1,5)\n",
        "print(type(complex_value),\"Complex value is \",complex_value)\n",
        "print(type(numbers),\"Numbers are \",list(numbers))"
      ],
      "metadata": {
        "id": "FR6r15Ib0S7t",
        "outputId": "f181b6f9-dc81-4c39-bf65-d6ddcef400aa",
        "colab": {
          "base_uri": "https://localhost:8080/"
        }
      },
      "execution_count": null,
      "outputs": [
        {
          "output_type": "stream",
          "name": "stdout",
          "text": [
            "<class 'complex'> Complex value is  (2+3j)\n",
            "<class 'range'> Numbers are  [1, 2, 3, 4]\n"
          ]
        }
      ]
    },
    {
      "cell_type": "markdown",
      "source": [
        "Create a variable is_active with a boolean value True and a variable unique_ids with a set containing three integers: 1, 2, 3. Print the value and type of both variables.\n",
        "\n"
      ],
      "metadata": {
        "id": "MR6fPRFrvWFS"
      }
    },
    {
      "cell_type": "code",
      "source": [
        "is_active:bool=True\n",
        "unique_ids:set={1,2,3}\n",
        "print(type(is_active),\"Is active is \",is_active)\n",
        "print(type(unique_ids),\"Unique ids are \",unique_ids)"
      ],
      "metadata": {
        "id": "EzoUoaGG45Lz",
        "outputId": "b6d24fd6-0411-4da5-e4b4-561fd826225b",
        "colab": {
          "base_uri": "https://localhost:8080/"
        }
      },
      "execution_count": null,
      "outputs": [
        {
          "output_type": "stream",
          "name": "stdout",
          "text": [
            "<class 'bool'> Is active is  True\n",
            "<class 'set'> Unique ids are  {1, 2, 3}\n"
          ]
        }
      ]
    },
    {
      "cell_type": "markdown",
      "source": [
        " Declare a variable status with a string \"Active\" using single quotes and a variable fixed_colors with a frozenset containing two strings: \"red\", \"blue\". Print the value and type of both variables.\n"
      ],
      "metadata": {
        "id": "rJNMf3LTvctr"
      }
    },
    {
      "cell_type": "code",
      "source": [
        "status:str='Active'\n",
        "fixed_colors=frozenset(['red','blue'])\n",
        "print(type(status),\"Status is \",status)\n",
        "print(type(fixed_colors),\"Fixed colors are \",fixed_colors)"
      ],
      "metadata": {
        "id": "0vcmHgDc5eYI",
        "outputId": "615caf69-cb27-4734-a2c4-541f8b09b350",
        "colab": {
          "base_uri": "https://localhost:8080/"
        }
      },
      "execution_count": null,
      "outputs": [
        {
          "output_type": "stream",
          "name": "stdout",
          "text": [
            "<class 'str'> Status is  Active\n",
            "<class 'frozenset'> Fixed colors are  frozenset({'blue', 'red'})\n"
          ]
        }
      ]
    },
    {
      "cell_type": "markdown",
      "source": [
        "  Create a variable country with a string \"Canada\" using double quotes and a variable cities with a list containing two strings: \"Toronto\", \"Vancouver\". Print the value and type of both variables.\n"
      ],
      "metadata": {
        "id": "7-_Apxd6vmvf"
      }
    },
    {
      "cell_type": "code",
      "source": [
        "country:str=\"Canada\"\n",
        "cities:list=['Toronto', 'Vancouver']\n",
        "print(type(country),\"Country is \",country)\n",
        "print(type(cities),\"Cities are \",cities)"
      ],
      "metadata": {
        "id": "EyKsOOPb6HvK",
        "outputId": "b24f21af-88dc-49c9-ab17-2f70ff4a9349",
        "colab": {
          "base_uri": "https://localhost:8080/"
        }
      },
      "execution_count": null,
      "outputs": [
        {
          "output_type": "stream",
          "name": "stdout",
          "text": [
            "<class 'str'> Country is  Canada\n",
            "<class 'list'> Cities are  ['Toronto', 'Vancouver']\n"
          ]
        }
      ]
    },
    {
      "cell_type": "markdown",
      "source": [
        "  Declare a variable motto with a string \"Keep it simple\" using triple single quotes and a variable coordinates with a tuple containing three integers: 10, 20, 30. Print the value and type of both variables.\n"
      ],
      "metadata": {
        "id": "kaeBPpH_vwb1"
      }
    },
    {
      "cell_type": "code",
      "source": [
        "motto:str='''Keep it simple'''\n",
        "coordinates:tuple=(10,20,30)\n",
        "print(type(motto),\"Motto is \",motto)\n",
        "print(type(coordinates),\"Coordinates are \",coordinates)"
      ],
      "metadata": {
        "id": "Gyhi95ds6rzk",
        "outputId": "30122bbc-aec5-417d-e506-d2477db2f98d",
        "colab": {
          "base_uri": "https://localhost:8080/"
        }
      },
      "execution_count": null,
      "outputs": [
        {
          "output_type": "stream",
          "name": "stdout",
          "text": [
            "<class 'str'> Motto is  Keep it simple\n",
            "<class 'tuple'> Coordinates are  (10, 20, 30)\n"
          ]
        }
      ]
    },
    {
      "cell_type": "markdown",
      "source": [
        "Create a variable quantity with a value of 50 (integer) and a variable tags with a set containing two strings: \"urgent\", \"new\". Print the value and type of both variables.\n"
      ],
      "metadata": {
        "id": "q0M44jH9v64G"
      }
    },
    {
      "cell_type": "code",
      "source": [
        "quantity:int=50\n",
        "tags:set={'urgent', 'new'}\n",
        "print(type(quantity),\"Quantity is \",quantity)\n",
        "print(type(tags),\"Tags are \",tags)"
      ],
      "metadata": {
        "id": "JySS-Ci77BKw",
        "outputId": "0058e84f-e3d8-4309-c8ea-de7d1d3a46ff",
        "colab": {
          "base_uri": "https://localhost:8080/"
        }
      },
      "execution_count": null,
      "outputs": [
        {
          "output_type": "stream",
          "name": "stdout",
          "text": [
            "<class 'int'> Quantity is  50\n",
            "<class 'set'> Tags are  {'urgent', 'new'}\n"
          ]
        }
      ]
    },
    {
      "cell_type": "markdown",
      "source": [
        "Declare a variable distance with a value of 42.5 (float) and a variable steps with a range from 0 to 10 with a step of 2 (i.e., range(0, 10, 2)). Print the value and type of both variables.\n"
      ],
      "metadata": {
        "id": "Q0f6-z0PwAd8"
      }
    },
    {
      "cell_type": "code",
      "source": [
        "distance:float=42.5\n",
        "steps:range=range(0,10,2)\n",
        "print(type(distance),\"Distance is \",distance)\n",
        "print(type(steps),\"Steps are \",list(steps))"
      ],
      "metadata": {
        "id": "i3_gyJ5H7M6Y",
        "outputId": "b45413fb-2bf3-422c-c843-b73fe04b7b1a",
        "colab": {
          "base_uri": "https://localhost:8080/"
        }
      },
      "execution_count": null,
      "outputs": [
        {
          "output_type": "stream",
          "name": "stdout",
          "text": [
            "<class 'float'> Distance is  42.5\n",
            "<class 'range'> Steps are  [0, 2, 4, 6, 8]\n"
          ]
        }
      ]
    },
    {
      "cell_type": "markdown",
      "source": [
        "Create a variable note with a multi-line string using triple double quotes:  \n",
        "    \n",
        "    Meeting at 9 AM\n",
        "    Bring notebook\n",
        "      \n",
        "    and a variable locked_values with a frozenset containing three integers: 100, 200, 300. Print the value and type of both variables."
      ],
      "metadata": {
        "id": "yXe1-cFf7g_W"
      }
    },
    {
      "cell_type": "code",
      "source": [
        "note:str=\"\"\"\n",
        "Meeting at 9 AM\n",
        "Bring notebook\"\"\"\n",
        "locked_values=frozenset([100,200,300])\n",
        "print(type(note),\"Note \",note)\n",
        "print(type(locked_values),\"Locked values are \",locked_values)\n",
        "#"
      ],
      "metadata": {
        "colab": {
          "base_uri": "https://localhost:8080/"
        },
        "id": "hNSqH_XHwSVP",
        "outputId": "b1c10d57-5bc7-4fc0-9ce2-248fe937c494"
      },
      "execution_count": null,
      "outputs": [
        {
          "output_type": "stream",
          "name": "stdout",
          "text": [
            "<class 'str'> Note  \n",
            "Meeting at 9 AM\n",
            "Bring notebook\n",
            "<class 'frozenset'> Locked values are  frozenset({200, 100, 300})\n"
          ]
        }
      ]
    }
  ]
}