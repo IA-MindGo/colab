{
  "nbformat": 4,
  "nbformat_minor": 0,
  "metadata": {
    "colab": {
      "provenance": [],
      "authorship_tag": "ABX9TyNCIL5RLKF1VSxStjUBttmf",
      "include_colab_link": true
    },
    "kernelspec": {
      "name": "python3",
      "display_name": "Python 3"
    },
    "language_info": {
      "name": "python"
    }
  },
  "cells": [
    {
      "cell_type": "markdown",
      "metadata": {
        "id": "view-in-github",
        "colab_type": "text"
      },
      "source": [
        "<a href=\"https://colab.research.google.com/github/IA-MindGo/colab/blob/main/Assignment_9.ipynb\" target=\"_parent\"><img src=\"https://colab.research.google.com/assets/colab-badge.svg\" alt=\"Open In Colab\"/></a>"
      ]
    },
    {
      "cell_type": "markdown",
      "source": [
        "Create a list of strings representing prices: [\"100\", \"250\", \"300\"]. Convert them to integers, add tax (10%) to each, and print the final price with a message.\n"
      ],
      "metadata": {
        "id": "fKX48SjR0swd"
      }
    },
    {
      "cell_type": "code",
      "execution_count": null,
      "metadata": {
        "colab": {
          "base_uri": "https://localhost:8080/"
        },
        "id": "gdHL775K0X4C",
        "outputId": "4c86f41f-4d10-4bca-958e-808420adbf25"
      },
      "outputs": [
        {
          "output_type": "stream",
          "name": "stdout",
          "text": [
            "[110.0, 275.0, 330.0]\n"
          ]
        }
      ],
      "source": [
        "prices = [\"100\",\"250\",\"300\"]\n",
        "update_prices = []\n",
        "for price in prices:\n",
        "  updated_price = int(price) + (int(price) * 0.10)\n",
        "  update_prices.append(updated_price)\n",
        "print(update_prices)"
      ]
    },
    {
      "cell_type": "markdown",
      "source": [
        "Ask the user to input their age as a string, cast it to an integer, and check if they are eligible to vote (age >= 18). Print a message accordingly.\n",
        "\n"
      ],
      "metadata": {
        "id": "fNpAIg8U_98E"
      }
    },
    {
      "cell_type": "code",
      "source": [
        "age = str(input(\"Enter your age: \"))\n",
        "if int(age) >= 18:\n",
        "  print(\"You are eligible to vote\")\n",
        "else:\n",
        "  print(\"You are not eligible to vote\")"
      ],
      "metadata": {
        "colab": {
          "base_uri": "https://localhost:8080/"
        },
        "id": "cCFADnhSAwr_",
        "outputId": "a54b5fd3-78b1-42a7-cef1-c36ff08f5e4a"
      },
      "execution_count": null,
      "outputs": [
        {
          "output_type": "stream",
          "name": "stdout",
          "text": [
            "Enter your age: 35\n",
            "You are eligible to vote\n"
          ]
        }
      ]
    },
    {
      "cell_type": "markdown",
      "source": [
        " Create a list of names. Use a loop to print each name along with its length using the len() function and a string message.\n"
      ],
      "metadata": {
        "id": "c950m6lMAlNY"
      }
    },
    {
      "cell_type": "code",
      "source": [
        "names = [\"isma\", \"ali\", \"shan\", \"iqra\", \"talha\", \"fatima\", \"rashid\"]\n",
        "for name in names:\n",
        "  print(f\"Length of the name {name} is {len(name)}\")"
      ],
      "metadata": {
        "colab": {
          "base_uri": "https://localhost:8080/"
        },
        "id": "fOKJovqSA_8O",
        "outputId": "82f65b9d-f880-4d4f-9538-dffa6fd9d33b"
      },
      "execution_count": null,
      "outputs": [
        {
          "output_type": "stream",
          "name": "stdout",
          "text": [
            "Length of the name isma is 4\n",
            "Length of the name ali is 3\n",
            "Length of the name shan is 4\n",
            "Length of the name iqra is 4\n",
            "Length of the name talha is 5\n",
            "Length of the name fatima is 6\n",
            "Length of the name rashid is 6\n"
          ]
        }
      ]
    },
    {
      "cell_type": "markdown",
      "source": [
        " Define a list of mixed numbers (some as strings, some as integers). Use a loop and casting to convert all to integers and print their squares only if they are even.\n",
        "\n"
      ],
      "metadata": {
        "id": "k_4X06fqAmBN"
      }
    },
    {
      "cell_type": "code",
      "source": [
        "numbers = [1,3,4,\"5\",6,7,\"7\",8]\n",
        "for number in numbers:\n",
        "  if type(number) == str:\n",
        "    number = int(number)\n",
        "  if number % 2 == 0:\n",
        "    print(f\"Square of the even {number} is : {number**2}\")"
      ],
      "metadata": {
        "colab": {
          "base_uri": "https://localhost:8080/"
        },
        "id": "tjQt8m4QCIIk",
        "outputId": "e6b7e161-3e17-4042-c17f-100424b649f3"
      },
      "execution_count": null,
      "outputs": [
        {
          "output_type": "stream",
          "name": "stdout",
          "text": [
            "Square of the even 4 is : 16\n",
            "Square of the even 6 is : 36\n",
            "Square of the even 8 is : 64\n"
          ]
        }
      ]
    },
    {
      "cell_type": "markdown",
      "source": [
        "Ask the user to input two numbers. Use arithmetic and comparison operators to perform calculations and display whether the first number is greater, equal, or less than the second.\n"
      ],
      "metadata": {
        "id": "I_k6CyiTAt_m"
      }
    },
    {
      "cell_type": "code",
      "source": [
        "a=int(input(\"Enter first number: \"))\n",
        "b=int(input(\"Enter second number: \"))\n",
        "if a>b:\n",
        "  print(f\"{a} is greater than {b}\")\n",
        "elif a==b:\n",
        "  print(f\"{a} is equal to {b}\")\n",
        "else:\n",
        "  print(f\"{a} is less than {b}\")"
      ],
      "metadata": {
        "colab": {
          "base_uri": "https://localhost:8080/"
        },
        "id": "xSNTyuVnDpUW",
        "outputId": "bc4b9e9f-29ed-459f-c09e-438f595b5a2c"
      },
      "execution_count": null,
      "outputs": [
        {
          "output_type": "stream",
          "name": "stdout",
          "text": [
            "Enter first number: 1\n",
            "Enter second number: 2\n",
            "1 is less than 2\n"
          ]
        }
      ]
    },
    {
      "cell_type": "markdown",
      "source": [
        "Create a variable called is_valid and assign it a boolean value. Use if-else to print different messages based on its value. Add this variable to a list and print the list.\n"
      ],
      "metadata": {
        "id": "V16dxz2_EmxN"
      }
    },
    {
      "cell_type": "code",
      "source": [
        "is_valid = True\n",
        "if is_valid is True:\n",
        "  print(\"Valid\")\n",
        "else:\n",
        "  print(\"Invalid\")\n",
        "a_list = [is_valid, \"false\", \"yes\", \"no\"]\n",
        "print(a_list)"
      ],
      "metadata": {
        "colab": {
          "base_uri": "https://localhost:8080/"
        },
        "id": "-EX6bTRFE96w",
        "outputId": "b0c6a3e5-4dc8-4e03-b1c7-e324e9bb015d"
      },
      "execution_count": null,
      "outputs": [
        {
          "output_type": "stream",
          "name": "stdout",
          "text": [
            "Valid\n",
            "[True, 'false', 'yes', 'no']\n"
          ]
        }
      ]
    },
    {
      "cell_type": "markdown",
      "source": [
        "Store a student's details: name (str), age (str), and score (str) in a list. Convert appropriate items to correct data types and use control flow to print whether the student passed (score >= 40).\n"
      ],
      "metadata": {
        "id": "M4e85TIqEsBD"
      }
    },
    {
      "cell_type": "code",
      "source": [
        "student = [\"Talha\",\"15\",\"80\"]\n",
        "name=student[0]\n",
        "age=student[1]\n",
        "score=student[2]\n",
        "if int(score) >= 40:\n",
        "  print(f\"{name}  of age {age} is passed\")\n",
        "else:\n",
        "  print(f\"{name} of age {age} is failed\")\n"
      ],
      "metadata": {
        "colab": {
          "base_uri": "https://localhost:8080/"
        },
        "id": "zS8qMBTYFt_H",
        "outputId": "b81db78e-3988-494e-e894-4790389d9ddf"
      },
      "execution_count": null,
      "outputs": [
        {
          "output_type": "stream",
          "name": "stdout",
          "text": [
            "Talha  of age 15 is passed\n"
          ]
        }
      ]
    },
    {
      "cell_type": "markdown",
      "source": [
        "Create a list of 4 elements: [\"5\", 10, 15.5, True]. Loop through and print each element’s value, data type, and if it's numeric, multiply by 2 and print the result.\n",
        "\n"
      ],
      "metadata": {
        "id": "luHBEU_MExDt"
      }
    },
    {
      "cell_type": "code",
      "source": [
        "elements = [\"5\",10,15.5,True]\n",
        "for element in elements:\n",
        "  if type(element) == int or type(element) == float:\n",
        "    print(f\"Value: {element}, Data Type: {type(element)}, Result after multiplying with 2: {element*2}\")\n",
        "  else:\n",
        "    print(f\"Value: {element}, Data Type: {type(element)}\")"
      ],
      "metadata": {
        "colab": {
          "base_uri": "https://localhost:8080/"
        },
        "id": "jKUkVLs3GrhS",
        "outputId": "b6cab2ba-8ed6-45cf-d51c-c203fb3d0d29"
      },
      "execution_count": null,
      "outputs": [
        {
          "output_type": "stream",
          "name": "stdout",
          "text": [
            "Value: 5, Data Type: <class 'str'>\n",
            "Value: 10, Data Type: <class 'int'>, Result after multiplying with 2: 20\n",
            "Value: 15.5, Data Type: <class 'float'>, Result after multiplying with 2: 31.0\n",
            "Value: True, Data Type: <class 'bool'>\n"
          ]
        }
      ]
    },
    {
      "cell_type": "markdown",
      "source": [
        "Ask the user for their name and score as input. Cast the score to integer, check if it’s above 90 and print a grade (A, B, C, Fail) using if-elif-else conditions.\n"
      ],
      "metadata": {
        "id": "SEfAyi2lE2CD"
      }
    },
    {
      "cell_type": "code",
      "source": [
        "name = str(input(\"Enter your name: \"))\n",
        "score = int(input(\"Enter your score:\"))\n",
        "if score >= 90:\n",
        "  print(f\"Grade of {name} is A\")\n",
        "elif score >= 80:\n",
        "  print(f\"Grade of {name} is B\")\n",
        "elif score >= 70:\n",
        "    print(f\"Grade of {name} is C\")\n",
        "else:\n",
        "  print(f\"Grade of {name} is Fail\")"
      ],
      "metadata": {
        "colab": {
          "base_uri": "https://localhost:8080/"
        },
        "id": "gmGECSYQH27q",
        "outputId": "a8171497-fa9b-4cd9-b1fe-87ae2d730a3e"
      },
      "execution_count": null,
      "outputs": [
        {
          "output_type": "stream",
          "name": "stdout",
          "text": [
            "Enter your name: talha\n",
            "Enter your score:89\n",
            "Grade of talha is B\n"
          ]
        }
      ]
    },
    {
      "cell_type": "markdown",
      "source": [
        "Create a program where a list of strings contains potential Python keywords like \"if\", \"else\", \"for\", \"hello\". Use if to check which ones are actual Python keywords using the keyword module, and print the result."
      ],
      "metadata": {
        "id": "lY4hYuVvE5xm"
      }
    },
    {
      "cell_type": "code",
      "source": [
        "import keyword\n",
        "keywords = [\"if\", \"else\", \"for\", \"hello\", \"python\", \"welcome\", \"while\"]\n",
        "for key in keywords:\n",
        "  if key in keyword.kwlist:\n",
        "    print(f\"{key} is a Python keyword\")\n",
        "  else:\n",
        "    print(f\"{key} is not a Python keyword\")"
      ],
      "metadata": {
        "colab": {
          "base_uri": "https://localhost:8080/"
        },
        "id": "1Efk1UNCIhMU",
        "outputId": "d2ea1f57-2176-4e38-c576-58d11f187437"
      },
      "execution_count": null,
      "outputs": [
        {
          "output_type": "stream",
          "name": "stdout",
          "text": [
            "if is a Python keyword\n",
            "else is a Python keyword\n",
            "for is a Python keyword\n",
            "hello is not a Python keyword\n",
            "python is not a Python keyword\n",
            "welcome is not a Python keyword\n",
            "while is a Python keyword\n"
          ]
        }
      ]
    }
  ]
}