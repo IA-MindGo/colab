{
  "nbformat": 4,
  "nbformat_minor": 0,
  "metadata": {
    "colab": {
      "provenance": [],
      "authorship_tag": "ABX9TyNc0inkWTw3V4dus4FUm4SA",
      "include_colab_link": true
    },
    "kernelspec": {
      "name": "python3",
      "display_name": "Python 3"
    },
    "language_info": {
      "name": "python"
    }
  },
  "cells": [
    {
      "cell_type": "markdown",
      "metadata": {
        "id": "view-in-github",
        "colab_type": "text"
      },
      "source": [
        "<a href=\"https://colab.research.google.com/github/IA-MindGo/colab/blob/main/Assignment_7.ipynb\" target=\"_parent\"><img src=\"https://colab.research.google.com/assets/colab-badge.svg\" alt=\"Open In Colab\"/></a>"
      ]
    },
    {
      "cell_type": "markdown",
      "source": [
        "Print numbers from 1 to 10.\n"
      ],
      "metadata": {
        "id": "0tHTofo2XvH0"
      }
    },
    {
      "cell_type": "code",
      "execution_count": null,
      "metadata": {
        "colab": {
          "base_uri": "https://localhost:8080/"
        },
        "id": "UI_Igf9CXkTo",
        "outputId": "5feb6ff7-5a95-4e09-f045-f9142ff83fbe"
      },
      "outputs": [
        {
          "output_type": "stream",
          "name": "stdout",
          "text": [
            "Numbers from 1 to 10.\n",
            "1\n",
            "2\n",
            "3\n",
            "4\n",
            "5\n",
            "6\n",
            "7\n",
            "8\n",
            "9\n",
            "10\n"
          ]
        }
      ],
      "source": [
        "print(\"Numbers from 1 to 10.\")\n",
        "for i in range(1,11):\n",
        "  print(i)"
      ]
    },
    {
      "cell_type": "markdown",
      "source": [
        "Print all even numbers between 1 and 20.\n"
      ],
      "metadata": {
        "id": "yaZHaS4AXuSq"
      }
    },
    {
      "cell_type": "code",
      "source": [
        "print(\"Even numbers between 1 and 20.\")\n",
        "for i in range(2,21,2):\n",
        "  print(i)"
      ],
      "metadata": {
        "colab": {
          "base_uri": "https://localhost:8080/"
        },
        "id": "1pffkLkTYr74",
        "outputId": "f0260eb3-f139-4e4d-f697-3cbdc47ccfb9"
      },
      "execution_count": null,
      "outputs": [
        {
          "output_type": "stream",
          "name": "stdout",
          "text": [
            "Even numbers between 1 and 20.\n",
            "2\n",
            "4\n",
            "6\n",
            "8\n",
            "10\n",
            "12\n",
            "14\n",
            "16\n",
            "18\n",
            "20\n"
          ]
        }
      ]
    },
    {
      "cell_type": "markdown",
      "source": [
        " Print all odd numbers between 1 and 15.\n"
      ],
      "metadata": {
        "id": "ZoGXJd93X6hX"
      }
    },
    {
      "cell_type": "code",
      "source": [
        "print(\"All odd numbers between 1 and 15.\")\n",
        "for i in range(1,16,2):\n",
        "  print(i)"
      ],
      "metadata": {
        "colab": {
          "base_uri": "https://localhost:8080/"
        },
        "id": "eY7Oe5daZV2S",
        "outputId": "59a0d6e1-e32a-4abf-c7b1-c18026165ff2"
      },
      "execution_count": null,
      "outputs": [
        {
          "output_type": "stream",
          "name": "stdout",
          "text": [
            "All odd numbers between 1 and 15.\n",
            "1\n",
            "3\n",
            "5\n",
            "7\n",
            "9\n",
            "11\n",
            "13\n",
            "15\n"
          ]
        }
      ]
    },
    {
      "cell_type": "markdown",
      "source": [
        "Print numbers from 10 to 1 in reverse order.\n"
      ],
      "metadata": {
        "id": "AU3D2ZI0X9wp"
      }
    },
    {
      "cell_type": "code",
      "source": [
        "print(\"Numbers from 1 to 10 in reverse order.\")\n",
        "for i in range(10,0,-1):\n",
        "  print(i)"
      ],
      "metadata": {
        "colab": {
          "base_uri": "https://localhost:8080/"
        },
        "id": "-_YUShJPZqu3",
        "outputId": "5ee4ffc3-d6cd-47d9-8878-b88835b149c9"
      },
      "execution_count": null,
      "outputs": [
        {
          "output_type": "stream",
          "name": "stdout",
          "text": [
            "Numbers from 1 to 10 in reverse order.\n",
            "10\n",
            "9\n",
            "8\n",
            "7\n",
            "6\n",
            "5\n",
            "4\n",
            "3\n",
            "2\n",
            "1\n"
          ]
        }
      ]
    },
    {
      "cell_type": "markdown",
      "source": [
        "Print the multiplication table of 7.\n"
      ],
      "metadata": {
        "id": "XHcTPzpbYBlA"
      }
    },
    {
      "cell_type": "code",
      "source": [
        "print(\"Multiplication table of 7.\")\n",
        "for i in range(1,11):\n",
        "  print(f\"7 x {i} = {7*i}\")"
      ],
      "metadata": {
        "colab": {
          "base_uri": "https://localhost:8080/"
        },
        "id": "yT5QvCgWZ50k",
        "outputId": "44e66998-0ea9-44c6-ddc3-b00726d1cb98"
      },
      "execution_count": null,
      "outputs": [
        {
          "output_type": "stream",
          "name": "stdout",
          "text": [
            "Multiplication table of 7.\n",
            "7 x 1 = 7\n",
            "7 x 2 = 14\n",
            "7 x 3 = 21\n",
            "7 x 4 = 28\n",
            "7 x 5 = 35\n",
            "7 x 6 = 42\n",
            "7 x 7 = 49\n",
            "7 x 8 = 56\n",
            "7 x 9 = 63\n",
            "7 x 10 = 70\n"
          ]
        }
      ]
    },
    {
      "cell_type": "markdown",
      "source": [
        "Ask the user for a number and print its table up to 12.\n"
      ],
      "metadata": {
        "id": "9mypOJxnYI2i"
      }
    },
    {
      "cell_type": "code",
      "source": [
        "num=int(input(\"Enter a number: \"))\n",
        "print(f\"Multiplication table of {num}.\")\n",
        "for i in range(1,13):\n",
        "  print(f\"{num} x {i} = {num*i}\")"
      ],
      "metadata": {
        "colab": {
          "base_uri": "https://localhost:8080/"
        },
        "id": "25vZK9CsaKnA",
        "outputId": "4f5c15b3-6250-404c-9f14-2f291e920e40"
      },
      "execution_count": null,
      "outputs": [
        {
          "output_type": "stream",
          "name": "stdout",
          "text": [
            "Enter a number: 10\n",
            "Multiplication table of 10.\n",
            "10 x 1 = 10\n",
            "10 x 2 = 20\n",
            "10 x 3 = 30\n",
            "10 x 4 = 40\n",
            "10 x 5 = 50\n",
            "10 x 6 = 60\n",
            "10 x 7 = 70\n",
            "10 x 8 = 80\n",
            "10 x 9 = 90\n",
            "10 x 10 = 100\n",
            "10 x 11 = 110\n",
            "10 x 12 = 120\n"
          ]
        }
      ]
    },
    {
      "cell_type": "markdown",
      "source": [
        "Print the sum of numbers from 1 to 50.\n"
      ],
      "metadata": {
        "id": "m4Ug0_u6YKvq"
      }
    },
    {
      "cell_type": "code",
      "source": [
        "print(\"Sum of numbers from 1 to 50.\")\n",
        "sum=0\n",
        "for i in range(1,51):\n",
        "  sum+=i\n",
        "print(f\"Sum = {sum}\")"
      ],
      "metadata": {
        "colab": {
          "base_uri": "https://localhost:8080/"
        },
        "id": "ms17VPPLaZyG",
        "outputId": "084b39a2-b6ca-4c31-e035-9a9059752543"
      },
      "execution_count": null,
      "outputs": [
        {
          "output_type": "stream",
          "name": "stdout",
          "text": [
            "Sum of numbers from 1 to 50.\n",
            "Sum = 1275\n"
          ]
        }
      ]
    },
    {
      "cell_type": "markdown",
      "source": [
        "Print the product (multiplication result) of numbers from 1 to 10.\n"
      ],
      "metadata": {
        "id": "fQOo1hCtYPQS"
      }
    },
    {
      "cell_type": "code",
      "source": [
        "print(\"Product of numbers from 1 to 10.\")\n",
        "product=1\n",
        "for i in range(1,11):\n",
        "  product*=i\n",
        "print(f\"Product = {product}\")"
      ],
      "metadata": {
        "colab": {
          "base_uri": "https://localhost:8080/"
        },
        "id": "Lc1cbJCuapkb",
        "outputId": "62e9ee2c-7a31-4689-b861-e3478dd7af43"
      },
      "execution_count": null,
      "outputs": [
        {
          "output_type": "stream",
          "name": "stdout",
          "text": [
            "Product of numbers from 1 to 10.\n",
            "Product = 3628800\n"
          ]
        }
      ]
    },
    {
      "cell_type": "markdown",
      "source": [
        "Print each character in the string \"Learning\" one by one.\n"
      ],
      "metadata": {
        "id": "seA9nk0_YZ_b"
      }
    },
    {
      "cell_type": "code",
      "source": [
        "a=\"Learning\"\n",
        "print(\"Each character in the string 'Learning' one by one.\")\n",
        "for i in a:\n",
        "  print(i)"
      ],
      "metadata": {
        "colab": {
          "base_uri": "https://localhost:8080/"
        },
        "id": "mSwjEwT9bAZ7",
        "outputId": "3d9b6726-7e00-4f77-8782-456b352bc4a7"
      },
      "execution_count": null,
      "outputs": [
        {
          "output_type": "stream",
          "name": "stdout",
          "text": [
            "Each character in the string 'Learning' one by one.\n",
            "L\n",
            "e\n",
            "a\n",
            "r\n",
            "n\n",
            "i\n",
            "n\n",
            "g\n"
          ]
        }
      ]
    },
    {
      "cell_type": "markdown",
      "source": [
        " Print all items of the list [\"pen\", \"pencil\", \"eraser\"] using a loop."
      ],
      "metadata": {
        "id": "-5b_CSacYeQx"
      }
    },
    {
      "cell_type": "code",
      "source": [
        "a=[\"pen\",\"pencil\",\"eraser\"]\n",
        "print(\"All items of the list are \")\n",
        "for i in a:\n",
        "  print(i)"
      ],
      "metadata": {
        "colab": {
          "base_uri": "https://localhost:8080/"
        },
        "id": "QkoBKsthclJf",
        "outputId": "528b5653-d4eb-433a-d7ad-e0799cd01639"
      },
      "execution_count": null,
      "outputs": [
        {
          "output_type": "stream",
          "name": "stdout",
          "text": [
            "All items of the list are \n",
            "pen\n",
            "pencil\n",
            "eraser\n"
          ]
        }
      ]
    },
    {
      "cell_type": "markdown",
      "source": [
        "Print numbers from 1 to 10 but skip number 5.\n"
      ],
      "metadata": {
        "id": "FQ3Ich8zc5Z8"
      }
    },
    {
      "cell_type": "code",
      "source": [
        "num=1\n",
        "print(\"Numbers from 1 to 10 but skip number 5.\")\n",
        "while num<=10:\n",
        "  if num==5:\n",
        "    num+=1\n",
        "    continue\n",
        "  print(num)\n",
        "  num+=1"
      ],
      "metadata": {
        "colab": {
          "base_uri": "https://localhost:8080/"
        },
        "id": "SnNyF1zHhlA7",
        "outputId": "7d4f63bf-2d91-439a-cdda-fcef544366cb"
      },
      "execution_count": null,
      "outputs": [
        {
          "output_type": "stream",
          "name": "stdout",
          "text": [
            "Numbers from 1 to 10 but skip number 5.\n",
            "1\n",
            "2\n",
            "3\n",
            "4\n",
            "6\n",
            "7\n",
            "8\n",
            "9\n",
            "10\n"
          ]
        }
      ]
    },
    {
      "cell_type": "markdown",
      "source": [
        "Print numbers from 1 to 10 and stop when number 7 is reached.\n"
      ],
      "metadata": {
        "id": "bjUsDs4LdAeJ"
      }
    },
    {
      "cell_type": "code",
      "source": [
        "num=1\n",
        "print(\"Numbers from 1 to 10 and stop when number 7 is reached.\")\n",
        "while num<=10:\n",
        "  if num==7:\n",
        "    break\n",
        "  print(num)\n",
        "  num+=1"
      ],
      "metadata": {
        "colab": {
          "base_uri": "https://localhost:8080/"
        },
        "id": "iO5rHfdHh1Dk",
        "outputId": "94a8edf6-1488-4dbe-9772-17b2f337fac3"
      },
      "execution_count": null,
      "outputs": [
        {
          "output_type": "stream",
          "name": "stdout",
          "text": [
            "Numbers from 1 to 10 and stop when number 7 is reached.\n",
            "1\n",
            "2\n",
            "3\n",
            "4\n",
            "5\n",
            "6\n"
          ]
        }
      ]
    },
    {
      "cell_type": "markdown",
      "source": [
        " Ask the user for a word and print each letter on a new line.\n"
      ],
      "metadata": {
        "id": "xviDawjDdE5_"
      }
    },
    {
      "cell_type": "code",
      "source": [
        "a=input(\"Enter a word: \")\n",
        "print(f\"Letters are.\")\n",
        "for i in a:\n",
        "  print(i)"
      ],
      "metadata": {
        "colab": {
          "base_uri": "https://localhost:8080/"
        },
        "id": "gZVjzktRh_Ug",
        "outputId": "60792338-f74f-4cdd-d99a-fa12089803b6"
      },
      "execution_count": null,
      "outputs": [
        {
          "output_type": "stream",
          "name": "stdout",
          "text": [
            "Enter a word: python\n",
            "Letters are.\n",
            "p\n",
            "y\n",
            "t\n",
            "h\n",
            "o\n",
            "n\n"
          ]
        }
      ]
    },
    {
      "cell_type": "markdown",
      "source": [
        "Count how many vowels are in the word \"education\" using a loop.\n"
      ],
      "metadata": {
        "id": "UN8lBp9BdLjZ"
      }
    },
    {
      "cell_type": "code",
      "source": [
        "count=0\n",
        "word=\"education\"\n",
        "b=[\"a\",\"e\",\"i\",\"o\",\"u\"]\n",
        "for i in word:\n",
        "  if i in b:\n",
        "    count+=1\n",
        "print(f\"Number of vowels in the word \\'{word}\\' are: \",count)"
      ],
      "metadata": {
        "colab": {
          "base_uri": "https://localhost:8080/"
        },
        "id": "sd_B4tgRijeD",
        "outputId": "c94a16c1-d8d2-4cea-edd3-c1485ff4a80b"
      },
      "execution_count": null,
      "outputs": [
        {
          "output_type": "stream",
          "name": "stdout",
          "text": [
            "Number of vowels in the word 'education' are:  5\n"
          ]
        }
      ]
    },
    {
      "cell_type": "markdown",
      "source": [
        " Ask the user to enter 5 numbers and print the sum of all entered numbers.\n"
      ],
      "metadata": {
        "id": "8c2JShgWdNff"
      }
    },
    {
      "cell_type": "code",
      "source": [
        "sum=0\n",
        "for i in range(5):\n",
        "  num=int(input(\"Enter a number: \"))\n",
        "  sum+=num\n",
        "print(f\"Sum of all entered numbers is: {sum}\")"
      ],
      "metadata": {
        "colab": {
          "base_uri": "https://localhost:8080/"
        },
        "id": "rmJS7lBkkQpQ",
        "outputId": "2e6e9666-70e8-4423-f7c5-85e8980f4783"
      },
      "execution_count": null,
      "outputs": [
        {
          "output_type": "stream",
          "name": "stdout",
          "text": [
            "Enter a number: 9\n",
            "Enter a number: 10\n",
            "Enter a number: 10\n",
            "Enter a number: 20\n",
            "Enter a number: 20\n",
            "Sum of all entered numbers is: 69\n"
          ]
        }
      ]
    },
    {
      "cell_type": "markdown",
      "source": [
        " Print the square of numbers from 1 to 10.\n"
      ],
      "metadata": {
        "id": "HkWsxRqidZ8T"
      }
    },
    {
      "cell_type": "code",
      "source": [
        "print(\"Square of numbers from 1 to 10 are:\")\n",
        "for i in range(1,11):\n",
        "  print(f\"Square of {i} is: {i**2}\")"
      ],
      "metadata": {
        "colab": {
          "base_uri": "https://localhost:8080/"
        },
        "id": "TGmxG0ImlRRu",
        "outputId": "712c4936-868f-4eee-ceed-b6bd9b131fbb"
      },
      "execution_count": null,
      "outputs": [
        {
          "output_type": "stream",
          "name": "stdout",
          "text": [
            "Square of numbers from 1 to 10 are:\n",
            "Square of 1 is: 1\n",
            "Square of 2 is: 4\n",
            "Square of 3 is: 9\n",
            "Square of 4 is: 16\n",
            "Square of 5 is: 25\n",
            "Square of 6 is: 36\n",
            "Square of 7 is: 49\n",
            "Square of 8 is: 64\n",
            "Square of 9 is: 81\n",
            "Square of 10 is: 100\n"
          ]
        }
      ]
    },
    {
      "cell_type": "markdown",
      "source": [
        " Print this pattern using a loop:\n",
        "\n",
        " *\n",
        "\n",
        " **\n",
        "\n",
        " ***\n",
        "\n",
        " ****\n"
      ],
      "metadata": {
        "id": "GjVJMItQddEK"
      }
    },
    {
      "cell_type": "code",
      "source": [
        "for i in range(1,5):\n",
        "  print(\"*\"*i)"
      ],
      "metadata": {
        "colab": {
          "base_uri": "https://localhost:8080/"
        },
        "id": "YBHB0lLml0tF",
        "outputId": "b214f34b-5c4c-4fcb-beb6-c7a40c1ec0d4"
      },
      "execution_count": null,
      "outputs": [
        {
          "output_type": "stream",
          "name": "stdout",
          "text": [
            "*\n",
            "**\n",
            "***\n",
            "****\n"
          ]
        }
      ]
    },
    {
      "cell_type": "markdown",
      "source": [
        "Create a list of numbers and print only the numbers greater than 5.\n"
      ],
      "metadata": {
        "id": "a6POum5VdjVC"
      }
    },
    {
      "cell_type": "code",
      "source": [
        "num=[12,23,34,56,2,3,4,6,9]\n",
        "print(\"List of numbers is :\",num)\n",
        "print(\"Numbers greater than 5 are:\")\n",
        "for i in num:\n",
        "  if i>5:\n",
        "    print(i)"
      ],
      "metadata": {
        "colab": {
          "base_uri": "https://localhost:8080/"
        },
        "id": "vUlh8tO0nOW4",
        "outputId": "a2390eba-cabc-4b63-ee61-b00a6968eefc"
      },
      "execution_count": null,
      "outputs": [
        {
          "output_type": "stream",
          "name": "stdout",
          "text": [
            "List of numbers is : [12, 23, 34, 56, 2, 3, 4, 6, 9]\n",
            "Numbers greater than 5 are:\n",
            "12\n",
            "23\n",
            "34\n",
            "56\n",
            "6\n",
            "9\n"
          ]
        }
      ]
    },
    {
      "cell_type": "markdown",
      "source": [
        "Use a loop to print the first 10 multiples of 3.\n"
      ],
      "metadata": {
        "id": "PgMrZZU4d9jY"
      }
    },
    {
      "cell_type": "code",
      "source": [
        "print(\"First 10 multiples of 3 are:\")\n",
        "for i in range(1,11):\n",
        "  print(f\"3 x {i} = {3*i}\")"
      ],
      "metadata": {
        "colab": {
          "base_uri": "https://localhost:8080/"
        },
        "id": "mcbS4UCLoV4s",
        "outputId": "663d094b-a0ae-4779-cb8d-391c7059d1d4"
      },
      "execution_count": null,
      "outputs": [
        {
          "output_type": "stream",
          "name": "stdout",
          "text": [
            "First 10 multiples of 3 are:\n",
            "3 x 1 = 3\n",
            "3 x 2 = 6\n",
            "3 x 3 = 9\n",
            "3 x 4 = 12\n",
            "3 x 5 = 15\n",
            "3 x 6 = 18\n",
            "3 x 7 = 21\n",
            "3 x 8 = 24\n",
            "3 x 9 = 27\n",
            "3 x 10 = 30\n"
          ]
        }
      ]
    },
    {
      "cell_type": "markdown",
      "source": [
        " Print the factorial of a number given by the user."
      ],
      "metadata": {
        "id": "w396wxYvd-ho"
      }
    },
    {
      "cell_type": "code",
      "source": [
        "print(\"To find factorial of a number\\n\")\n",
        "num=input(\"Enter the number:\")\n",
        "fact=1\n",
        "for i in range(1,int(num)+1):\n",
        "  fact*=i\n",
        "print(f\"\\nFactorial of {num} is: {fact}\")"
      ],
      "metadata": {
        "colab": {
          "base_uri": "https://localhost:8080/"
        },
        "id": "uLONmpP7pSME",
        "outputId": "5db27e30-844e-4220-f430-f523f63a1f4e"
      },
      "execution_count": null,
      "outputs": [
        {
          "output_type": "stream",
          "name": "stdout",
          "text": [
            "To find factorial of a number\n",
            "\n",
            "Enter the number:6\n",
            "\n",
            "Factorial of 6 is: 720\n"
          ]
        }
      ]
    }
  ]
}