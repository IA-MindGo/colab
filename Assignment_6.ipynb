{
  "nbformat": 4,
  "nbformat_minor": 0,
  "metadata": {
    "colab": {
      "provenance": [],
      "authorship_tag": "ABX9TyOLhMlHSCz9fptgtfSNvtDC",
      "include_colab_link": true
    },
    "kernelspec": {
      "name": "python3",
      "display_name": "Python 3"
    },
    "language_info": {
      "name": "python"
    }
  },
  "cells": [
    {
      "cell_type": "markdown",
      "metadata": {
        "id": "view-in-github",
        "colab_type": "text"
      },
      "source": [
        "<a href=\"https://colab.research.google.com/github/IA-MindGo/colab/blob/main/Assignment_6.ipynb\" target=\"_parent\"><img src=\"https://colab.research.google.com/assets/colab-badge.svg\" alt=\"Open In Colab\"/></a>"
      ]
    },
    {
      "cell_type": "markdown",
      "source": [
        "Write a program that checks if a number is positive or negative. If it is zero, print \"Zero\".\n"
      ],
      "metadata": {
        "id": "5ZUN6tDbOriH"
      }
    },
    {
      "cell_type": "code",
      "execution_count": null,
      "metadata": {
        "colab": {
          "base_uri": "https://localhost:8080/"
        },
        "id": "z6NSEFnAJGe7",
        "outputId": "8c0f880d-e187-40b1-abe0-5d79f2fb7546"
      },
      "outputs": [
        {
          "output_type": "stream",
          "name": "stdout",
          "text": [
            "Enter a number: 12\n",
            "Number is Positive\n"
          ]
        }
      ],
      "source": [
        "num=float(input(\"Enter a number: \"))\n",
        "if num>0:\n",
        "  print(\"Number is Positive\")\n",
        "elif num<0:\n",
        "  print(\"Number is Negative\")\n",
        "else:\n",
        "  print(\"Zero\")"
      ]
    },
    {
      "cell_type": "markdown",
      "source": [
        " Input a number and print whether it is even or odd.\n"
      ],
      "metadata": {
        "id": "Y9QCJw8wO1Rv"
      }
    },
    {
      "cell_type": "code",
      "source": [
        "a=int(input(\"Enter a number: \"))\n",
        "if a%2==0:\n",
        "  print(\"It is Even\")\n",
        "else:\n",
        "  print(\"It is Odd\")"
      ],
      "metadata": {
        "colab": {
          "base_uri": "https://localhost:8080/"
        },
        "id": "YZdOUTnKQeM9",
        "outputId": "7a55cd72-9d3b-4839-aa37-edab21e6b594"
      },
      "execution_count": null,
      "outputs": [
        {
          "output_type": "stream",
          "name": "stdout",
          "text": [
            "Enter a number: 34\n",
            "It is Even\n"
          ]
        }
      ]
    },
    {
      "cell_type": "markdown",
      "source": [
        "Ask the user to enter their age. If the age is 18 or above, print \"Eligible to vote\", otherwise print \"Not eligible\".\n"
      ],
      "metadata": {
        "id": "JFjFzqh6O59u"
      }
    },
    {
      "cell_type": "code",
      "source": [
        "age=int(input(\"Enter your age:\"))\n",
        "if age>=18:\n",
        "  print(\"Eligible to vote\")\n",
        "else:\n",
        "  print(\"Not eligible\")"
      ],
      "metadata": {
        "colab": {
          "base_uri": "https://localhost:8080/"
        },
        "id": "vLIL4vk-Qriq",
        "outputId": "ddb86b5c-7105-4a5a-91ef-850d5d4d1b2e"
      },
      "execution_count": null,
      "outputs": [
        {
          "output_type": "stream",
          "name": "stdout",
          "text": [
            "Enter your age:36\n",
            "Eligible to vote\n"
          ]
        }
      ]
    },
    {
      "cell_type": "markdown",
      "source": [
        "Enter a number and print whether it is divisible by 3, 5, or both.\n"
      ],
      "metadata": {
        "id": "GKgU-DjSPMCL"
      }
    },
    {
      "cell_type": "code",
      "source": [
        "a=float(input(\"Enter a number:\"))\n",
        "if a%3==0 and a%5==0:\n",
        "  print(\"Divisible by 3 and 5\")\n",
        "elif a%3==0:\n",
        "  print(\"Divisible by 3\")\n",
        "elif a%5==0:\n",
        "  print(\"Divisible by 5\")"
      ],
      "metadata": {
        "colab": {
          "base_uri": "https://localhost:8080/"
        },
        "id": "41Vm5CE0RNDe",
        "outputId": "b42b8007-0988-4d89-ed30-0fc0378a1b55"
      },
      "execution_count": null,
      "outputs": [
        {
          "output_type": "stream",
          "name": "stdout",
          "text": [
            "Enter a number:15\n",
            "Divisible by 3 and 5\n"
          ]
        }
      ]
    },
    {
      "cell_type": "markdown",
      "source": [
        "Ask for a student's marks. If marks are 90 or above, print \"A+\", if 80 or above, print \"A\", if 70 or above, print \"B\", otherwise print \"Fail\".\n"
      ],
      "metadata": {
        "id": "qkgVOLqPPPpA"
      }
    },
    {
      "cell_type": "code",
      "source": [
        "marks=float(input(\"Enter the marks: \"))\n",
        "if marks>=90:\n",
        "  print(\"A+\")\n",
        "elif marks>=80:\n",
        "  print(\"A\")\n",
        "elif marks>=70:\n",
        "  print(\"B\")\n",
        "else:\n",
        "  print(\"Fail\")"
      ],
      "metadata": {
        "colab": {
          "base_uri": "https://localhost:8080/"
        },
        "id": "VWfszuv9SCmI",
        "outputId": "f0249aeb-fcd7-496c-abb4-996a34c68620"
      },
      "execution_count": null,
      "outputs": [
        {
          "output_type": "stream",
          "name": "stdout",
          "text": [
            "Enter the marks: 67.5\n",
            "Fail\n"
          ]
        }
      ]
    },
    {
      "cell_type": "markdown",
      "source": [
        "Take a temperature value. If it's above 40, print \"Too hot\", if it's below 10, print \"Too cold\", otherwise print \"Moderate weather\".\n"
      ],
      "metadata": {
        "id": "TrZcpzPQPXkR"
      }
    },
    {
      "cell_type": "code",
      "source": [
        "temp=float(input(\"Enter the temperature: \"))\n",
        "if temp>40:\n",
        "  print(\"Too hot\")\n",
        "elif temp<10:\n",
        "  print(\"Too cold\")\n",
        "else:\n",
        "  print(\"Moderate weather\")"
      ],
      "metadata": {
        "colab": {
          "base_uri": "https://localhost:8080/"
        },
        "id": "9lELNkNVS0CL",
        "outputId": "de41f0f9-4de0-4e71-8807-07fd200f8f20"
      },
      "execution_count": null,
      "outputs": [
        {
          "output_type": "stream",
          "name": "stdout",
          "text": [
            "Enter the temperature: 45.7\n",
            "Too hot\n"
          ]
        }
      ]
    },
    {
      "cell_type": "markdown",
      "source": [
        "Ask the user to enter a year. Check whether the year is a leap year or not.\n"
      ],
      "metadata": {
        "id": "92nyBEwIPb_-"
      }
    },
    {
      "cell_type": "code",
      "source": [
        "year=int(input(\"Enter a year: \"))\n",
        "if year%4==0 and year%100!=0:\n",
        "  print(\"It is a leap year\")\n",
        "elif year%400==0 and year%100==0:\n",
        "  print(\"It is a leap year\")\n",
        "else:\n",
        "  print(\"It is not a leap year\")"
      ],
      "metadata": {
        "colab": {
          "base_uri": "https://localhost:8080/"
        },
        "id": "20QsIBlgTAoe",
        "outputId": "ef4e001c-f255-44b5-db6d-a203f1fc53ad"
      },
      "execution_count": null,
      "outputs": [
        {
          "output_type": "stream",
          "name": "stdout",
          "text": [
            "Enter a year: 1900\n",
            "It is not a leap year\n"
          ]
        }
      ]
    },
    {
      "cell_type": "markdown",
      "source": [
        "Input three numbers and print the largest one.\n"
      ],
      "metadata": {
        "id": "CjEaiQYSPo9B"
      }
    },
    {
      "cell_type": "code",
      "source": [
        "num1=float(input(\"Enter the first number: \"))\n",
        "num2=float(input(\"Enter the second number: \"))\n",
        "num3=float(input(\"Enter the third number: \"))\n",
        "if num1>num2 and num1>num3:\n",
        "  print(num1,\"is the largest number\")\n",
        "elif num2>num1 and num2>num3:\n",
        "  print(num2,\"is the largest number\")\n",
        "else:\n",
        "  print(num3,\"is the largest number\")"
      ],
      "metadata": {
        "colab": {
          "base_uri": "https://localhost:8080/"
        },
        "id": "VSLJxa96W3gm",
        "outputId": "f4878d69-a2e5-4485-c805-a4262de19b7e"
      },
      "execution_count": null,
      "outputs": [
        {
          "output_type": "stream",
          "name": "stdout",
          "text": [
            "Enter the first number: 67\n",
            "Enter the second number: 78\n",
            "Enter the third number: 43\n",
            "78.0 is the largest number\n"
          ]
        }
      ]
    },
    {
      "cell_type": "markdown",
      "source": [
        "Enter a password. If the password matches \"admin123\", print \"Access granted\", otherwise print \"Access denied\".\n"
      ],
      "metadata": {
        "id": "5w7r2AnzPwSI"
      }
    },
    {
      "cell_type": "code",
      "source": [
        "password=input(\"Enter the password: \")\n",
        "if password==\"admin123\":\n",
        "  print(\"Access granted\")\n",
        "else:\n",
        "  print(\"Access denied\")"
      ],
      "metadata": {
        "colab": {
          "base_uri": "https://localhost:8080/"
        },
        "id": "fjyKpWMyXc4V",
        "outputId": "c9854be2-2460-489d-8698-58f4e1c23095"
      },
      "execution_count": null,
      "outputs": [
        {
          "output_type": "stream",
          "name": "stdout",
          "text": [
            "Enter the password: admin123\n",
            "Access granted\n"
          ]
        }
      ]
    },
    {
      "cell_type": "markdown",
      "source": [
        "Take an integer input. If the number is greater than 0, check if it is less than 100. Print appropriate messages for each condition."
      ],
      "metadata": {
        "id": "bPtbv_HZP2Mj"
      }
    },
    {
      "cell_type": "code",
      "source": [
        "num=int(input(\"Enter a number: \"))\n",
        "if num>0:\n",
        "  if num<100:\n",
        "    print(\"Number is greater than 0 and less than 100\")\n",
        "  else:\n",
        "    print(\"Number is greater than 0 and greater than 100\")\n",
        "elif num==0:\n",
        "  print(\"Number is Zero.\")\n",
        "else:\n",
        "  print(\"Number is less than 0.\")"
      ],
      "metadata": {
        "colab": {
          "base_uri": "https://localhost:8080/"
        },
        "id": "3nVfxpS2XuJm",
        "outputId": "e5c0d013-337d-4771-8821-b52152341218"
      },
      "execution_count": null,
      "outputs": [
        {
          "output_type": "stream",
          "name": "stdout",
          "text": [
            "Enter a number: 87\n",
            "Number is greater than 0 and less than 100\n"
          ]
        }
      ]
    }
  ]
}