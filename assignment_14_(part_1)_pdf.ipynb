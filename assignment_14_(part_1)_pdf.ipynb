{
  "nbformat": 4,
  "nbformat_minor": 0,
  "metadata": {
    "colab": {
      "provenance": [],
      "authorship_tag": "ABX9TyNc6BpZaFUDoUXW+llTRO7q",
      "include_colab_link": true
    },
    "kernelspec": {
      "name": "python3",
      "display_name": "Python 3"
    },
    "language_info": {
      "name": "python"
    }
  },
  "cells": [
    {
      "cell_type": "markdown",
      "metadata": {
        "id": "view-in-github",
        "colab_type": "text"
      },
      "source": [
        "<a href=\"https://colab.research.google.com/github/IA-MindGo/colab/blob/main/assignment_14_(part_1)_pdf.ipynb\" target=\"_parent\"><img src=\"https://colab.research.google.com/assets/colab-badge.svg\" alt=\"Open In Colab\"/></a>"
      ]
    },
    {
      "cell_type": "markdown",
      "source": [
        "Use math.sqrt() to find the square root of a number\n"
      ],
      "metadata": {
        "id": "0a-YSl7eI1hz"
      }
    },
    {
      "cell_type": "code",
      "execution_count": null,
      "metadata": {
        "colab": {
          "base_uri": "https://localhost:8080/"
        },
        "id": "yoxQmslDIljk",
        "outputId": "3d7ed617-4710-4ee6-a1c3-aae786088de6"
      },
      "outputs": [
        {
          "output_type": "stream",
          "name": "stdout",
          "text": [
            "The square root of the 64 is 8.0\n"
          ]
        }
      ],
      "source": [
        "import math\n",
        "num = 64\n",
        "print(f\"The square root of the {num} is {math.sqrt(num)}\")"
      ]
    },
    {
      "cell_type": "markdown",
      "source": [
        " Find the value of π using math.pi and multiply it by 2\n"
      ],
      "metadata": {
        "id": "eqejwIOJJgHQ"
      }
    },
    {
      "cell_type": "code",
      "source": [
        "import math\n",
        "print(f\"The value of pi is {math.pi}\")\n",
        "print(f\"The value of pi times 2 is {math.pi * 2}\")"
      ],
      "metadata": {
        "colab": {
          "base_uri": "https://localhost:8080/"
        },
        "id": "zVoy6rBLJmw7",
        "outputId": "8d6c273f-1864-4be0-8455-942659f491dd"
      },
      "execution_count": null,
      "outputs": [
        {
          "output_type": "stream",
          "name": "stdout",
          "text": [
            "The value of pi is 3.141592653589793\n",
            "The value of pi times 2 is 6.283185307179586\n"
          ]
        }
      ]
    },
    {
      "cell_type": "markdown",
      "source": [
        "Use math.pow(x, y) to find 4³\n"
      ],
      "metadata": {
        "id": "fXL1-OfGJ3ZP"
      }
    },
    {
      "cell_type": "code",
      "source": [
        "import math\n",
        "print(f\"4 to the power of 3 is {math.pow(4, 3)}\")"
      ],
      "metadata": {
        "colab": {
          "base_uri": "https://localhost:8080/"
        },
        "id": "yLHKs-8oJ75B",
        "outputId": "824d0597-23ec-4b4d-bc56-9ee9025315de"
      },
      "execution_count": null,
      "outputs": [
        {
          "output_type": "stream",
          "name": "stdout",
          "text": [
            "4 to the power of 3 is 64.0\n"
          ]
        }
      ]
    },
    {
      "cell_type": "markdown",
      "source": [
        "Get the current date and time using datetime.datetime.now()\n"
      ],
      "metadata": {
        "id": "YFqcZIQZKJs9"
      }
    },
    {
      "cell_type": "code",
      "source": [
        "import datetime\n",
        "print(f\"The current date and time is {datetime.datetime.now()}\")"
      ],
      "metadata": {
        "colab": {
          "base_uri": "https://localhost:8080/"
        },
        "id": "kF1JZRQJKSqD",
        "outputId": "73d38858-c029-44c8-cd7e-9555bb585278"
      },
      "execution_count": null,
      "outputs": [
        {
          "output_type": "stream",
          "name": "stdout",
          "text": [
            "The current date and time is 2025-07-26 19:15:46.936886\n"
          ]
        }
      ]
    },
    {
      "cell_type": "markdown",
      "source": [
        "Print today's date using datetime.date.today()\n"
      ],
      "metadata": {
        "id": "1gyJEruzKeTI"
      }
    },
    {
      "cell_type": "code",
      "source": [
        "import datetime\n",
        "print(f\"Today's date is {datetime.date.today()}\")\n"
      ],
      "metadata": {
        "colab": {
          "base_uri": "https://localhost:8080/"
        },
        "id": "D1J7B14DKjAs",
        "outputId": "824e9a94-c29e-469a-dbd7-7fcae1cba42b"
      },
      "execution_count": null,
      "outputs": [
        {
          "output_type": "stream",
          "name": "stdout",
          "text": [
            "Today's date is 2025-07-26\n"
          ]
        }
      ]
    },
    {
      "cell_type": "markdown",
      "source": [
        "Print the calendar for August 2025 using calendar.month()\n"
      ],
      "metadata": {
        "id": "4N2MOrLmKtdU"
      }
    },
    {
      "cell_type": "code",
      "source": [
        "import calendar\n",
        "print(calendar.month(2025, 8))"
      ],
      "metadata": {
        "colab": {
          "base_uri": "https://localhost:8080/"
        },
        "id": "gv6HhRvKKupn",
        "outputId": "ee50ffd0-0826-465b-dc7e-336b4b2f52eb"
      },
      "execution_count": null,
      "outputs": [
        {
          "output_type": "stream",
          "name": "stdout",
          "text": [
            "    August 2025\n",
            "Mo Tu We Th Fr Sa Su\n",
            "             1  2  3\n",
            " 4  5  6  7  8  9 10\n",
            "11 12 13 14 15 16 17\n",
            "18 19 20 21 22 23 24\n",
            "25 26 27 28 29 30 31\n",
            "\n"
          ]
        }
      ]
    },
    {
      "cell_type": "markdown",
      "source": [
        "Use calendar.isleap() to check if 2024 is a leap year\n"
      ],
      "metadata": {
        "id": "XYRo9v2ZLDtn"
      }
    },
    {
      "cell_type": "code",
      "source": [
        "import calendar\n",
        "print(f\"Is 2024 a leap year? {calendar.isleap(2024)}\")"
      ],
      "metadata": {
        "colab": {
          "base_uri": "https://localhost:8080/"
        },
        "id": "9BTyiTbTLIdd",
        "outputId": "17be3e7f-59c1-4d76-c3dd-e16eb1c9c39e"
      },
      "execution_count": null,
      "outputs": [
        {
          "output_type": "stream",
          "name": "stdout",
          "text": [
            "Is 2024 a leap year? True\n"
          ]
        }
      ]
    },
    {
      "cell_type": "markdown",
      "source": [
        "Calculate the number of days between two dates\n"
      ],
      "metadata": {
        "id": "HZdoOkIjLbu2"
      }
    },
    {
      "cell_type": "code",
      "source": [
        "from datetime import date\n",
        "\n",
        "date1 = date(2023, 12, 31)\n",
        "date2 = date(2023, 1, 1)\n",
        "\n",
        "delta = date1 - date2\n",
        "print(f\"The number of days between {date1} and {date2} is {delta.days}\")\n"
      ],
      "metadata": {
        "colab": {
          "base_uri": "https://localhost:8080/"
        },
        "id": "0v_WM0maOCxp",
        "outputId": "6f794af3-7799-4b6b-85d7-1fd477abb920"
      },
      "execution_count": null,
      "outputs": [
        {
          "output_type": "stream",
          "name": "stdout",
          "text": [
            "The number of days between 2023-12-31 and 2023-01-01 is 364\n"
          ]
        }
      ]
    },
    {
      "cell_type": "markdown",
      "source": [
        "Create a user-defined function that adds 5 days to the current date\n"
      ],
      "metadata": {
        "id": "y9sX-sRIPAds"
      }
    },
    {
      "cell_type": "code",
      "source": [
        "import datetime\n",
        "def add_days(days):\n",
        "    current_date = datetime.date.today()\n",
        "    print(\"current_date = \", current_date)\n",
        "    new_date = current_date + datetime.timedelta(days=days)\n",
        "    return (f\"New date is {new_date}\")\n",
        "print(add_days(5))"
      ],
      "metadata": {
        "colab": {
          "base_uri": "https://localhost:8080/"
        },
        "id": "hUacn06WPDPP",
        "outputId": "893784bf-f27e-4334-966a-bddd1462b17a"
      },
      "execution_count": null,
      "outputs": [
        {
          "output_type": "stream",
          "name": "stdout",
          "text": [
            "current_date =  2025-07-26\n",
            "New date is 2025-07-31\n"
          ]
        }
      ]
    },
    {
      "cell_type": "markdown",
      "source": [
        "Format the current date into DD-MM-YYYY using .strftime()\n"
      ],
      "metadata": {
        "id": "pcMobR3GQV2A"
      }
    },
    {
      "cell_type": "code",
      "source": [
        "import datetime\n",
        "current_date = datetime.date.today()\n",
        "print(f\"The current date is {current_date.strftime('%d-%m-%Y')}\")"
      ],
      "metadata": {
        "colab": {
          "base_uri": "https://localhost:8080/"
        },
        "id": "uxvUc14OQemt",
        "outputId": "152fc524-4566-4240-b41b-7632930d11b9"
      },
      "execution_count": null,
      "outputs": [
        {
          "output_type": "stream",
          "name": "stdout",
          "text": [
            "The current date is 26-07-2025\n"
          ]
        }
      ]
    }
  ]
}