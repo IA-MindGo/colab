{
  "nbformat": 4,
  "nbformat_minor": 0,
  "metadata": {
    "colab": {
      "provenance": [],
      "authorship_tag": "ABX9TyMk2M2hWcxbSDwFgN9WWDl6",
      "include_colab_link": true
    },
    "kernelspec": {
      "name": "python3",
      "display_name": "Python 3"
    },
    "language_info": {
      "name": "python"
    }
  },
  "cells": [
    {
      "cell_type": "markdown",
      "metadata": {
        "id": "view-in-github",
        "colab_type": "text"
      },
      "source": [
        "<a href=\"https://colab.research.google.com/github/IA-MindGo/colab/blob/main/Assignment_10.ipynb\" target=\"_parent\"><img src=\"https://colab.research.google.com/assets/colab-badge.svg\" alt=\"Open In Colab\"/></a>"
      ]
    },
    {
      "cell_type": "markdown",
      "source": [
        "Create a list of string numbers: [\"10\", \"20\", \"30\"].\n",
        "Convert each to integers, add 5, and store the results in a new tuple.\n",
        "Use a loop to print each value with its data type.\n",
        "Use a dictionary to store the original and updated values.\n",
        "Apply a conditional (if-else) to mark values greater than 25.\n",
        "\n"
      ],
      "metadata": {
        "id": "_iw3gI0ZKP-K"
      }
    },
    {
      "cell_type": "code",
      "execution_count": null,
      "metadata": {
        "colab": {
          "base_uri": "https://localhost:8080/"
        },
        "id": "ymqQKvy1KFWS",
        "outputId": "b519811d-0462-40e7-88dd-bfe5afd7e10a"
      },
      "outputs": [
        {
          "output_type": "stream",
          "name": "stdout",
          "text": [
            "\n",
            "The value is 10 of <class 'str'> and updated value is 15 of <class 'int'>\n",
            "\t\tThe updated number 15 is less than 25\n",
            "\n",
            "The value is 20 of <class 'str'> and updated value is 25 of <class 'int'>\n",
            "\t\tThe updated number 25 is less than 25\n",
            "\n",
            "The value is 30 of <class 'str'> and updated value is 35 of <class 'int'>\n",
            "\t\tThe updated number 35 is greater than 25\n",
            "\n",
            "Values in dictionary:\n",
            "{'10': 15, '20': 25, '30': 35}\n"
          ]
        }
      ],
      "source": [
        "numbers = [\"10\", \"20\", \"30\"]\n",
        "updated_numbers = []\n",
        "dictionary={}\n",
        "for num in numbers:\n",
        "  num1 = int(num)\n",
        "  num2 = num1 + 5\n",
        "  updated_numbers.append(num2)\n",
        "  dictionary[num]=num2\n",
        "tuple_numbers = (updated_numbers)\n",
        "for i in range(len(numbers)):\n",
        "  print(f\"\\nThe value is {numbers[i]} of {type(numbers[i])} and updated value is {updated_numbers[i]} of {type(updated_numbers[i])}\")\n",
        "  if updated_numbers[i] > 25:\n",
        "    print(f\"\\t\\tThe updated number {updated_numbers[i]} is greater than 25\")\n",
        "  else:\n",
        "    print(f\"\\t\\tThe updated number {updated_numbers[i]} is less than 25\")\n",
        "print(\"\\nValues in dictionary:\")\n",
        "print(dictionary)"
      ]
    },
    {
      "cell_type": "markdown",
      "source": [
        " Ask the user for their name, age (as string), and city.\n",
        "Convert age to an integer using type casting.\n",
        "Store this info in a dictionary and a tuple.\n",
        "If the age is 18 or more, print \"Eligible\" else \"Not eligible\".\n",
        "Print all details using a loop.\n"
      ],
      "metadata": {
        "id": "SvvIkTYQKR9S"
      }
    },
    {
      "cell_type": "code",
      "source": [
        "name=str(input(\"Enter your name: \"))\n",
        "age=str(input(\"Enter your age: \"))\n",
        "city=str(input(\"Enter your city: \"))\n",
        "age_int=int(age)\n",
        "info={\"name\":name,\"age\":age_int,\"city\":city}\n",
        "info_tuple=(name,age_int,city)\n",
        "if age_int>=18:\n",
        "  print(\"\\n\\tEligible\")\n",
        "else:\n",
        "  print(\"\\n\\tNot eligible\")\n",
        "print(\"\\nValues in dictionary along their repective data type are:\\n \")\n",
        "for key,value in info.items():\n",
        "  print(f\"\\t{key} : {value} ({type(value).__name__})\")"
      ],
      "metadata": {
        "colab": {
          "base_uri": "https://localhost:8080/"
        },
        "id": "0g6xkx3HPr9i",
        "outputId": "7e89531d-eb2d-405a-ce98-dd53745e4364"
      },
      "execution_count": null,
      "outputs": [
        {
          "output_type": "stream",
          "name": "stdout",
          "text": [
            "Enter your name: isma\n",
            "Enter your age: 36\n",
            "Enter your city: rahwali\n",
            "\n",
            "\tEligible\n",
            "\n",
            "Values in dictionary along their repective data type are:\n",
            " \n",
            "\tname : isma (str)\n",
            "\tage : 36 (int)\n",
            "\tcity : rahwali (str)\n"
          ]
        }
      ]
    },
    {
      "cell_type": "markdown",
      "source": [
        "Define a list of student scores as strings: [\"45\", \"78\", \"89\", \"32\"].\n",
        "Convert them to integers using casting.\n",
        "Use a for loop to classify scores as \"Pass\" or \"Fail\" using if-else.\n",
        "Store results in a dictionary where keys are scores and values are statuses.\n",
        "Print each with data type using print() and type().\n"
      ],
      "metadata": {
        "id": "tHAKzCegKUur"
      }
    },
    {
      "cell_type": "code",
      "source": [
        "scores = [\"45\", \"78\", \"89\", \"32\"]\n",
        "new_scores =[]\n",
        "info_scores={}\n",
        "for i in range(len(scores)):\n",
        "  scores_int=int(scores[i])\n",
        "  new_scores.append(scores_int)\n",
        "  if new_scores[i]>=40:\n",
        "    status=\"Pass\"\n",
        "  else:\n",
        "    status=\"Fail\"\n",
        "  print(f\"{new_scores[i]} is of type {type(new_scores[i]).__name__} and status is {status}\")\n",
        "  info_scores[new_scores[i]]=status\n",
        "print(\"\\nValues in dictionary along their repective data type are:\\n\")\n",
        "print(info_scores)"
      ],
      "metadata": {
        "colab": {
          "base_uri": "https://localhost:8080/"
        },
        "id": "OV4zMNDmQ51r",
        "outputId": "acc39140-7029-4f55-aa21-16db2b71eafd"
      },
      "execution_count": null,
      "outputs": [
        {
          "output_type": "stream",
          "name": "stdout",
          "text": [
            "45 is of type int and status is Pass\n",
            "78 is of type int and status is Pass\n",
            "89 is of type int and status is Pass\n",
            "32 is of type int and status is Fail\n",
            "\n",
            "Values in dictionary along their repective data type are:\n",
            "\n",
            "{45: 'Pass', 78: 'Pass', 89: 'Pass', 32: 'Fail'}\n"
          ]
        }
      ]
    },
    {
      "cell_type": "markdown",
      "source": [
        ". Create a tuple of 3 values: a name (string), an age (string), and a score (string).\n",
        "Convert age and score to integer and float respectively.\n",
        "Perform arithmetic operation on score (add 5).\n",
        "Store updated info in a dictionary and print all using a loop and control flow.\n",
        "\n",
        "\n"
      ],
      "metadata": {
        "id": "6LcOIkwqKYvc"
      }
    },
    {
      "cell_type": "code",
      "source": [
        "value_tuple = (\"fatima\", \"12\", \"89\")\n",
        "name, age_str, score_str = value_tuple\n",
        "age_int = int(age_str)\n",
        "score_float = (float(score_str))+5\n",
        "info={\"name\" : name , \"age\" : age_int , \"score\" : score_float}\n",
        "for key , value in info.items():\n",
        "  print(key,\":\", value, f\", and is of type {(type(value).__name__)}\")\n",
        "  if key == \"score\":\n",
        "    if value > 90:\n",
        "      print(\"\\tExcellent Score!\")\n",
        "    elif value > 70:\n",
        "      print(\"\\tGood Score.\")\n",
        "    else:\n",
        "      print(\"\\tNeeds Improvement.\")"
      ],
      "metadata": {
        "colab": {
          "base_uri": "https://localhost:8080/"
        },
        "id": "kasJIe70R8zj",
        "outputId": "d2d14f42-e4e0-441f-96da-65cbba55c29b"
      },
      "execution_count": null,
      "outputs": [
        {
          "output_type": "stream",
          "name": "stdout",
          "text": [
            "name : fatima , and is of type str\n",
            "age : 12 , and is of type int\n",
            "score : 94.0 , and is of type float\n",
            "\tExcellent Score!\n"
          ]
        }
      ]
    },
    {
      "cell_type": "markdown",
      "source": [
        "Define a list of names.\n",
        "Use a for loop to count names with more than 4 letters.\n",
        "Create a dictionary storing name and its length.\n",
        "Use type(), casting if needed, and if-elif-else to label lengths as \"short\", \"medium\", or \"long\".\n",
        "\n"
      ],
      "metadata": {
        "id": "iIY0Vr5lKhA-"
      }
    },
    {
      "cell_type": "code",
      "source": [
        "names = [\"isma\", \"talha\", \"shan\", \"ali\", \"rashid\", \"iqra\",200]\n",
        "names_dict={}\n",
        "for i in range(len(names)):\n",
        "  if type(names[i])==str:\n",
        "    length=len(names[i])\n",
        "  else:\n",
        "    length=len(str(names[i]))\n",
        "  names_dict[names[i]]=length\n",
        "print(\"values in dictionary along their repective data type are:\\n\")\n",
        "print(\"Name  \\tLength  \\tStatus  \\tType\\n\")\n",
        "for key,value in names_dict.items():\n",
        "  if value <4:\n",
        "    status=\"short\"\n",
        "  elif value >4 and value <10:\n",
        "    status=\"medium\"\n",
        "  else:\n",
        "    status=\"long\"\n",
        "  print( key,\"\\t\", value, f\"\\t\\t{status} \\t\\t{(type(key).__name__)}\\n\")\n",
        "\n",
        "\n"
      ],
      "metadata": {
        "colab": {
          "base_uri": "https://localhost:8080/"
        },
        "id": "h1o_TMrTWMSD",
        "outputId": "fd4ff91e-57ad-46bf-a37b-51636880013d"
      },
      "execution_count": null,
      "outputs": [
        {
          "output_type": "stream",
          "name": "stdout",
          "text": [
            "values in dictionary along their repective data type are:\n",
            "\n",
            "Name  \tLength  \tStatus  \tType\n",
            "\n",
            "isma \t 4 \t\tlong \t\tstr\n",
            "\n",
            "talha \t 5 \t\tmedium \t\tstr\n",
            "\n",
            "shan \t 4 \t\tlong \t\tstr\n",
            "\n",
            "ali \t 3 \t\tshort \t\tstr\n",
            "\n",
            "rashid \t 6 \t\tmedium \t\tstr\n",
            "\n",
            "iqra \t 4 \t\tlong \t\tstr\n",
            "\n",
            "200 \t 3 \t\tshort \t\tint\n",
            "\n"
          ]
        }
      ]
    },
    {
      "cell_type": "markdown",
      "source": [
        " Ask user to input product names and prices (as strings).\n",
        "Convert prices to float, store them in a dictionary.\n",
        "Print all using a loop, and use if to highlight items over a certain price.\n",
        "Create a tuple of all high-price items and print their types.\n"
      ],
      "metadata": {
        "id": "b6jtKUi8U10X"
      }
    },
    {
      "cell_type": "code",
      "source": [
        "product = {}\n",
        "prices :str = []\n",
        "high_price_item = []\n",
        "while True:\n",
        "  product_name = (input(\"\\nEnter the product name: (or '''done''' to finish)\"))\n",
        "  if product_name.lower() == \"done\":\n",
        "    break\n",
        "  prices.append(input(f\"Enter the price of {product_name}: \"))\n",
        "  for i in prices:\n",
        "    prices_float=float(i)\n",
        "    product[product_name]=prices_float\n",
        "print(\"\\n--- Products and Prices ---\")\n",
        "for product, price in product.items():\n",
        "  print(f\"{product}: ${price:.2f}\")\n",
        "  if price > 50.0:\n",
        "    high_price_item.append(product)\n",
        "print(\"\\n--- High Price Items Tuple ---\")\n",
        "print(\"Tuple of high price items is : \",tuple(high_price_item))\n",
        "print(\"\\nType of high_price_tuple:\", type(tuple(high_price_item)))\n",
        "for item in high_price_item:\n",
        "  print(f\"\\nType of item '{item}': {type(item)}\")"
      ],
      "metadata": {
        "colab": {
          "base_uri": "https://localhost:8080/"
        },
        "id": "xPUWeq4QWiGn",
        "outputId": "f32454a4-d84e-41ac-bc8b-011ce1a0ffb4"
      },
      "execution_count": null,
      "outputs": [
        {
          "output_type": "stream",
          "name": "stdout",
          "text": [
            "\n",
            "Enter the product name: (or '''done''' to finish)rice\n",
            "Enter the price of rice: 60\n",
            "\n",
            "Enter the product name: (or '''done''' to finish)tea\n",
            "Enter the price of tea: 55\n",
            "\n",
            "Enter the product name: (or '''done''' to finish)soap\n",
            "Enter the price of soap: 25\n",
            "\n",
            "Enter the product name: (or '''done''' to finish)biscuit\n",
            "Enter the price of biscuit: 15\n",
            "\n",
            "Enter the product name: (or '''done''' to finish)done\n",
            "\n",
            "--- Products and Prices ---\n",
            "rice: $60.00\n",
            "tea: $55.00\n",
            "soap: $25.00\n",
            "biscuit: $15.00\n",
            "\n",
            "--- High Price Items Tuple ---\n",
            "Tuple of high price items is :  ('rice', 'tea')\n",
            "\n",
            "Type of high_price_tuple: <class 'tuple'>\n",
            "\n",
            "Type of item 'rice': <class 'str'>\n",
            "\n",
            "Type of item 'tea': <class 'str'>\n"
          ]
        }
      ]
    },
    {
      "cell_type": "markdown",
      "source": [
        "Make a list of mixed data types: [\"100\", 200, 300.5, \"400\"].\n",
        "Convert all to float using type casting.\n",
        "Use a for loop with if-else to check if each number is above 250.\n",
        "Store results in a dictionary with \"Above 250\" or \"Below 250\" labels.\n"
      ],
      "metadata": {
        "id": "vfzZK3UaaZ_q"
      }
    },
    {
      "cell_type": "code",
      "source": [
        "mixed_data = [\"100\", 200, 300.5, \"400\"]\n",
        "float_data = []\n",
        "result_dict = {}\n",
        "for item in mixed_data:\n",
        "  float_data.append(float(item))\n",
        "for num in float_data:\n",
        "  if num > 250:\n",
        "    result_dict[num] = \"Above 250\"\n",
        "  else:\n",
        "    result_dict[num] = \"Below 250\"\n",
        "print(\"Float numbers with '''above 250''' and '''below 250''' label in dictionary are :\\n\\n\",result_dict)\n"
      ],
      "metadata": {
        "colab": {
          "base_uri": "https://localhost:8080/"
        },
        "id": "b0dgQdyJad9u",
        "outputId": "cc3c15f8-ad1f-4a73-9089-1abed02c2c3a"
      },
      "execution_count": null,
      "outputs": [
        {
          "output_type": "stream",
          "name": "stdout",
          "text": [
            "Float numbers with '''above 250''' and '''below 250''' label in dictionary are :\n",
            "\n",
            " {100.0: 'Below 250', 200.0: 'Below 250', 300.5: 'Above 250', 400.0: 'Above 250'}\n"
          ]
        }
      ]
    },
    {
      "cell_type": "markdown",
      "source": [
        "Define a tuple of values like (\"Ali\", \"25\", \"True\").\n",
        "Convert age to int, and boolean string to actual boolean.\n",
        "Create a dictionary from the tuple using keys like name, age, is_student.\n",
        "Use a loop to print each key-value pair.\n",
        "Use if-else to comment on whether the person is a student."
      ],
      "metadata": {
        "id": "WGMxBCHKbolA"
      }
    },
    {
      "cell_type": "code",
      "source": [
        "student = (\"Ali\", \"25\", \"True\")\n",
        "name, age_str, is_student_str = student\n",
        "age = int(age_str)\n",
        "is_student = bool(is_student_str)\n",
        "student_dict = {\"name\": name, \"age\": age, \"is_student\": is_student}\n",
        "for key, value in student_dict.items():\n",
        "  print(f\"{key}: {value}\")\n",
        "  if key == \"is_student\":\n",
        "    if value is True:\n",
        "      print(\"\\tThe person is a student.\")"
      ],
      "metadata": {
        "colab": {
          "base_uri": "https://localhost:8080/"
        },
        "id": "z2t0CoVdbv2H",
        "outputId": "25c3b6e2-026a-4b17-ef71-ab7eb65055ec"
      },
      "execution_count": null,
      "outputs": [
        {
          "output_type": "stream",
          "name": "stdout",
          "text": [
            "name: Ali\n",
            "age: 25\n",
            "is_student: True\n",
            "\tThe person is a student.\n"
          ]
        }
      ]
    },
    {
      "cell_type": "markdown",
      "source": [
        "Store subject names and their string scores in a dictionary.\n",
        "Convert scores to integers, calculate total and average.\n",
        "Use for loop and if-elif-else to assign grades.\n",
        "Store grades in a tuple and print using print() and type().\n"
      ],
      "metadata": {
        "id": "Z_Bjsk28cgHf"
      }
    },
    {
      "cell_type": "code",
      "source": [
        "student = {\"Mathematics\":\"90\", \"Physics\":\"80\", \"Chemistery\":\"75\", \"Biology\":\"85\"}\n",
        "scores =[]\n",
        "for value in student.values():\n",
        "  scores.append(int(value))\n",
        "total = sum(scores)\n",
        "average = total/len(scores)\n",
        "grades = []\n",
        "for score in scores:\n",
        "  if score >= 90:\n",
        "    grade = \"A\"\n",
        "  elif score >= 80:\n",
        "    grade = \"B\"\n",
        "  elif score >= 70:\n",
        "    grade = \"C\"\n",
        "  elif score >= 60:\n",
        "    grade = \"D\"\n",
        "  else:\n",
        "    grade = \"F\"\n",
        "  grades.append(grade)\n",
        "print(f\"Sum of scores: {total}\")\n",
        "print(f\"\\nAverage of scores: {average}\")\n",
        "print(\"\\nGrades of each subject:\",tuple(grades))\n",
        "print(\"\\nType of grades:\",type(tuple(grades)))\n",
        "for i in range(len(student)):\n",
        "  print(f\"\\nGrade of {list(student.keys())[i]} is {grades[i]}\")\n"
      ],
      "metadata": {
        "colab": {
          "base_uri": "https://localhost:8080/"
        },
        "id": "BQyEEzXsck1T",
        "outputId": "b0382530-b9cc-4214-f60e-dd5d8cea8729"
      },
      "execution_count": null,
      "outputs": [
        {
          "output_type": "stream",
          "name": "stdout",
          "text": [
            "Sum of scores: 330\n",
            "\n",
            "Average of scores: 82.5\n",
            "\n",
            "Grades of each subject: ('A', 'B', 'C', 'B')\n",
            "\n",
            "Type of grades: <class 'tuple'>\n",
            "\n",
            "Grade of Mathematics is A\n",
            "\n",
            "Grade of Physics is B\n",
            "\n",
            "Grade of Chemistery is C\n",
            "\n",
            "Grade of Biology is B\n"
          ]
        }
      ]
    },
    {
      "cell_type": "markdown",
      "source": [
        "Create a program where user inputs 5 items as strings (e.g., names of gadgets).\n",
        "Add them to a list, convert one index to uppercase using string method.\n",
        "Store prices in another list, calculate total using arithmetic operators.\n",
        "Pair names and prices into a dictionary.\n",
        "Use a loop to print all data and use if to flag expensive items."
      ],
      "metadata": {
        "id": "yhBpZWRBkNzN"
      }
    },
    {
      "cell_type": "code",
      "source": [
        "# prompt: Create a program where user inputs 5 items as strings (e.g., names of gadgets). Add them to a list, convert one index to uppercase using string method. Store prices in another list, calculate total using arithmetic operators. Pair names and prices into a dictionary. Use a loop to print all data and use if to flag expensive items.\n",
        "\n",
        "gadget_names = []\n",
        "gadget_prices = []\n",
        "total_price = 0\n",
        "\n",
        "print(\"Enter 5 gadget names and their prices:\")\n",
        "\n",
        "for i in range(5):\n",
        "  name = input(f\"Enter name for gadget {i+1}: \")\n",
        "  gadget_names.append(name)\n",
        "  price = float(input(f\"Enter price for {name}: \"))\n",
        "  gadget_prices.append(price)\n",
        "\n",
        "# Convert one name to uppercase (e.g., the first one)\n",
        "if gadget_names:\n",
        "  gadget_names[0] = gadget_names[0].upper()\n",
        "\n",
        "# Calculate total price\n",
        "for i in range(5):\n",
        "  total_price += gadget_prices[i]\n",
        "\n",
        "# Pair names and prices into a dictionary\n",
        "gadget_info = dict(zip(gadget_names, gadget_prices))\n",
        "\n",
        "print(\"\\n--- Gadget Information ---\")\n",
        "for name, price in gadget_info.items():\n",
        "  print(f\"{name}: ${price:.2f}\")\n",
        "  if price > 50: # Example threshold for expensive items\n",
        "    print(\"\\t\\t(Expensive Item!)\")\n",
        "\n",
        "print(f\"\\nTotal price of all gadgets: ${total_price:.2f}\")"
      ],
      "metadata": {
        "colab": {
          "base_uri": "https://localhost:8080/"
        },
        "id": "GmGivnaQ1zGn",
        "outputId": "9c09f390-741d-4300-9c6d-19229c3f315e"
      },
      "execution_count": null,
      "outputs": [
        {
          "output_type": "stream",
          "name": "stdout",
          "text": [
            "Enter 5 gadget names and their prices:\n",
            "Enter name for gadget 1: Smart watch\n",
            "Enter price for Smart watch: 100\n",
            "Enter name for gadget 2: I pad\n",
            "Enter price for I pad: 95\n",
            "Enter name for gadget 3: Power bank \n",
            "Enter price for Power bank : 50\n",
            "Enter name for gadget 4: Wireless headphones \n",
            "Enter price for Wireless headphones : 45\n",
            "Enter name for gadget 5: Bluetooth speaker \n",
            "Enter price for Bluetooth speaker : 40\n",
            "\n",
            "--- Gadget Information ---\n",
            "SMART WATCH: $100.00\n",
            "\t\t(Expensive Item!)\n",
            "I pad: $95.00\n",
            "\t\t(Expensive Item!)\n",
            "Power bank : $50.00\n",
            "Wireless headphones : $45.00\n",
            "Bluetooth speaker : $40.00\n",
            "\n",
            "Total price of all gadgets: $330.00\n"
          ]
        }
      ]
    }
  ]
}