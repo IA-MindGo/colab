{
  "nbformat": 4,
  "nbformat_minor": 0,
  "metadata": {
    "colab": {
      "provenance": [],
      "authorship_tag": "ABX9TyM10OLZ8cIks2KqvUGEniOJ",
      "include_colab_link": true
    },
    "kernelspec": {
      "name": "python3",
      "display_name": "Python 3"
    },
    "language_info": {
      "name": "python"
    }
  },
  "cells": [
    {
      "cell_type": "markdown",
      "metadata": {
        "id": "view-in-github",
        "colab_type": "text"
      },
      "source": [
        "<a href=\"https://colab.research.google.com/github/IA-MindGo/colab/blob/main/Assignment_4.ipynb\" target=\"_parent\"><img src=\"https://colab.research.google.com/assets/colab-badge.svg\" alt=\"Open In Colab\"/></a>"
      ]
    },
    {
      "cell_type": "markdown",
      "source": [
        "Create two variables a = 10 and b = 3. Perform and print the results of addition, subtraction, multiplication, division, modulus, exponentiation, and floor division."
      ],
      "metadata": {
        "id": "j7HzxN5TJFXc"
      }
    },
    {
      "cell_type": "code",
      "execution_count": null,
      "metadata": {
        "colab": {
          "base_uri": "https://localhost:8080/"
        },
        "id": "YHJrSB46I80Z",
        "outputId": "7ce216d6-f84e-484c-d1a9-95129e90e4ff"
      },
      "outputs": [
        {
          "output_type": "stream",
          "name": "stdout",
          "text": [
            "The result of addition of variables 'a=10' and 'b=3' is 13\n",
            "the results of subtraction of variables 'a=10' and 'b=3' is  7\n",
            "the result of multiplication of variables 'a=10' and 'b=3' is  30\n",
            "The result of division of variables 'a=10' and 'b=3' is  3.3333333333333335\n",
            "The result of modulus of variables 'a=10' and 'b=3' is  1\n",
            "The result of exponentiation of variables 'a=10' and 'b=3' is  1000\n",
            "The result of floor division of variables 'a=10' and 'b=3' is  3\n"
          ]
        }
      ],
      "source": [
        "a=10\n",
        "b=3\n",
        "print(\"The result of addition of variables 'a=10' and 'b=3' is\",a+b)\n",
        "print(\"the results of subtraction of variables 'a=10' and 'b=3' is \",a-b)\n",
        "print(\"the result of multiplication of variables 'a=10' and 'b=3' is \",a*b)\n",
        "print(\"The result of division of variables 'a=10' and 'b=3' is \",a/b)\n",
        "print(\"The result of modulus of variables 'a=10' and 'b=3' is \",a%b)\n",
        "print(\"The result of exponentiation of variables 'a=10' and 'b=3' is \",a**b)\n",
        "print(\"The result of floor division of variables 'a=10' and 'b=3' is \",a//b)"
      ]
    },
    {
      "cell_type": "markdown",
      "source": [
        " Compare the variables a and b using all comparison operators (==, !=, >, <, >=, <=) and print the results.\n"
      ],
      "metadata": {
        "id": "ApLg5miOJIHf"
      }
    },
    {
      "cell_type": "code",
      "source": [
        "a=10\n",
        "b=3\n",
        "print(\"a == b = \", a == b)\n",
        "print(\"a != b = \", a != b)\n",
        "print(\"a > b  = \", a > b)\n",
        "print(\"a < b = \", a < b)\n",
        "print(\"a >= b = \", a >= b)\n",
        "print(\"a <= b = \", a <= b)"
      ],
      "metadata": {
        "colab": {
          "base_uri": "https://localhost:8080/"
        },
        "id": "eL8F3Cu0MRKX",
        "outputId": "db1de7a2-1701-49ff-bb32-035fded9fd1b"
      },
      "execution_count": null,
      "outputs": [
        {
          "output_type": "stream",
          "name": "stdout",
          "text": [
            "a == b =  False\n",
            "a != b =  True\n",
            "a > b  =  True\n",
            "a < b =  False\n",
            "a >= b =  True\n",
            "a <= b =  False\n"
          ]
        }
      ]
    },
    {
      "cell_type": "markdown",
      "source": [
        "Create two boolean variables x = True and y = False. Perform and print the results of x and y, x or y, and not x.\n"
      ],
      "metadata": {
        "id": "dbDOpefmJOfE"
      }
    },
    {
      "cell_type": "code",
      "source": [
        "x: bool = True\n",
        "y: bool = False\n",
        "\n",
        "print(\"x and y = \", x and y)\n",
        "print(\"x or y  = \", x or y)\n",
        "print(\"not x   = \", not x)"
      ],
      "metadata": {
        "colab": {
          "base_uri": "https://localhost:8080/"
        },
        "id": "-iL8N8TKNrrI",
        "outputId": "93badcf1-ac2c-446a-b1e5-af9f7718ccd7"
      },
      "execution_count": null,
      "outputs": [
        {
          "output_type": "stream",
          "name": "stdout",
          "text": [
            "x and y =  False\n",
            "x or y  =  True\n",
            "not x   =  False\n"
          ]
        }
      ]
    },
    {
      "cell_type": "markdown",
      "source": [
        "Create a variable num = 5. Use +=, -=, *=, /=, %=, **=, and //= assignment operations on it and print the result each time.\n"
      ],
      "metadata": {
        "id": "7AssHYYKJS3W"
      }
    },
    {
      "cell_type": "code",
      "source": [
        "num=5\n",
        "\n",
        "num= 5\n",
        "print(\"Assignment: num = \",num)\n",
        "\n",
        "num+= 3\n",
        "print(\"Addition Assignment: num += 3  =  \",num)\n",
        "\n",
        "num -= 3\n",
        "print(\"Subtraction Assignment: num -= 3    =\",num)\n",
        "\n",
        "num *= 3\n",
        "print(\"Multiplication Assignment: num*= 3   = \",num)\n",
        "\n",
        "num /= 3\n",
        "print(\"Division Assignment: num /= 3      =\",num)\n",
        "\n",
        "num//= 3\n",
        "print(\"Floor Division Assignment: num //= 3  = \",num)"
      ],
      "metadata": {
        "colab": {
          "base_uri": "https://localhost:8080/"
        },
        "id": "7ewYWgTPOE1c",
        "outputId": "e04bc4d5-a6a0-47dc-b4a2-f0e826059b87"
      },
      "execution_count": null,
      "outputs": [
        {
          "output_type": "stream",
          "name": "stdout",
          "text": [
            "Assignment: num =  5\n",
            "Addition Assignment: num += 3  =   8\n",
            "Subtraction Assignment: num -= 3    = 5\n",
            "Multiplication Assignment: num*= 3   =  15\n",
            "Division Assignment: num /= 3      = 5.0\n",
            "Floor Division Assignment: num //= 3  =  1.0\n"
          ]
        }
      ]
    },
    {
      "cell_type": "markdown",
      "source": [
        "Create two variables m = 100 and n = 100. Check if they are the same object using is and is not and print the results.\n"
      ],
      "metadata": {
        "id": "G5w2qN2rJXvf"
      }
    },
    {
      "cell_type": "code",
      "source": [
        "m=100\n",
        "n=100\n",
        "\n",
        "a=m is n\n",
        "b=m is not n\n",
        "print(\"m is n     =  \",a)\n",
        "print(\"m is not n     =  \",b)"
      ],
      "metadata": {
        "colab": {
          "base_uri": "https://localhost:8080/"
        },
        "id": "sq-YpLs6PpXy",
        "outputId": "78742216-be08-493a-d717-8e3ca9b0ff5f"
      },
      "execution_count": null,
      "outputs": [
        {
          "output_type": "stream",
          "name": "stdout",
          "text": [
            "m is n     =   True\n",
            "m is not n     =   False\n"
          ]
        }
      ]
    },
    {
      "cell_type": "markdown",
      "source": [
        " Create a string text = \"Python Programming\". Check if \"Python\" is in the text and if \"Java\" is not in the text.\n"
      ],
      "metadata": {
        "id": "CEs9wgB0Qbpz"
      }
    },
    {
      "cell_type": "code",
      "source": [
        "text=\"Python Programming\"\n",
        "print(\"check Python is in the text \",\"Python\" in text)\n",
        "print(\"check Java is not in the text \",\"Java\" not in text)"
      ],
      "metadata": {
        "colab": {
          "base_uri": "https://localhost:8080/"
        },
        "id": "qsrVfM7zRLvF",
        "outputId": "ee94a5ec-59d1-448d-8ee4-d21264e19558"
      },
      "execution_count": null,
      "outputs": [
        {
          "output_type": "stream",
          "name": "stdout",
          "text": [
            "check Python is in the text  True\n",
            "check Java is not in the text  True\n"
          ]
        }
      ]
    },
    {
      "cell_type": "markdown",
      "source": [
        "Write a Python program to print all keywords using the keyword module.\n"
      ],
      "metadata": {
        "id": "d9UXCbPvQoqY"
      }
    },
    {
      "cell_type": "code",
      "source": [
        "import keyword\n",
        "\n",
        "print(\"the list of keywords in Python programming is :\",keyword.kwlist)\n"
      ],
      "metadata": {
        "colab": {
          "base_uri": "https://localhost:8080/"
        },
        "id": "2q_ChepdR3Fm",
        "outputId": "e0fef893-e75f-46f2-cbcf-86a0028281d3"
      },
      "execution_count": null,
      "outputs": [
        {
          "output_type": "stream",
          "name": "stdout",
          "text": [
            "the list of keywords in Python programming is : ['False', 'None', 'True', 'and', 'as', 'assert', 'async', 'await', 'break', 'class', 'continue', 'def', 'del', 'elif', 'else', 'except', 'finally', 'for', 'from', 'global', 'if', 'import', 'in', 'is', 'lambda', 'nonlocal', 'not', 'or', 'pass', 'raise', 'return', 'try', 'while', 'with', 'yield']\n"
          ]
        }
      ]
    },
    {
      "cell_type": "markdown",
      "source": [
        "Declare three variables name = \"Ali\", age = 20, height = 5.9 and print their values along with their data types.\n"
      ],
      "metadata": {
        "id": "1KgO97BoQsyo"
      }
    },
    {
      "cell_type": "code",
      "source": [
        "name=\"Ali\"\n",
        "age=20\n",
        "heigh=5.9\n",
        "print(type(name),\"name=\",name )\n",
        "print(type(age),\"age=\",age )\n",
        "print(type(heigh),\"heigh=\",heigh )"
      ],
      "metadata": {
        "colab": {
          "base_uri": "https://localhost:8080/"
        },
        "id": "Ognkwls_T_hI",
        "outputId": "744f4169-4d39-43f4-82f8-ae6f381a028f"
      },
      "execution_count": null,
      "outputs": [
        {
          "output_type": "stream",
          "name": "stdout",
          "text": [
            "<class 'str'> name= Ali\n",
            "<class 'int'> age= 20\n",
            "<class 'float'> heigh= 5.9\n"
          ]
        }
      ]
    },
    {
      "cell_type": "markdown",
      "source": [
        " Write five valid variable names and three invalid ones (as comments). Explain why the invalid ones are not allowed."
      ],
      "metadata": {
        "id": "J0YEc1DUQ1j5"
      }
    },
    {
      "cell_type": "code",
      "source": [
        "print(\"5 valid  variables names are:\",\"\\n\")\n",
        "print(\"name\",\"\\n\")\n",
        "print(\"_age\",\"\\n\")\n",
        "print(\"heigh5\",\"\\n\")\n",
        "print(\"my_subject\",\"\\n\")\n",
        "print(\"_my_name_1\",\"\\n\")\n",
        "\n",
        "print(\"3 in_valid variables names are:\")\n",
        "print(\"class\",\"\\n\",\"it is a resrevword\",\"\\n\\n\")\n",
        "print(\"1name\",\"\\n\",\"starting with digit\",\"\\n\\n\")\n",
        "print(\"my-name\",\"\\n\",\"cannot contain hyphen\",\"\\n\\n\")"
      ],
      "metadata": {
        "colab": {
          "base_uri": "https://localhost:8080/"
        },
        "id": "WiQMWcKJVNQB",
        "outputId": "faa72823-d2d8-4898-854a-eef0d03b97fa"
      },
      "execution_count": null,
      "outputs": [
        {
          "output_type": "stream",
          "name": "stdout",
          "text": [
            "5 valid  variables names are: \n",
            "\n",
            "name \n",
            "\n",
            "_age \n",
            "\n",
            "heigh5 \n",
            "\n",
            "my_subject \n",
            "\n",
            "_my_name_1 \n",
            "\n",
            "3 in_valid variables names are:\n",
            "class \n",
            " it is a resrevword \n",
            "\n",
            "\n",
            "1name \n",
            " starting with digit \n",
            "\n",
            "\n",
            "my-name \n",
            " cannot contain hyphen \n",
            "\n",
            "\n"
          ]
        }
      ]
    },
    {
      "cell_type": "markdown",
      "source": [
        "Create variables with special naming styles: _hidden = 5, __private = 10, MAX_SIZE = 100. Print them.\n"
      ],
      "metadata": {
        "id": "aXrUFvxhRH-H"
      }
    },
    {
      "cell_type": "code",
      "source": [
        "_hidden=5\n",
        "__private=10\n",
        "MAX_SIZE=100\n",
        "print(\"_hidden=\",_hidden)\n",
        "print(\"__private=\",__private)\n",
        "print(\"MAX_SIZE=\",MAX_SIZE)"
      ],
      "metadata": {
        "colab": {
          "base_uri": "https://localhost:8080/"
        },
        "id": "6zf5Co4YX9dE",
        "outputId": "f0da00b7-cd46-4e2e-a470-a451b911797e"
      },
      "execution_count": null,
      "outputs": [
        {
          "output_type": "stream",
          "name": "stdout",
          "text": [
            "_hidden= 5\n",
            "__private= 10\n",
            "MAX_SIZE= 100\n"
          ]
        }
      ]
    },
    {
      "cell_type": "markdown",
      "source": [
        " Assign values x = 1, y = 2, z = 3 in a single line and print them.\n"
      ],
      "metadata": {
        "id": "E_e1P9l1YdTn"
      }
    },
    {
      "cell_type": "code",
      "source": [
        "x,y,z=1,2,3\n",
        "print(\"the values of variables 'x,y,z' are: \",x,y,z)"
      ],
      "metadata": {
        "colab": {
          "base_uri": "https://localhost:8080/"
        },
        "id": "P23ohkOCZjPc",
        "outputId": "8c67f2bc-91a2-4eb5-b94d-aa9ba95eaaf2"
      },
      "execution_count": null,
      "outputs": [
        {
          "output_type": "stream",
          "name": "stdout",
          "text": [
            "the values of variables 'x,y,z' are:  1 2 3\n"
          ]
        }
      ]
    },
    {
      "cell_type": "markdown",
      "source": [
        "Assign the same value 0 to three variables a, b, and c in one line and print them.\n"
      ],
      "metadata": {
        "id": "mbWLSXqNYn_8"
      }
    },
    {
      "cell_type": "code",
      "source": [
        "a=b=c=0\n",
        "print(\"the values of variables 'a,b,c' are: \",a,b,c)\n"
      ],
      "metadata": {
        "colab": {
          "base_uri": "https://localhost:8080/"
        },
        "id": "Tb_XKDA-aJFx",
        "outputId": "e6ae427e-0e71-4a4a-9c88-8b7c13ef4d48"
      },
      "execution_count": null,
      "outputs": [
        {
          "output_type": "stream",
          "name": "stdout",
          "text": [
            "the values of variables 'a,b,c' are:  0 0 0\n"
          ]
        }
      ]
    },
    {
      "cell_type": "markdown",
      "source": [
        " Create a variable temp = 100, print it, delete it using del, and then try to print it again to observe the error.\n"
      ],
      "metadata": {
        "id": "g15JCjQpYsPj"
      }
    },
    {
      "cell_type": "code",
      "source": [
        "temp=100\n",
        "print(\"the value of variable 'temp' is: \",temp)\n",
        "del temp\n",
        "print(\"the value of variable 'temp' is: \",temp)"
      ],
      "metadata": {
        "colab": {
          "base_uri": "https://localhost:8080/",
          "height": 196
        },
        "id": "rwEQXa74a31j",
        "outputId": "a101e524-81ee-46f6-dbdb-f56e6d86ccdb"
      },
      "execution_count": null,
      "outputs": [
        {
          "output_type": "stream",
          "name": "stdout",
          "text": [
            "the value of variable 'temp' is:  100\n"
          ]
        },
        {
          "output_type": "error",
          "ename": "NameError",
          "evalue": "name 'temp' is not defined",
          "traceback": [
            "\u001b[0;31m---------------------------------------------------------------------------\u001b[0m",
            "\u001b[0;31mNameError\u001b[0m                                 Traceback (most recent call last)",
            "\u001b[0;32m<ipython-input-28-091542f20194>\u001b[0m in \u001b[0;36m<cell line: 0>\u001b[0;34m()\u001b[0m\n\u001b[1;32m      2\u001b[0m \u001b[0mprint\u001b[0m\u001b[0;34m(\u001b[0m\u001b[0;34m\"the value of variable 'temp' is: \"\u001b[0m\u001b[0;34m,\u001b[0m\u001b[0mtemp\u001b[0m\u001b[0;34m)\u001b[0m\u001b[0;34m\u001b[0m\u001b[0;34m\u001b[0m\u001b[0m\n\u001b[1;32m      3\u001b[0m \u001b[0;32mdel\u001b[0m \u001b[0mtemp\u001b[0m\u001b[0;34m\u001b[0m\u001b[0;34m\u001b[0m\u001b[0m\n\u001b[0;32m----> 4\u001b[0;31m \u001b[0mprint\u001b[0m\u001b[0;34m(\u001b[0m\u001b[0;34m\"the value of variable 'temp' is: \"\u001b[0m\u001b[0;34m,\u001b[0m\u001b[0mtemp\u001b[0m\u001b[0;34m)\u001b[0m\u001b[0;34m\u001b[0m\u001b[0;34m\u001b[0m\u001b[0m\n\u001b[0m",
            "\u001b[0;31mNameError\u001b[0m: name 'temp' is not defined"
          ]
        }
      ]
    },
    {
      "cell_type": "markdown",
      "source": [
        "Create a string variable using triple single quotes ('''Hello''') and print it.\n"
      ],
      "metadata": {
        "id": "9Kw-_3yzYxJu"
      }
    },
    {
      "cell_type": "code",
      "source": [
        "a='''Hello'''\n",
        "print(a)"
      ],
      "metadata": {
        "colab": {
          "base_uri": "https://localhost:8080/"
        },
        "id": "X4x-bCOkbixi",
        "outputId": "f05063b9-c0ff-4e6a-d9a9-170884720ebe"
      },
      "execution_count": null,
      "outputs": [
        {
          "output_type": "stream",
          "name": "stdout",
          "text": [
            "Hello\n"
          ]
        }
      ]
    },
    {
      "cell_type": "markdown",
      "source": [
        ". Create a multi-line string using triple double quotes (\"\"\"This is line one.\\nThis is line two.\"\"\") and print it.\n"
      ],
      "metadata": {
        "id": "uGTa0Ox7Y2Fs"
      }
    },
    {
      "cell_type": "code",
      "source": [
        "x=\"\"\"This is line one.\\n This is line two\"\"\"\n",
        "print(x)"
      ],
      "metadata": {
        "colab": {
          "base_uri": "https://localhost:8080/"
        },
        "id": "8QFDQ98FbuM5",
        "outputId": "4c0132c0-3f51-47b9-dd60-bc29df206699"
      },
      "execution_count": null,
      "outputs": [
        {
          "output_type": "stream",
          "name": "stdout",
          "text": [
            "This is line one.\n",
            " This is line two\n"
          ]
        }
      ]
    },
    {
      "cell_type": "markdown",
      "source": [
        "Use the type() function to print the data type of each of the following: an integer, a float, a string, and a boolean.\n"
      ],
      "metadata": {
        "id": "7Z6_cnzSZD4T"
      }
    },
    {
      "cell_type": "code",
      "source": [
        "print(type(10))\n",
        "print(type(10.5))\n",
        "print(type(\"hello\"))\n",
        "print(type(True))"
      ],
      "metadata": {
        "colab": {
          "base_uri": "https://localhost:8080/"
        },
        "id": "dNHgFo4JcDw3",
        "outputId": "ebefd5a5-6648-4e7d-a9e0-acd69d8abf62"
      },
      "execution_count": null,
      "outputs": [
        {
          "output_type": "stream",
          "name": "stdout",
          "text": [
            "<class 'int'>\n",
            "<class 'float'>\n",
            "<class 'str'>\n",
            "<class 'bool'>\n"
          ]
        }
      ]
    },
    {
      "cell_type": "markdown",
      "source": [
        "Create a variable score = 85. Check if the score is greater than 50 and less than 100 using a logical expression. Print the result.\n",
        "\n"
      ],
      "metadata": {
        "id": "KPNp7ccRZFEx"
      }
    },
    {
      "cell_type": "code",
      "source": [
        "score=85\n",
        "print(\"check score is greater than 50 and less than 100\",(score>50) and (score<100))"
      ],
      "metadata": {
        "colab": {
          "base_uri": "https://localhost:8080/"
        },
        "id": "fp6YPAKmcRxZ",
        "outputId": "2a60bf8e-0ec9-41f7-8f55-3bf571e5d82a"
      },
      "execution_count": null,
      "outputs": [
        {
          "output_type": "stream",
          "name": "stdout",
          "text": [
            "check score is greater than 50 and less than 100 True\n"
          ]
        }
      ]
    },
    {
      "cell_type": "markdown",
      "source": [
        "Create a string message = \"Welcome to Python\". Use the in and not in operators to check the presence of the word \"Python\".\n"
      ],
      "metadata": {
        "id": "nIh50-2OZKzf"
      }
    },
    {
      "cell_type": "code",
      "source": [
        "message=\"Welcome to Python\"\n",
        "print(\"check Python is in the message \",\"Python\" in message)\n",
        "print(\"check python is not in the message \",\"Python\" not in message)"
      ],
      "metadata": {
        "colab": {
          "base_uri": "https://localhost:8080/"
        },
        "id": "qCE7ZStgc5-3",
        "outputId": "5c5d1847-5942-4275-c162-2512d4cba4f6"
      },
      "execution_count": null,
      "outputs": [
        {
          "output_type": "stream",
          "name": "stdout",
          "text": [
            "check Python is in the message  True\n",
            "check python is not in the message  False\n"
          ]
        }
      ]
    },
    {
      "cell_type": "markdown",
      "source": [
        "Write a code block using only comments to explain what your program is doing.\n"
      ],
      "metadata": {
        "id": "gYlKETrNZQya"
      }
    },
    {
      "cell_type": "code",
      "source": [
        "#code block of above program\n",
        "#declaring a variable of type string and assigning the value Welcome to Python in double quotes.\n",
        "#checking that the value is in the sequence and print the result.\n",
        "#checking that the value is nit in the sequence and print the result."
      ],
      "metadata": {
        "id": "VvvO_OVWd51K"
      },
      "execution_count": null,
      "outputs": []
    },
    {
      "cell_type": "markdown",
      "source": [
        "Create a variable data = 123. Use the id() function to print its memory address."
      ],
      "metadata": {
        "id": "sni4vY5lZa52"
      }
    },
    {
      "cell_type": "code",
      "source": [
        "data=123\n",
        "print(\"the memory address of variable 'data' is: \",id(data))"
      ],
      "metadata": {
        "colab": {
          "base_uri": "https://localhost:8080/"
        },
        "id": "JdnoiTARZgpZ",
        "outputId": "0298c43f-4968-460a-d448-d9de12639224"
      },
      "execution_count": null,
      "outputs": [
        {
          "output_type": "stream",
          "name": "stdout",
          "text": [
            "the memory address of variable 'data' is:  10754760\n"
          ]
        }
      ]
    }
  ]
}