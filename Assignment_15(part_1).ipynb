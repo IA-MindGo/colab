{
  "nbformat": 4,
  "nbformat_minor": 0,
  "metadata": {
    "colab": {
      "provenance": [],
      "authorship_tag": "ABX9TyOqHzJLmxO4SZUKAraBOjlY",
      "include_colab_link": true
    },
    "kernelspec": {
      "name": "python3",
      "display_name": "Python 3"
    },
    "language_info": {
      "name": "python"
    }
  },
  "cells": [
    {
      "cell_type": "markdown",
      "metadata": {
        "id": "view-in-github",
        "colab_type": "text"
      },
      "source": [
        "<a href=\"https://colab.research.google.com/github/IA-MindGo/colab/blob/main/Assignment_15(part_1).ipynb\" target=\"_parent\"><img src=\"https://colab.research.google.com/assets/colab-badge.svg\" alt=\"Open In Colab\"/></a>"
      ]
    },
    {
      "cell_type": "markdown",
      "source": [
        "Define a class Student with attributes name, age, score. Create an instance and print its attributes.\n"
      ],
      "metadata": {
        "id": "3aOL2ZwflgHB"
      }
    },
    {
      "cell_type": "code",
      "execution_count": 2,
      "metadata": {
        "colab": {
          "base_uri": "https://localhost:8080/"
        },
        "id": "jpGsYCJ8FJce",
        "outputId": "22f75950-326d-4ad7-ebf1-1711797d6a45"
      },
      "outputs": [
        {
          "output_type": "stream",
          "name": "stdout",
          "text": [
            "Name: John\n",
            "Age: 20\n",
            "Score: 85\n"
          ]
        }
      ],
      "source": [
        "class Student:\n",
        "  def __init__(self, name, age, score):\n",
        "    self.name = name\n",
        "    self.age = age\n",
        "    self.score = score\n",
        "\n",
        "  def print_attributes(self):\n",
        "    print(\"Name:\", self.name)\n",
        "    print(\"Age:\", self.age)\n",
        "    print(\"Score:\", self.score)\n",
        "\n",
        "student = Student(\"John\", 20, 85)\n",
        "student.print_attributes()"
      ]
    },
    {
      "cell_type": "markdown",
      "source": [
        "Add a method display_info() to Student to print a sentence about the student.\n"
      ],
      "metadata": {
        "id": "s2wkJtCbm-kp"
      }
    },
    {
      "cell_type": "code",
      "source": [
        "class Student:\n",
        "  def __init__(self, name, age, score):\n",
        "    self.name = name\n",
        "    self.age = age\n",
        "    self.score = score\n",
        "\n",
        "  def display_info(self):\n",
        "      print(f\"{self.name} is {self.age} years old and has a score of {self.score}.\")\n",
        "\n",
        "student = Student(\"John\", 20, 85)\n",
        "student.display_info()"
      ],
      "metadata": {
        "colab": {
          "base_uri": "https://localhost:8080/"
        },
        "id": "vOU5IXvmnQZm",
        "outputId": "956a3ea2-6f3e-4e75-a5be-baecd0fb55e0"
      },
      "execution_count": 4,
      "outputs": [
        {
          "output_type": "stream",
          "name": "stdout",
          "text": [
            "John is 20 years old and has a score of 85.\n"
          ]
        }
      ]
    },
    {
      "cell_type": "markdown",
      "source": [
        "Define a method has_passed() that returns True if score >= 50, else False.\n"
      ],
      "metadata": {
        "id": "4zMJzS9lnl3K"
      }
    },
    {
      "cell_type": "code",
      "source": [
        "class Student:\n",
        "  def __init__(self, name, age, score):\n",
        "    self.name = name\n",
        "    self.age = age\n",
        "    self.score = score\n",
        "\n",
        "  def has_passed(self):\n",
        "    return self.score >= 50\n",
        "\n",
        "student = Student(\"John\", 20, 85)\n",
        "print(f\"Student {student.name} is passed : {student.has_passed()}\")"
      ],
      "metadata": {
        "colab": {
          "base_uri": "https://localhost:8080/"
        },
        "id": "TU-exRz4ns20",
        "outputId": "c4a8ad09-7365-4ffc-fd36-cc5313702320"
      },
      "execution_count": 6,
      "outputs": [
        {
          "output_type": "stream",
          "name": "stdout",
          "text": [
            "Student John is passed : True\n"
          ]
        }
      ]
    },
    {
      "cell_type": "markdown",
      "source": [
        "Create a second class Teacher with name, subject, and a method teach(). Instantiate and call its method.\n"
      ],
      "metadata": {
        "id": "gYpGgPFwod7x"
      }
    },
    {
      "cell_type": "code",
      "source": [
        "class Teacher:\n",
        "  def __init__(self, name, subject):\n",
        "    self.name = name\n",
        "    self.subject = subject\n",
        "\n",
        "  def teach(self):\n",
        "    print(f\"{self.name} is teaching {self.subject}.\")\n",
        "\n",
        "teacher = Teacher(\"Sir Faizan\", \"Artifical Intellegence\")\n",
        "teacher.teach()"
      ],
      "metadata": {
        "colab": {
          "base_uri": "https://localhost:8080/"
        },
        "id": "4bMZwUoiojzs",
        "outputId": "7b0232f1-c490-490f-d5f5-939348a65345"
      },
      "execution_count": 8,
      "outputs": [
        {
          "output_type": "stream",
          "name": "stdout",
          "text": [
            "Sir Faizan is teaching Artifical Intellegence.\n"
          ]
        }
      ]
    },
    {
      "cell_type": "markdown",
      "source": [
        "Modify Student class to include a class variable school = \"GUJAR AI School\" and print it from instances.\n"
      ],
      "metadata": {
        "id": "Q0CpccRepEtD"
      }
    },
    {
      "cell_type": "code",
      "source": [
        "class Student:\n",
        "  school = \"GUJAR AI School\"\n",
        "\n",
        "  def __init__(self, name, age, score):\n",
        "    self.name = name\n",
        "    self.age = age\n",
        "    self.score = score\n",
        "\n",
        "  def print_attributes(self):\n",
        "    print(\"\\nName:\", self.name)\n",
        "    print(\"Age:\", self.age)\n",
        "    print(\"Score:\", self.score)\n",
        "    print(\"School:\", self.school)\n",
        "\n",
        "student = Student(\"John\", 20, 85)\n",
        "student.print_attributes()\n",
        "student1 = Student(\"Isma\", 20, 85)\n",
        "student1.print_attributes()"
      ],
      "metadata": {
        "colab": {
          "base_uri": "https://localhost:8080/"
        },
        "id": "Zgge_fiupJbf",
        "outputId": "0a9f297e-371a-45f9-d6f6-96fed8eb62a3"
      },
      "execution_count": 12,
      "outputs": [
        {
          "output_type": "stream",
          "name": "stdout",
          "text": [
            "\n",
            "Name: John\n",
            "Age: 20\n",
            "Score: 85\n",
            "School: GUJAR AI School\n",
            "\n",
            "Name: Isma\n",
            "Age: 20\n",
            "Score: 85\n",
            "School: GUJAR AI School\n"
          ]
        }
      ]
    },
    {
      "cell_type": "markdown",
      "source": [
        "Create two student objects and compare if they are instances of Student using isinstance().\n"
      ],
      "metadata": {
        "id": "gHxWvO0Ups9w"
      }
    },
    {
      "cell_type": "code",
      "source": [
        "class Student:\n",
        "  def __init__(self, name, age, score):\n",
        "    self.name = name\n",
        "    self.age = age\n",
        "    self.score = score\n",
        "\n",
        "student = Student(\"John\", 20, 85)\n",
        "student1 = Student(\"Isma\", 20, 85)\n",
        "print(f\"Is '''student''' an instance of a class Student: {isinstance(student, Student)}\")\n",
        "print(f\"Is '''student1''' an instance of class Student : {isinstance(student1, Student)}\")"
      ],
      "metadata": {
        "colab": {
          "base_uri": "https://localhost:8080/"
        },
        "id": "QIqr2Safpwlz",
        "outputId": "bea2d963-c686-44b9-ed80-fe859915ce25"
      },
      "execution_count": 15,
      "outputs": [
        {
          "output_type": "stream",
          "name": "stdout",
          "text": [
            "Is '''student''' an instance of a class Student: True\n",
            "Is '''student1''' an instance of class Student : True\n"
          ]
        }
      ]
    },
    {
      "cell_type": "markdown",
      "source": [
        "Create a Course class with attributes title and students (a list). Add a method to add students.\n"
      ],
      "metadata": {
        "id": "7_1Lt8A3rGT4"
      }
    },
    {
      "cell_type": "code",
      "source": [
        "class Course:\n",
        "  def __init__(self, title):\n",
        "    self.title = title\n",
        "    self.students = []\n",
        "\n",
        "  def add_student(self, student):\n",
        "    self.students.append(student)\n",
        "\n",
        "course = Course(\"Artifical Intellegence\")\n",
        "course.add_student(\"Isma\")\n",
        "course.add_student(\"Rashid\")\n",
        "print(f\"Students in {course.title} : {course.students}\")\n"
      ],
      "metadata": {
        "colab": {
          "base_uri": "https://localhost:8080/"
        },
        "id": "9dxguT4Fq7SW",
        "outputId": "161f0dc6-51c2-4625-8deb-29f85eb0662e"
      },
      "execution_count": 19,
      "outputs": [
        {
          "output_type": "stream",
          "name": "stdout",
          "text": [
            "Students in Artifical Intellegence : ['Isma', 'Rashid']\n"
          ]
        }
      ]
    },
    {
      "cell_type": "markdown",
      "source": [
        "Write a method in Course to compute the average score of enrolled students.\n"
      ],
      "metadata": {
        "id": "XbT2iOw0s31V"
      }
    },
    {
      "cell_type": "code",
      "source": [
        "class Course:\n",
        "  def __init__(self, title):\n",
        "    self.title = title\n",
        "    self.students = []\n",
        "\n",
        "  def add_student(self, student):\n",
        "    self.students.append(student)\n",
        "\n",
        "  def average_score(self):\n",
        "    total_score = 0\n",
        "    for student in self.students:\n",
        "      total_score += student.score\n",
        "    return total_score / len(self.students)\n",
        "\n",
        "course = Course(\"Artifical Intellegence\")\n",
        "course.add_student(Student(\"Isma\", 20, 85))\n",
        "course.add_student(Student(\"Rashid\", 20, 85))\n",
        "print(f\"Average score of students in {course.title} : {course.average_score()}\")"
      ],
      "metadata": {
        "colab": {
          "base_uri": "https://localhost:8080/"
        },
        "id": "zdykT66ds-eJ",
        "outputId": "cae86ac5-ba36-4499-88a9-3b882a748cb4"
      },
      "execution_count": 21,
      "outputs": [
        {
          "output_type": "stream",
          "name": "stdout",
          "text": [
            "Average score of students in Artifical Intellegence : 85.0\n"
          ]
        }
      ]
    },
    {
      "cell_type": "markdown",
      "source": [
        "Override the _str_() method in Student class to return a custom string.\n"
      ],
      "metadata": {
        "id": "kd_skMwKtpNQ"
      }
    },
    {
      "cell_type": "code",
      "source": [
        "class Student:\n",
        "  def __init__(self, name, age, score):\n",
        "    self.name = name\n",
        "    self.age = age\n",
        "    self.score = score\n",
        "\n",
        "  def __str__(self):\n",
        "    return f\"Name: {self.name}, Age: {self.age}, Score: {self.score}\"\n",
        "\n",
        "student = Student(\"Isma\", 20, 85)\n",
        "print(student)\n"
      ],
      "metadata": {
        "colab": {
          "base_uri": "https://localhost:8080/"
        },
        "id": "9nnMKjE9twy3",
        "outputId": "7922d234-3867-4d4b-8869-d335d895846d"
      },
      "execution_count": 22,
      "outputs": [
        {
          "output_type": "stream",
          "name": "stdout",
          "text": [
            "Name: Isma, Age: 20, Score: 85\n"
          ]
        }
      ]
    },
    {
      "cell_type": "markdown",
      "source": [
        " Use the dir() function to list attributes & methods of an instance of any class.\n"
      ],
      "metadata": {
        "id": "ztTDdIk3t-8E"
      }
    },
    {
      "cell_type": "code",
      "source": [
        "class Student:\n",
        "  def __init__(self, name, age, score):\n",
        "    self.name = name\n",
        "    self.age = age\n",
        "    self.score = score\n",
        "\n",
        "student = Student(\"Isma\", 20, 85)\n",
        "print(dir(student))"
      ],
      "metadata": {
        "colab": {
          "base_uri": "https://localhost:8080/"
        },
        "id": "ugZ36hYpuECX",
        "outputId": "0dff9249-b23e-4a6c-e04c-a5d459e35270"
      },
      "execution_count": 23,
      "outputs": [
        {
          "output_type": "stream",
          "name": "stdout",
          "text": [
            "['__class__', '__delattr__', '__dict__', '__dir__', '__doc__', '__eq__', '__format__', '__ge__', '__getattribute__', '__getstate__', '__gt__', '__hash__', '__init__', '__init_subclass__', '__le__', '__lt__', '__module__', '__ne__', '__new__', '__reduce__', '__reduce_ex__', '__repr__', '__setattr__', '__sizeof__', '__str__', '__subclasshook__', '__weakref__', 'age', 'name', 'score']\n"
          ]
        }
      ]
    }
  ]
}