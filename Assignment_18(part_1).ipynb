{
  "nbformat": 4,
  "nbformat_minor": 0,
  "metadata": {
    "colab": {
      "provenance": [],
      "authorship_tag": "ABX9TyNrejgWWtjst4QEhoVXNErA",
      "include_colab_link": true
    },
    "kernelspec": {
      "name": "python3",
      "display_name": "Python 3"
    },
    "language_info": {
      "name": "python"
    }
  },
  "cells": [
    {
      "cell_type": "markdown",
      "metadata": {
        "id": "view-in-github",
        "colab_type": "text"
      },
      "source": [
        "<a href=\"https://colab.research.google.com/github/IA-MindGo/colab/blob/main/Assignment_18(part_1).ipynb\" target=\"_parent\"><img src=\"https://colab.research.google.com/assets/colab-badge.svg\" alt=\"Open In Colab\"/></a>"
      ]
    },
    {
      "cell_type": "markdown",
      "source": [
        "Create a class BankAccount with private attribute __balance, and methods deposit() and withdraw() to demonstrate encapsulation.\n",
        "\n",
        "Implement a subclass SavingsAccount that inherits BankAccount and adds an add_interest() method.\n"
      ],
      "metadata": {
        "id": "EYNd-lhA2OJm"
      }
    },
    {
      "cell_type": "code",
      "execution_count": null,
      "metadata": {
        "colab": {
          "base_uri": "https://localhost:8080/"
        },
        "id": "jrWthydO1oKV",
        "outputId": "6f224ea7-1835-4cbe-f8b8-e6a5aba5a488"
      },
      "outputs": [
        {
          "output_type": "stream",
          "name": "stdout",
          "text": [
            "Curreny balance after deposit is  1500.0\n",
            "Balance after adding interest rate is  3150.0\n"
          ]
        }
      ],
      "source": [
        "class BankAccount:\n",
        "    def __init__(self, balance):\n",
        "        self.__balance = float(balance)\n",
        "\n",
        "    def deposit(self, amount):\n",
        "        self.__balance += float(amount)\n",
        "        return self.__balance\n",
        "\n",
        "    def withdraw(self, amount):\n",
        "        if self.__balance >= amount:\n",
        "            self.__balance -= amount\n",
        "            return True\n",
        "        else:\n",
        "            return False\n",
        "\n",
        "    def get_balance(self):\n",
        "        return self.__balance\n",
        "\n",
        "class SavingsAccount(BankAccount):\n",
        "    def __init__(self, balance, interest_rate):\n",
        "        super().__init__(balance)\n",
        "        self.interest_rate = interest_rate\n",
        "\n",
        "    def add_interest(self):\n",
        "      interest = self.get_balance() * self.interest_rate\n",
        "      self.deposit(interest)\n",
        "\n",
        "person1 = BankAccount(1000)\n",
        "person1.deposit(500)\n",
        "print(\"Curreny balance after deposit is \",person1.get_balance())\n",
        "\n",
        "person2 = SavingsAccount(3000 , 0.05)\n",
        "person2.add_interest()\n",
        "print(\"Balance after adding interest rate is \",person2.get_balance())"
      ]
    },
    {
      "cell_type": "markdown",
      "source": [
        " Show method resolution order (MRO) using multiple inheritance: define classes A, B, C(A, B) and print C.mro()."
      ],
      "metadata": {
        "id": "-vRVlFxn9Csa"
      }
    },
    {
      "cell_type": "code",
      "source": [
        "class A:\n",
        "  def greet():\n",
        "    return \"Hello\"\n",
        "\n",
        "class B:\n",
        "  def greet():\n",
        "    return \"Hi\"\n",
        "\n",
        "class C(A,B):\n",
        "  pass\n",
        "\n",
        "print(C.mro())\n",
        "print(C.greet())"
      ],
      "metadata": {
        "colab": {
          "base_uri": "https://localhost:8080/"
        },
        "id": "qohbSDJv9IyA",
        "outputId": "10554c88-cfda-4f9c-de96-ee8431143fce"
      },
      "execution_count": null,
      "outputs": [
        {
          "output_type": "stream",
          "name": "stdout",
          "text": [
            "[<class '__main__.C'>, <class '__main__.A'>, <class '__main__.B'>, <class 'object'>]\n",
            "Hello\n"
          ]
        }
      ]
    },
    {
      "cell_type": "markdown",
      "source": [
        "Demonstrate polymorphism: create classes Cat and Dog each with method speak(), and write a function make_speak(animal) that calls the correct method.\n"
      ],
      "metadata": {
        "id": "MTJEWGpQ-HUA"
      }
    },
    {
      "cell_type": "code",
      "source": [
        "class Cat:\n",
        "  def speak(self):\n",
        "    return \"Cat speak Meow\"\n",
        "\n",
        "class Dog:\n",
        "  def speak(self):\n",
        "    return \"Dog speak Woof\"\n",
        "\n",
        "def make_speak(animal):\n",
        "  return animal.speak()\n",
        "\n",
        "cat = Cat()\n",
        "dog = Dog()\n",
        "\n",
        "print(make_speak(cat))\n",
        "print(make_speak(dog))"
      ],
      "metadata": {
        "colab": {
          "base_uri": "https://localhost:8080/"
        },
        "id": "UNgiPEFO-KaM",
        "outputId": "935675f3-180a-4503-c968-c9fb7a393eb4"
      },
      "execution_count": null,
      "outputs": [
        {
          "output_type": "stream",
          "name": "stdout",
          "text": [
            "Cat speak Meow\n",
            "Dog speak Woof\n"
          ]
        }
      ]
    },
    {
      "cell_type": "markdown",
      "source": [
        "Create a class Employee with attribute salary, then subclass Manager(Employee) and override display_salary() to add a bonus.\n",
        "\n",
        "Use the super() function inside the overridden method for proper initialization and output.\n",
        "\n",
        "Implement operator overloading: define _eq_() in Employee to compare employees by salary.\n",
        "\n",
        "Create a class Logger and use it as a decorator to log method calls on a target class.\n",
        "\n",
        "Demonstrate dynamic attribute creation by using setattr() to add an attribute department to an instance of Employee.\n",
        "\n",
        "Use the built-in isinstance() and issubclass() functions in code to verify object relationships and print meaningful messages.\n",
        "\n"
      ],
      "metadata": {
        "id": "Q22F9J5X-1la"
      }
    },
    {
      "cell_type": "code",
      "source": [
        "# -------------------------------\n",
        "# Employee Base Class\n",
        "# -------------------------------\n",
        "class Employee:\n",
        "    def __init__(self, salary):\n",
        "        self.salary = salary\n",
        "\n",
        "    def display_salary(self):\n",
        "        print(f\"Salary: {self.salary}\")\n",
        "\n",
        "    # Operator overloading: compare employees by salary\n",
        "    def __eq__(self, other):\n",
        "        if isinstance(other, Employee):\n",
        "            return self.salary == other.salary\n",
        "        return NotImplemented\n",
        "\n",
        "\n",
        "# -------------------------------\n",
        "# Manager Subclass (Inheritance + super())\n",
        "# -------------------------------\n",
        "class Manager(Employee):\n",
        "    def __init__(self, salary, bonus):\n",
        "        super().__init__(salary)\n",
        "        self.bonus = bonus\n",
        "\n",
        "    def display_salary(self):   # Method overriding\n",
        "        super().display_salary()\n",
        "        print(f\"Bonus: {self.bonus}\")\n",
        "        print(f\"Total: {self.salary + self.bonus}\")\n",
        "\n",
        "\n",
        "# -------------------------------\n",
        "# Class Decorator for Logging\n",
        "# -------------------------------\n",
        "class Logger:\n",
        "    def __init__(self, cls):\n",
        "        self.cls = cls\n",
        "\n",
        "    def __call__(self, *args, **kwargs):\n",
        "        instance = self.cls(*args, **kwargs)\n",
        "        for attr_name in dir(instance):\n",
        "            attr = getattr(instance, attr_name)\n",
        "            if callable(attr) and not attr_name.startswith(\"__\"):\n",
        "                setattr(instance, attr_name, self.log_method(attr))\n",
        "        return instance\n",
        "\n",
        "    def log_method(self, method):\n",
        "        def wrapper(*args, **kwargs):\n",
        "            print(f\"[LOG] Calling {method.__name__} with args={args[1:]}, kwargs={kwargs}\")\n",
        "            result = method(*args, **kwargs)\n",
        "            print(f\"[LOG] Finished {method.__name__}\")\n",
        "            return result\n",
        "        return wrapper\n",
        "\n",
        "\n",
        "# -------------------------------\n",
        "# Developer Subclass with Logger\n",
        "# -------------------------------\n",
        "@Logger\n",
        "class Developer(Employee):\n",
        "    def __init__(self, salary, language):\n",
        "        super().__init__(salary)\n",
        "        self.language = language\n",
        "\n",
        "    def show_info(self):\n",
        "        print(f\"Developer works with {self.language}\")\n",
        "\n",
        "\n",
        "# -------------------------------\n",
        "# Demo\n",
        "# -------------------------------\n",
        "# Employees\n",
        "emp1 = Employee(5000)\n",
        "emp2 = Employee(5000)\n",
        "emp3 = Employee(6000)\n",
        "\n",
        "print(\"\\n--- Equality Check ---\")\n",
        "print(\"emp1 == emp2 ?\", emp1 == emp2)   # True\n",
        "print(\"emp1 == emp3 ?\", emp1 == emp3)   # False\n",
        "\n",
        "# Manager\n",
        "print(\"\\n--- Manager Salary ---\")\n",
        "mgr = Manager(7000, 2000)\n",
        "mgr.display_salary()\n",
        "\n",
        "# Developer with Logger\n",
        "print(\"\\n--- Developer Info ---\")\n",
        "dev = Developer(4000, \"Python\")\n",
        "dev.show_info()\n",
        "\n",
        "# Dynamic Attribute\n",
        "print(\"\\n--- Dynamic Attribute ---\")\n",
        "setattr(emp1, \"department\", \"HR\")\n",
        "print(\"emp1 Department:\", emp1.department)\n",
        "\n",
        "print(\"\\n--- isinstance / issubclass Checks ---\")\n",
        "\n",
        "# isinstance works on OBJECTS\n",
        "print(\"Is mgr an instance of Manager?\", isinstance(mgr, Manager))\n",
        "print(\"Is mgr an instance of Employee?\", isinstance(mgr, Employee))\n",
        "print(\"Is dev an instance of Employee?\", isinstance(dev, Employee))\n",
        "\n",
        "# issubclass works on CLASSES\n",
        "print(\"Is Manager a subclass of Employee?\", issubclass(Manager, Employee))\n",
        "print(\"Is Employee a subclass of Manager?\", issubclass(Employee, Manager))"
      ],
      "metadata": {
        "colab": {
          "base_uri": "https://localhost:8080/"
        },
        "id": "p3xPVFjU_K7o",
        "outputId": "1fa64462-0a5b-497f-dd8a-91ca5f0ec226"
      },
      "execution_count": null,
      "outputs": [
        {
          "output_type": "stream",
          "name": "stdout",
          "text": [
            "\n",
            "--- Equality Check ---\n",
            "emp1 == emp2 ? True\n",
            "emp1 == emp3 ? False\n",
            "\n",
            "--- Manager Salary ---\n",
            "Salary: 7000\n",
            "Bonus: 2000\n",
            "Total: 9000\n",
            "\n",
            "--- Developer Info ---\n",
            "[LOG] Calling show_info with args=(), kwargs={}\n",
            "Developer works with Python\n",
            "[LOG] Finished show_info\n",
            "\n",
            "--- Dynamic Attribute ---\n",
            "emp1 Department: HR\n",
            "\n",
            "--- isinstance / issubclass Checks ---\n",
            "Is mgr an instance of Manager? True\n",
            "Is mgr an instance of Employee? True\n",
            "Is dev an instance of Employee? True\n",
            "Is Manager a subclass of Employee? True\n",
            "Is Employee a subclass of Manager? False\n"
          ]
        }
      ]
    }
  ]
}